{
  "nbformat": 4,
  "nbformat_minor": 0,
  "metadata": {
    "colab": {
      "name": "project.ipynb",
      "provenance": [],
      "authorship_tag": "ABX9TyN7P6q2MgeCRFYPTAIjfQcr",
      "include_colab_link": true
    },
    "kernelspec": {
      "name": "python3",
      "display_name": "Python 3"
    }
  },
  "cells": [
    {
      "cell_type": "markdown",
      "metadata": {
        "id": "view-in-github",
        "colab_type": "text"
      },
      "source": [
        "<a href=\"https://colab.research.google.com/github/bhavya2810/Bhavya_INFO5731/blob/master/project.ipynb\" target=\"_parent\"><img src=\"https://colab.research.google.com/assets/colab-badge.svg\" alt=\"Open In Colab\"/></a>"
      ]
    },
    {
      "cell_type": "markdown",
      "metadata": {
        "id": "QHM_dRP6qb4x"
      },
      "source": [
        "## **Data Reading**"
      ]
    },
    {
      "cell_type": "code",
      "metadata": {
        "colab": {
          "base_uri": "https://localhost:8080/",
          "height": 402
        },
        "id": "dH1S1v2Dqjbp",
        "outputId": "4b123dd8-0c27-493e-ea12-bbc796963f56"
      },
      "source": [
        "import pandas as pd\n",
        "data = pd.read_csv(\"/content/final_data.csv\")\n",
        "data"
      ],
      "execution_count": 22,
      "outputs": [
        {
          "output_type": "execute_result",
          "data": {
            "text/html": [
              "<div>\n",
              "<style scoped>\n",
              "    .dataframe tbody tr th:only-of-type {\n",
              "        vertical-align: middle;\n",
              "    }\n",
              "\n",
              "    .dataframe tbody tr th {\n",
              "        vertical-align: top;\n",
              "    }\n",
              "\n",
              "    .dataframe thead th {\n",
              "        text-align: right;\n",
              "    }\n",
              "</style>\n",
              "<table border=\"1\" class=\"dataframe\">\n",
              "  <thead>\n",
              "    <tr style=\"text-align: right;\">\n",
              "      <th></th>\n",
              "      <th>Contribution</th>\n",
              "      <th>Annotation 1</th>\n",
              "      <th>Annotation 2</th>\n",
              "      <th>Unnamed: 3</th>\n",
              "    </tr>\n",
              "  </thead>\n",
              "  <tbody>\n",
              "    <tr>\n",
              "      <th>0</th>\n",
              "      <td>We introduce in this paper a novel method, tha...</td>\n",
              "      <td>New Algorithm/ Method</td>\n",
              "      <td>New Algorithm/ Method</td>\n",
              "      <td>NaN</td>\n",
              "    </tr>\n",
              "    <tr>\n",
              "      <th>1</th>\n",
              "      <td>we pro-pose to build multi-task datasets for t...</td>\n",
              "      <td>Dataset Creation</td>\n",
              "      <td>Dataset Creation</td>\n",
              "      <td>NaN</td>\n",
              "    </tr>\n",
              "    <tr>\n",
              "      <th>2</th>\n",
              "      <td>Hence our model can grasp\\nuseful word-level s...</td>\n",
              "      <td>Model Optimization</td>\n",
              "      <td>Model Optimization</td>\n",
              "      <td>NaN</td>\n",
              "    </tr>\n",
              "    <tr>\n",
              "      <th>3</th>\n",
              "      <td>The above operations provide a\\nwealth of reso...</td>\n",
              "      <td>Resources</td>\n",
              "      <td>Resources</td>\n",
              "      <td>NaN</td>\n",
              "    </tr>\n",
              "    <tr>\n",
              "      <th>4</th>\n",
              "      <td>For document\\nlevel, we reused last year’s Eng...</td>\n",
              "      <td>Performance Evaluation</td>\n",
              "      <td>Performance Evaluation</td>\n",
              "      <td>NaN</td>\n",
              "    </tr>\n",
              "    <tr>\n",
              "      <th>...</th>\n",
              "      <td>...</td>\n",
              "      <td>...</td>\n",
              "      <td>...</td>\n",
              "      <td>...</td>\n",
              "    </tr>\n",
              "    <tr>\n",
              "      <th>3099</th>\n",
              "      <td>we address a sentiment classification task for...</td>\n",
              "      <td>Performance Evaluation</td>\n",
              "      <td>Performance Evaluation</td>\n",
              "      <td>NaN</td>\n",
              "    </tr>\n",
              "    <tr>\n",
              "      <th>3100</th>\n",
              "      <td>We analyze the ambiguity of hashtag usages and...</td>\n",
              "      <td>Performance Evaluation</td>\n",
              "      <td>Performance Evaluation</td>\n",
              "      <td>NaN</td>\n",
              "    </tr>\n",
              "    <tr>\n",
              "      <th>3101</th>\n",
              "      <td>we explore the potential for generalizing clas...</td>\n",
              "      <td>Theory Proposal</td>\n",
              "      <td>Theory Proposal</td>\n",
              "      <td>NaN</td>\n",
              "    </tr>\n",
              "    <tr>\n",
              "      <th>3102</th>\n",
              "      <td>we present SQUADRUN, a new dataset that combin...</td>\n",
              "      <td>Dataset Creation</td>\n",
              "      <td>Dataset Creation</td>\n",
              "      <td>NaN</td>\n",
              "    </tr>\n",
              "    <tr>\n",
              "      <th>3103</th>\n",
              "      <td>We propose a novel paradigm of grounding compa...</td>\n",
              "      <td>New Algorithm/ Method</td>\n",
              "      <td>New Algorithm/ Method</td>\n",
              "      <td>NaN</td>\n",
              "    </tr>\n",
              "  </tbody>\n",
              "</table>\n",
              "<p>3104 rows × 4 columns</p>\n",
              "</div>"
            ],
            "text/plain": [
              "                                           Contribution  ... Unnamed: 3\n",
              "0     We introduce in this paper a novel method, tha...  ...        NaN\n",
              "1     we pro-pose to build multi-task datasets for t...  ...        NaN\n",
              "2     Hence our model can grasp\\nuseful word-level s...  ...        NaN\n",
              "3     The above operations provide a\\nwealth of reso...  ...        NaN\n",
              "4     For document\\nlevel, we reused last year’s Eng...  ...        NaN\n",
              "...                                                 ...  ...        ...\n",
              "3099  we address a sentiment classification task for...  ...        NaN\n",
              "3100  We analyze the ambiguity of hashtag usages and...  ...        NaN\n",
              "3101  we explore the potential for generalizing clas...  ...        NaN\n",
              "3102  we present SQUADRUN, a new dataset that combin...  ...        NaN\n",
              "3103  We propose a novel paradigm of grounding compa...  ...        NaN\n",
              "\n",
              "[3104 rows x 4 columns]"
            ]
          },
          "metadata": {
            "tags": []
          },
          "execution_count": 22
        }
      ]
    },
    {
      "cell_type": "code",
      "metadata": {
        "id": "w92DpEJafLpm"
      },
      "source": [
        " data['Annotation 1'] = data['Annotation 1'].apply(lambda x: str(x))\n",
        " data['Annotation 2'] = data['Annotation 2'].apply(lambda x: str(x))"
      ],
      "execution_count": 2,
      "outputs": []
    },
    {
      "cell_type": "markdown",
      "metadata": {
        "id": "QXWD05iPp10U"
      },
      "source": [
        "# **Kappa Score**"
      ]
    },
    {
      "cell_type": "code",
      "metadata": {
        "id": "ebp7BFwfxycK"
      },
      "source": [
        "from sklearn import metrics\n",
        "kappa_value = metrics.cohen_kappa_score(data['Annotation 1'], data['Annotation 2'])"
      ],
      "execution_count": 3,
      "outputs": []
    },
    {
      "cell_type": "code",
      "metadata": {
        "colab": {
          "base_uri": "https://localhost:8080/"
        },
        "id": "DyVlV1F3yK6B",
        "outputId": "7741ac14-55b8-4dc9-b8a7-0ad76ad1a73c"
      },
      "source": [
        "kappa_value"
      ],
      "execution_count": 4,
      "outputs": [
        {
          "output_type": "execute_result",
          "data": {
            "text/plain": [
              "0.878422658938022"
            ]
          },
          "metadata": {
            "tags": []
          },
          "execution_count": 4
        }
      ]
    },
    {
      "cell_type": "markdown",
      "metadata": {
        "id": "VQsK-bfCp6Cg"
      },
      "source": [
        "# **Data Cleaning**"
      ]
    },
    {
      "cell_type": "code",
      "metadata": {
        "colab": {
          "base_uri": "https://localhost:8080/"
        },
        "id": "YZip5NRYUrjN",
        "outputId": "7be207ac-b648-4855-b87d-2f2feadc0d47"
      },
      "source": [
        "import nltk\n",
        "nltk.download('stopwords')"
      ],
      "execution_count": 5,
      "outputs": [
        {
          "output_type": "stream",
          "text": [
            "[nltk_data] Downloading package stopwords to /root/nltk_data...\n",
            "[nltk_data]   Unzipping corpora/stopwords.zip.\n"
          ],
          "name": "stdout"
        },
        {
          "output_type": "execute_result",
          "data": {
            "text/plain": [
              "True"
            ]
          },
          "metadata": {
            "tags": []
          },
          "execution_count": 5
        }
      ]
    },
    {
      "cell_type": "code",
      "metadata": {
        "colab": {
          "base_uri": "https://localhost:8080/"
        },
        "id": "cm1bTIs9Vcui",
        "outputId": "11cd45df-a8e3-468d-8a76-c39b5cd6c8f5"
      },
      "source": [
        "import nltk\n",
        "nltk.download('punkt')"
      ],
      "execution_count": 6,
      "outputs": [
        {
          "output_type": "stream",
          "text": [
            "[nltk_data] Downloading package punkt to /root/nltk_data...\n",
            "[nltk_data]   Unzipping tokenizers/punkt.zip.\n"
          ],
          "name": "stdout"
        },
        {
          "output_type": "execute_result",
          "data": {
            "text/plain": [
              "True"
            ]
          },
          "metadata": {
            "tags": []
          },
          "execution_count": 6
        }
      ]
    },
    {
      "cell_type": "code",
      "metadata": {
        "id": "Po59SwcfydFk"
      },
      "source": [
        " data['Lower Case'] = data['Contribution'].apply(lambda x: \" \".join(x.lower() for x in x.split()))"
      ],
      "execution_count": 7,
      "outputs": []
    },
    {
      "cell_type": "code",
      "metadata": {
        "id": "YzCvUCTPULil"
      },
      "source": [
        "data['Remove Punc'] = data['Lower Case'].str.replace('[^\\w\\s]','')"
      ],
      "execution_count": 8,
      "outputs": []
    },
    {
      "cell_type": "code",
      "metadata": {
        "id": "xuJzA7ibUUkZ"
      },
      "source": [
        "from nltk.corpus import stopwords\n",
        "stop_words = stopwords.words('english')\n",
        "data['After Stop words Removal'] = data['Remove Punc'].apply(lambda x: \" \".join(x for x in x.split() if x not in stop_words))"
      ],
      "execution_count": 9,
      "outputs": []
    },
    {
      "cell_type": "code",
      "metadata": {
        "id": "BgYkJ56mUoWf"
      },
      "source": [
        "from nltk.tokenize import sent_tokenize\n",
        "data['sentence tokenize'] = data['After Stop words Removal'].apply(lambda x: sent_tokenize(x))"
      ],
      "execution_count": 10,
      "outputs": []
    },
    {
      "cell_type": "code",
      "metadata": {
        "id": "INR6bfRzVR4Z"
      },
      "source": [
        "from textblob import TextBlob\n",
        "data['Tokenization'] = data['After Stop words Removal'].apply(lambda x: TextBlob(x).words)"
      ],
      "execution_count": 11,
      "outputs": []
    },
    {
      "cell_type": "code",
      "metadata": {
        "colab": {
          "base_uri": "https://localhost:8080/"
        },
        "id": "ezDyNVvnVXqQ",
        "outputId": "2ed93023-9cbc-4e5f-ee4a-889201d4be24"
      },
      "source": [
        "from textblob import Word\n",
        "import nltk\n",
        "nltk.download('wordnet')\n",
        "\n",
        "data['After Lemmatization'] = data['Tokenization'].apply(lambda x: \" \".join([Word(word).lemmatize() for word in str(x).split()]))"
      ],
      "execution_count": 12,
      "outputs": [
        {
          "output_type": "stream",
          "text": [
            "[nltk_data] Downloading package wordnet to /root/nltk_data...\n",
            "[nltk_data]   Unzipping corpora/wordnet.zip.\n"
          ],
          "name": "stdout"
        }
      ]
    },
    {
      "cell_type": "code",
      "metadata": {
        "colab": {
          "base_uri": "https://localhost:8080/",
          "height": 481
        },
        "id": "vbc2Cd3rWHvV",
        "outputId": "04e2f923-a321-4723-fcf7-4bf22f1da06b"
      },
      "source": [
        "data.head()"
      ],
      "execution_count": 13,
      "outputs": [
        {
          "output_type": "execute_result",
          "data": {
            "text/html": [
              "<div>\n",
              "<style scoped>\n",
              "    .dataframe tbody tr th:only-of-type {\n",
              "        vertical-align: middle;\n",
              "    }\n",
              "\n",
              "    .dataframe tbody tr th {\n",
              "        vertical-align: top;\n",
              "    }\n",
              "\n",
              "    .dataframe thead th {\n",
              "        text-align: right;\n",
              "    }\n",
              "</style>\n",
              "<table border=\"1\" class=\"dataframe\">\n",
              "  <thead>\n",
              "    <tr style=\"text-align: right;\">\n",
              "      <th></th>\n",
              "      <th>Contribution</th>\n",
              "      <th>Annotation 1</th>\n",
              "      <th>Annotation 2</th>\n",
              "      <th>Unnamed: 3</th>\n",
              "      <th>Lower Case</th>\n",
              "      <th>Remove Punc</th>\n",
              "      <th>After Stop words Removal</th>\n",
              "      <th>sentence tokenize</th>\n",
              "      <th>Tokenization</th>\n",
              "      <th>After Lemmatization</th>\n",
              "    </tr>\n",
              "  </thead>\n",
              "  <tbody>\n",
              "    <tr>\n",
              "      <th>0</th>\n",
              "      <td>We introduce in this paper a novel method, tha...</td>\n",
              "      <td>New Algorithm/ Method</td>\n",
              "      <td>New Algorithm/ Method</td>\n",
              "      <td>NaN</td>\n",
              "      <td>we introduce in this paper a novel method, tha...</td>\n",
              "      <td>we introduce in this paper a novel method that...</td>\n",
              "      <td>introduce paper novel method call multitask su...</td>\n",
              "      <td>[introduce paper novel method call multitask s...</td>\n",
              "      <td>[introduce, paper, novel, method, call, multit...</td>\n",
              "      <td>['introduce', 'paper', 'novel', 'method', 'cal...</td>\n",
              "    </tr>\n",
              "    <tr>\n",
              "      <th>1</th>\n",
              "      <td>we pro-pose to build multi-task datasets for t...</td>\n",
              "      <td>Dataset Creation</td>\n",
              "      <td>Dataset Creation</td>\n",
              "      <td>NaN</td>\n",
              "      <td>we pro-pose to build multi-task datasets for t...</td>\n",
              "      <td>we propose to build multitask datasets for the...</td>\n",
              "      <td>propose build multitask datasets news tweets d...</td>\n",
              "      <td>[propose build multitask datasets news tweets ...</td>\n",
              "      <td>[propose, build, multitask, datasets, news, tw...</td>\n",
              "      <td>['propose', 'build', 'multitask', 'datasets', ...</td>\n",
              "    </tr>\n",
              "    <tr>\n",
              "      <th>2</th>\n",
              "      <td>Hence our model can grasp\\nuseful word-level s...</td>\n",
              "      <td>Model Optimization</td>\n",
              "      <td>Model Optimization</td>\n",
              "      <td>NaN</td>\n",
              "      <td>hence our model can grasp useful word-level se...</td>\n",
              "      <td>hence our model can grasp useful wordlevel sem...</td>\n",
              "      <td>hence model grasp useful wordlevel semantic in...</td>\n",
              "      <td>[hence model grasp useful wordlevel semantic i...</td>\n",
              "      <td>[hence, model, grasp, useful, wordlevel, seman...</td>\n",
              "      <td>['hence', 'model', 'grasp', 'useful', 'wordlev...</td>\n",
              "    </tr>\n",
              "    <tr>\n",
              "      <th>3</th>\n",
              "      <td>The above operations provide a\\nwealth of reso...</td>\n",
              "      <td>Resources</td>\n",
              "      <td>Resources</td>\n",
              "      <td>NaN</td>\n",
              "      <td>the above operations provide a wealth of resou...</td>\n",
              "      <td>the above operations provide a wealth of resou...</td>\n",
              "      <td>operations provide wealth resources allow mode...</td>\n",
              "      <td>[operations provide wealth resources allow mod...</td>\n",
              "      <td>[operations, provide, wealth, resources, allow...</td>\n",
              "      <td>['operations', 'provide', 'wealth', 'resources...</td>\n",
              "    </tr>\n",
              "    <tr>\n",
              "      <th>4</th>\n",
              "      <td>For document\\nlevel, we reused last year’s Eng...</td>\n",
              "      <td>Performance Evaluation</td>\n",
              "      <td>Performance Evaluation</td>\n",
              "      <td>NaN</td>\n",
              "      <td>for document level, we reused last year’s engl...</td>\n",
              "      <td>for document level we reused last years englis...</td>\n",
              "      <td>document level reused last years englishfrench...</td>\n",
              "      <td>[document level reused last years englishfrenc...</td>\n",
              "      <td>[document, level, reused, last, years, english...</td>\n",
              "      <td>['document', 'level', 'reused', 'last', 'years...</td>\n",
              "    </tr>\n",
              "  </tbody>\n",
              "</table>\n",
              "</div>"
            ],
            "text/plain": [
              "                                        Contribution  ...                                After Lemmatization\n",
              "0  We introduce in this paper a novel method, tha...  ...  ['introduce', 'paper', 'novel', 'method', 'cal...\n",
              "1  we pro-pose to build multi-task datasets for t...  ...  ['propose', 'build', 'multitask', 'datasets', ...\n",
              "2  Hence our model can grasp\\nuseful word-level s...  ...  ['hence', 'model', 'grasp', 'useful', 'wordlev...\n",
              "3  The above operations provide a\\nwealth of reso...  ...  ['operations', 'provide', 'wealth', 'resources...\n",
              "4  For document\\nlevel, we reused last year’s Eng...  ...  ['document', 'level', 'reused', 'last', 'years...\n",
              "\n",
              "[5 rows x 10 columns]"
            ]
          },
          "metadata": {
            "tags": []
          },
          "execution_count": 13
        }
      ]
    },
    {
      "cell_type": "code",
      "metadata": {
        "colab": {
          "base_uri": "https://localhost:8080/",
          "height": 518
        },
        "id": "lg0n4OTtWSKy",
        "outputId": "42906548-debc-46d5-b723-a04fe0e7344b"
      },
      "source": [
        "import seaborn as sns\n",
        "print(data['Annotation 1'].value_counts())\n",
        "sns.countplot(data['Annotation 1'])"
      ],
      "execution_count": 14,
      "outputs": [
        {
          "output_type": "stream",
          "text": [
            "New Algorithm/ Method            840\n",
            "Theory Proposal                  739\n",
            "Model Proposal                   424\n",
            "Performance Evaluation           373\n",
            "Model Optimization               217\n",
            "Dataset Creation                 214\n",
            "Algorithm/Method Optimization    144\n",
            "Applications                      77\n",
            "Resources                         76\n",
            "Name: Annotation 1, dtype: int64\n"
          ],
          "name": "stdout"
        },
        {
          "output_type": "stream",
          "text": [
            "/usr/local/lib/python3.6/dist-packages/seaborn/_decorators.py:43: FutureWarning: Pass the following variable as a keyword arg: x. From version 0.12, the only valid positional argument will be `data`, and passing other arguments without an explicit keyword will result in an error or misinterpretation.\n",
            "  FutureWarning\n"
          ],
          "name": "stderr"
        },
        {
          "output_type": "execute_result",
          "data": {
            "text/plain": [
              "<matplotlib.axes._subplots.AxesSubplot at 0x7ffb9ef21e10>"
            ]
          },
          "metadata": {
            "tags": []
          },
          "execution_count": 14
        },
        {
          "output_type": "display_data",
          "data": {
            "image/png": "[encoded data removed]",
            "text/plain": [
              "<Figure size 432x288 with 1 Axes>"
            ]
          },
          "metadata": {
            "tags": [],
            "needs_background": "light"
          }
        }
      ]
    },
    {
      "cell_type": "markdown",
      "metadata": {
        "id": "u86DQ9_op-nH"
      },
      "source": [
        "# **TF-IDF Feature Selection**"
      ]
    },
    {
      "cell_type": "code",
      "metadata": {
        "id": "SggT5DX2Wysd"
      },
      "source": [
        "from sklearn.preprocessing import LabelEncoder\n",
        "from sklearn.feature_extraction.text import TfidfVectorizer\n",
        "Tfidfvector = TfidfVectorizer(ngram_range=(1,2), max_features=1000)\n",
        "Tfidfvector.fit(data['After Lemmatization'])\n",
        "x_values = Tfidfvector.transform(data['After Lemmatization'])\n",
        "encoder = LabelEncoder()\n",
        "y_values = encoder.fit_transform(data['Annotation 1'])"
      ],
      "execution_count": 15,
      "outputs": []
    },
    {
      "cell_type": "markdown",
      "metadata": {
        "id": "v5i_ZxJxqDnq"
      },
      "source": [
        "# **Splitting Dataset into Training and Testing**"
      ]
    },
    {
      "cell_type": "code",
      "metadata": {
        "id": "-9Xn5PqUYa_F"
      },
      "source": [
        "from sklearn import model_selection\n",
        "X_train, x_test, y_train, y_test = model_selection.train_test_split(x_values, y_values, test_size=0.33)"
      ],
      "execution_count": 16,
      "outputs": []
    },
    {
      "cell_type": "markdown",
      "metadata": {
        "id": "gC6asPSQqLim"
      },
      "source": [
        "# **Navie Bayes**"
      ]
    },
    {
      "cell_type": "code",
      "metadata": {
        "colab": {
          "base_uri": "https://localhost:8080/"
        },
        "id": "quuALGGIYlO-",
        "outputId": "8efe2843-1e00-488a-b928-6a15e47c3607"
      },
      "source": [
        "from sklearn import naive_bayes\n",
        "from sklearn.metrics import accuracy_score, f1_score, precision_score, recall_score\n",
        "nb = naive_bayes.MultinomialNB()\n",
        "nb.fit(X_train, y_train)\n",
        "predicted_nb = nb.predict(x_test)\n",
        "\n",
        "accuracy = accuracy_score(y_test, predicted_nb) * 100\n",
        "f1 = f1_score(y_test, predicted_nb, average='macro') *100\n",
        "precision = precision_score(y_test, predicted_nb, average='macro') *100\n",
        "recall = recall_score (y_test, predicted_nb, average='macro') *100\n",
        "print('F1-score:', f1)\n",
        "print('accuracy score:', accuracy)\n",
        "print('precision score:', precision)\n",
        "print('recall score:', recall)"
      ],
      "execution_count": 17,
      "outputs": [
        {
          "output_type": "stream",
          "text": [
            "F1-score: 19.24273665771363\n",
            "accuracy score: 39.707317073170735\n",
            "precision score: 28.723531060690387\n",
            "recall score: 20.210525023052174\n"
          ],
          "name": "stdout"
        },
        {
          "output_type": "stream",
          "text": [
            "/usr/local/lib/python3.6/dist-packages/sklearn/metrics/_classification.py:1272: UndefinedMetricWarning: Precision is ill-defined and being set to 0.0 in labels with no predicted samples. Use `zero_division` parameter to control this behavior.\n",
            "  _warn_prf(average, modifier, msg_start, len(result))\n"
          ],
          "name": "stderr"
        }
      ]
    },
    {
      "cell_type": "markdown",
      "metadata": {
        "id": "6PZakanJqQNn"
      },
      "source": [
        "# **Non Linear SVM**"
      ]
    },
    {
      "cell_type": "code",
      "metadata": {
        "id": "xVRjMs4ngkAZ"
      },
      "source": [
        "from sklearn import svm\n",
        "C = 1.0\n",
        "svm_model = svm.SVC(kernel='linear', C=C)\n",
        "svm_model.fit(X_train, y_train)\n",
        "predicted = svm_model.predict(x_test)"
      ],
      "execution_count": 18,
      "outputs": []
    },
    {
      "cell_type": "code",
      "metadata": {
        "colab": {
          "base_uri": "https://localhost:8080/"
        },
        "id": "UDbjOG0Vhdbc",
        "outputId": "b1aa8a98-0c86-4449-ab30-b37eb0374757"
      },
      "source": [
        "accuracy = accuracy_score(y_test, predicted) * 100\n",
        "f1 = f1_score(y_test, predicted, average='macro') *100\n",
        "precision = precision_score(y_test, predicted, average='macro') *100\n",
        "recall = recall_score (y_test, predicted, average='macro') *100\n",
        "print('F1-score:', f1)\n",
        "print('accuracy score:', accuracy)\n",
        "print('precision score:', precision)\n",
        "print('recall score:', recall)"
      ],
      "execution_count": 19,
      "outputs": [
        {
          "output_type": "stream",
          "text": [
            "F1-score: 28.254161708199092\n",
            "accuracy score: 44.29268292682927\n",
            "precision score: 33.83114461545834\n",
            "recall score: 28.655668589822437\n"
          ],
          "name": "stdout"
        },
        {
          "output_type": "stream",
          "text": [
            "/usr/local/lib/python3.6/dist-packages/sklearn/metrics/_classification.py:1272: UndefinedMetricWarning: Precision is ill-defined and being set to 0.0 in labels with no predicted samples. Use `zero_division` parameter to control this behavior.\n",
            "  _warn_prf(average, modifier, msg_start, len(result))\n"
          ],
          "name": "stderr"
        }
      ]
    },
    {
      "cell_type": "markdown",
      "metadata": {
        "id": "w4jyhD4WqUC2"
      },
      "source": [
        "# **Random Forest Classifier**"
      ]
    },
    {
      "cell_type": "code",
      "metadata": {
        "id": "jZrzU0tyhkCZ"
      },
      "source": [
        "from sklearn.ensemble import RandomForestClassifier\n",
        "clf=RandomForestClassifier(n_estimators=100)\n",
        "clf.fit(X_train, y_train)\n",
        "y_pred=clf.predict(x_test)"
      ],
      "execution_count": 20,
      "outputs": []
    },
    {
      "cell_type": "code",
      "metadata": {
        "colab": {
          "base_uri": "https://localhost:8080/"
        },
        "id": "Vc3bThgfifwi",
        "outputId": "8e83f9c2-efd4-4fff-916b-abf0d24b3bba"
      },
      "source": [
        "accuracy = accuracy_score(y_test, y_pred) * 100\n",
        "f1 = f1_score(y_test, y_pred, average='macro') *100\n",
        "precision = precision_score(y_test, y_pred, average='macro') *100\n",
        "recall = recall_score (y_test, y_pred, average='macro') *100\n",
        "print('F1-score:', f1)\n",
        "print('accuracy score:', accuracy)\n",
        "print('precision score:', precision)\n",
        "print('recall score:', recall)"
      ],
      "execution_count": 21,
      "outputs": [
        {
          "output_type": "stream",
          "text": [
            "F1-score: 29.31264724488143\n",
            "accuracy score: 47.609756097560975\n",
            "precision score: 29.256467837990645\n",
            "recall score: 30.38185217194177\n"
          ],
          "name": "stdout"
        }
      ]
    }
  ]
}