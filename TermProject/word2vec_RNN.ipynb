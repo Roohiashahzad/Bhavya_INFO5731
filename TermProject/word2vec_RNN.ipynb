{
  "nbformat": 4,
  "nbformat_minor": 0,
  "metadata": {
    "colab": {
      "name": "word2vec_RNN.ipynb",
      "provenance": []
    },
    "kernelspec": {
      "name": "python3",
      "display_name": "Python 3"
    }
  },
  "cells": [
    {
      "cell_type": "code",
      "metadata": {
        "colab": {
          "base_uri": "https://localhost:8080/",
          "height": 195
        },
        "id": "iN9JTqOSjVKI",
        "outputId": "1ddede27-6424-4a97-9395-72562ed2185c"
      },
      "source": [
        "import pandas as pd\r\n",
        "data = pd.read_csv(\"/content/cleaned_data.csv\")\r\n",
        "data.head()"
      ],
      "execution_count": 33,
      "outputs": [
        {
          "output_type": "execute_result",
          "data": {
            "text/html": [
              "<div>\n",
              "<style scoped>\n",
              "    .dataframe tbody tr th:only-of-type {\n",
              "        vertical-align: middle;\n",
              "    }\n",
              "\n",
              "    .dataframe tbody tr th {\n",
              "        vertical-align: top;\n",
              "    }\n",
              "\n",
              "    .dataframe thead th {\n",
              "        text-align: right;\n",
              "    }\n",
              "</style>\n",
              "<table border=\"1\" class=\"dataframe\">\n",
              "  <thead>\n",
              "    <tr style=\"text-align: right;\">\n",
              "      <th></th>\n",
              "      <th>lemmatized</th>\n",
              "      <th>Annotation 1</th>\n",
              "      <th>Annotation 2</th>\n",
              "    </tr>\n",
              "  </thead>\n",
              "  <tbody>\n",
              "    <tr>\n",
              "      <th>0</th>\n",
              "      <td>paper describes generic framework generating c...</td>\n",
              "      <td>Theory Proposal</td>\n",
              "      <td>Theory Proposal</td>\n",
              "    </tr>\n",
              "    <tr>\n",
              "      <th>1</th>\n",
              "      <td>present simple unsupervised robust accurate sy...</td>\n",
              "      <td>New Algorithm/ Method</td>\n",
              "      <td>New Algorithm/ Method</td>\n",
              "    </tr>\n",
              "    <tr>\n",
              "      <th>2</th>\n",
              "      <td>present largescale indepth computational reada...</td>\n",
              "      <td>Resources</td>\n",
              "      <td>Resources</td>\n",
              "    </tr>\n",
              "    <tr>\n",
              "      <th>3</th>\n",
              "      <td>worked annotated corpus human tutoring session...</td>\n",
              "      <td>New Algorithm/ Method</td>\n",
              "      <td>New Algorithm/ Method</td>\n",
              "    </tr>\n",
              "    <tr>\n",
              "      <th>4</th>\n",
              "      <td>discus one aspect essaywriting namely style pr...</td>\n",
              "      <td>Theory Proposal</td>\n",
              "      <td>Theory Proposal</td>\n",
              "    </tr>\n",
              "  </tbody>\n",
              "</table>\n",
              "</div>"
            ],
            "text/plain": [
              "                                          lemmatized  ...           Annotation 2\n",
              "0  paper describes generic framework generating c...  ...        Theory Proposal\n",
              "1  present simple unsupervised robust accurate sy...  ...  New Algorithm/ Method\n",
              "2  present largescale indepth computational reada...  ...              Resources\n",
              "3  worked annotated corpus human tutoring session...  ...  New Algorithm/ Method\n",
              "4  discus one aspect essaywriting namely style pr...  ...        Theory Proposal\n",
              "\n",
              "[5 rows x 3 columns]"
            ]
          },
          "metadata": {
            "tags": []
          },
          "execution_count": 33
        }
      ]
    },
    {
      "cell_type": "code",
      "metadata": {
        "id": "DHecwaqvl_eI"
      },
      "source": [
        "from sklearn import model_selection\r\n",
        "x_train, x_test, y_train, y_test = model_selection.train_test_split(data['lemmatized'], data['Annotation 1'], test_size=0.2)"
      ],
      "execution_count": 34,
      "outputs": []
    },
    {
      "cell_type": "code",
      "metadata": {
        "id": "xHGZsAQQjXQu"
      },
      "source": [
        "corpus = x_train"
      ],
      "execution_count": 35,
      "outputs": []
    },
    {
      "cell_type": "code",
      "metadata": {
        "id": "JsxeD7iijdAl"
      },
      "source": [
        "lst_corpus = []\r\n",
        "for string in corpus:\r\n",
        "   lst_words = string.split()\r\n",
        "   lst_grams = [\" \".join(lst_words[i:i+1]) \r\n",
        "               for i in range(0, len(lst_words), 1)]\r\n",
        "   lst_corpus.append(lst_grams)"
      ],
      "execution_count": 36,
      "outputs": []
    },
    {
      "cell_type": "code",
      "metadata": {
        "id": "qIDd5fONjhW4"
      },
      "source": [
        "import gensim"
      ],
      "execution_count": 37,
      "outputs": []
    },
    {
      "cell_type": "code",
      "metadata": {
        "id": "wJCQO3bcjlit"
      },
      "source": [
        "nlp = gensim.models.word2vec.Word2Vec(lst_corpus, size=300,   \r\n",
        "            window=8, min_count=1, sg=1, iter=30)"
      ],
      "execution_count": 38,
      "outputs": []
    },
    {
      "cell_type": "code",
      "metadata": {
        "id": "kE-7uWjSjwLf"
      },
      "source": [
        "from tensorflow.keras import models, layers, preprocessing as kprocessing\r\n",
        "tokenizer = kprocessing.text.Tokenizer(lower=True, split=' ', \r\n",
        "                     oov_token=\"NaN\", \r\n",
        "                     filters='!\"#$%&()*+,-./:;<=>?@[\\\\]^_`{|}~\\t\\n')\r\n",
        "tokenizer.fit_on_texts(lst_corpus)\r\n",
        "dic_vocabulary = tokenizer.word_index"
      ],
      "execution_count": 39,
      "outputs": []
    },
    {
      "cell_type": "code",
      "metadata": {
        "id": "pvGUmiHPj0xJ"
      },
      "source": [
        "lst_text2seq= tokenizer.texts_to_sequences(lst_corpus)"
      ],
      "execution_count": 40,
      "outputs": []
    },
    {
      "cell_type": "code",
      "metadata": {
        "id": "92kNT6TNlLDv"
      },
      "source": [
        "x_train_embeded = kprocessing.sequence.pad_sequences(lst_text2seq,\r\n",
        "                    maxlen=100, padding=\"post\", truncating=\"post\")"
      ],
      "execution_count": 41,
      "outputs": []
    },
    {
      "cell_type": "code",
      "metadata": {
        "colab": {
          "base_uri": "https://localhost:8080/"
        },
        "id": "_bV6TL_R_Tll",
        "outputId": "17f4b19a-5db1-4cdc-cc81-ec3fc408e18a"
      },
      "source": [
        "len(x_train_embeded[5])"
      ],
      "execution_count": 42,
      "outputs": [
        {
          "output_type": "execute_result",
          "data": {
            "text/plain": [
              "100"
            ]
          },
          "metadata": {
            "tags": []
          },
          "execution_count": 42
        }
      ]
    },
    {
      "cell_type": "code",
      "metadata": {
        "colab": {
          "base_uri": "https://localhost:8080/",
          "height": 286
        },
        "id": "2MBrBHOblO6O",
        "outputId": "4acf912b-7829-45da-a923-50ead69c6a6b"
      },
      "source": [
        "import seaborn as sns\r\n",
        "sns.heatmap(x_train_embeded==0, vmin=0, vmax=1, cbar=False)"
      ],
      "execution_count": 43,
      "outputs": [
        {
          "output_type": "execute_result",
          "data": {
            "text/plain": [
              "<matplotlib.axes._subplots.AxesSubplot at 0x7f59e69021d0>"
            ]
          },
          "metadata": {
            "tags": []
          },
          "execution_count": 43
        },
        {
          "output_type": "display_data",
          "data": {
            "image/png": "[encoded data removed]",
            "text/plain": [
              "<Figure size 432x288 with 1 Axes>"
            ]
          },
          "metadata": {
            "tags": [],
            "needs_background": "light"
          }
        }
      ]
    },
    {
      "cell_type": "code",
      "metadata": {
        "id": "FU3YDPy-8Vfb"
      },
      "source": [
        "corpus_test = x_test"
      ],
      "execution_count": 44,
      "outputs": []
    },
    {
      "cell_type": "code",
      "metadata": {
        "id": "rtUC123dmt8B"
      },
      "source": [
        "lst_corpus_test = []\r\n",
        "for string in corpus_test:\r\n",
        "    lst_words = string.split()\r\n",
        "    lst_grams = [\" \".join(lst_words[i:i+1]) for i in range(0, \r\n",
        "                 len(lst_words), 1)]\r\n",
        "    lst_corpus_test.append(lst_grams)"
      ],
      "execution_count": 45,
      "outputs": []
    },
    {
      "cell_type": "code",
      "metadata": {
        "id": "7RRpBCWRm7ot"
      },
      "source": [
        "lst_text2seq_test = tokenizer.texts_to_sequences(lst_corpus_test)"
      ],
      "execution_count": 46,
      "outputs": []
    },
    {
      "cell_type": "code",
      "metadata": {
        "id": "7BNErPnwm_3J"
      },
      "source": [
        "x_test_embeded = kprocessing.sequence.pad_sequences(lst_text2seq_test, maxlen=100,\r\n",
        "             padding=\"post\", truncating=\"post\")"
      ],
      "execution_count": 47,
      "outputs": []
    },
    {
      "cell_type": "code",
      "metadata": {
        "id": "OXLU4JTPndwg"
      },
      "source": [
        "import numpy as np\r\n",
        "embeddings = np.zeros((len(dic_vocabulary)+1, 300))"
      ],
      "execution_count": 48,
      "outputs": []
    },
    {
      "cell_type": "code",
      "metadata": {
        "colab": {
          "base_uri": "https://localhost:8080/"
        },
        "id": "YwRK3B9znoQn",
        "outputId": "3d8640fa-166a-47ae-8cbb-aa9c96da09d3"
      },
      "source": [
        "for word,idx in dic_vocabulary.items():\r\n",
        "    ## update the row with vector\r\n",
        "    try:\r\n",
        "        embeddings[idx] =  nlp[word]\r\n",
        "    ## if word not in model then skip and the row stays all 0s\r\n",
        "    except:\r\n",
        "        pass"
      ],
      "execution_count": 49,
      "outputs": [
        {
          "output_type": "stream",
          "text": [
            "/usr/local/lib/python3.6/dist-packages/ipykernel_launcher.py:4: DeprecationWarning: Call to deprecated `__getitem__` (Method will be removed in 4.0.0, use self.wv.__getitem__() instead).\n",
            "  after removing the cwd from sys.path.\n"
          ],
          "name": "stderr"
        }
      ]
    },
    {
      "cell_type": "code",
      "metadata": {
        "id": "wNsIx7lgn0w8"
      },
      "source": [
        "def attention_layer(inputs, neurons):\r\n",
        "    x = layers.Permute((2,1))(inputs)\r\n",
        "    x = layers.Dense(neurons, activation=\"softmax\")(x)\r\n",
        "    x = layers.Permute((2,1), name=\"attention\")(x)\r\n",
        "    x = layers.multiply([inputs, x])\r\n",
        "    return x"
      ],
      "execution_count": 51,
      "outputs": []
    },
    {
      "cell_type": "code",
      "metadata": {
        "id": "I7H_8Kc6pJAd"
      },
      "source": [
        "x_in = layers.Input(shape=(100,))"
      ],
      "execution_count": 52,
      "outputs": []
    },
    {
      "cell_type": "code",
      "metadata": {
        "id": "cVidbZBopOXV"
      },
      "source": [
        "x = layers.Embedding(input_dim=embeddings.shape[0],  \r\n",
        "                     output_dim=embeddings.shape[1], \r\n",
        "                     weights=[embeddings],\r\n",
        "                     input_length=100, trainable=False)(x_in)"
      ],
      "execution_count": 53,
      "outputs": []
    },
    {
      "cell_type": "code",
      "metadata": {
        "id": "58ukThIhpR3C"
      },
      "source": [
        "x = attention_layer(x, neurons=100)"
      ],
      "execution_count": 54,
      "outputs": []
    },
    {
      "cell_type": "code",
      "metadata": {
        "id": "eN1eBGePpU44"
      },
      "source": [
        "x = layers.Bidirectional(layers.LSTM(units=100, dropout=0.2, \r\n",
        "                         return_sequences=True))(x)\r\n",
        "x = layers.Bidirectional(layers.LSTM(units=100, dropout=0.2))(x)"
      ],
      "execution_count": 55,
      "outputs": []
    },
    {
      "cell_type": "code",
      "metadata": {
        "id": "EETgHsGmpXr8"
      },
      "source": [
        "x = layers.Dense(64, activation='relu')(x)\r\n",
        "y_out = layers.Dense(9, activation='softmax')(x)"
      ],
      "execution_count": 56,
      "outputs": []
    },
    {
      "cell_type": "code",
      "metadata": {
        "id": "33Mp0x1apbaX"
      },
      "source": [
        "model = models.Model(x_in, y_out)\r\n",
        "model.compile(loss='sparse_categorical_crossentropy',\r\n",
        "              optimizer='adam', metrics=['accuracy'])"
      ],
      "execution_count": 57,
      "outputs": []
    },
    {
      "cell_type": "code",
      "metadata": {
        "colab": {
          "base_uri": "https://localhost:8080/"
        },
        "id": "7J8VkwkzpfIU",
        "outputId": "fcc14532-b1ae-47e2-c5ca-43392413455b"
      },
      "source": [
        "model.summary()"
      ],
      "execution_count": 58,
      "outputs": [
        {
          "output_type": "stream",
          "text": [
            "Model: \"functional_3\"\n",
            "__________________________________________________________________________________________________\n",
            "Layer (type)                    Output Shape         Param #     Connected to                     \n",
            "==================================================================================================\n",
            "input_2 (InputLayer)            [(None, 100)]        0                                            \n",
            "__________________________________________________________________________________________________\n",
            "embedding_2 (Embedding)         (None, 100, 300)     1964700     input_2[0][0]                    \n",
            "__________________________________________________________________________________________________\n",
            "permute_1 (Permute)             (None, 300, 100)     0           embedding_2[0][0]                \n",
            "__________________________________________________________________________________________________\n",
            "dense_3 (Dense)                 (None, 300, 100)     10100       permute_1[0][0]                  \n",
            "__________________________________________________________________________________________________\n",
            "attention (Permute)             (None, 100, 300)     0           dense_3[0][0]                    \n",
            "__________________________________________________________________________________________________\n",
            "multiply_1 (Multiply)           (None, 100, 300)     0           embedding_2[0][0]                \n",
            "                                                                 attention[0][0]                  \n",
            "__________________________________________________________________________________________________\n",
            "bidirectional_2 (Bidirectional) (None, 100, 200)     320800      multiply_1[0][0]                 \n",
            "__________________________________________________________________________________________________\n",
            "bidirectional_3 (Bidirectional) (None, 200)          240800      bidirectional_2[0][0]            \n",
            "__________________________________________________________________________________________________\n",
            "dense_4 (Dense)                 (None, 64)           12864       bidirectional_3[0][0]            \n",
            "__________________________________________________________________________________________________\n",
            "dense_5 (Dense)                 (None, 9)            585         dense_4[0][0]                    \n",
            "==================================================================================================\n",
            "Total params: 2,549,849\n",
            "Trainable params: 585,149\n",
            "Non-trainable params: 1,964,700\n",
            "__________________________________________________________________________________________________\n"
          ],
          "name": "stdout"
        }
      ]
    },
    {
      "cell_type": "code",
      "metadata": {
        "colab": {
          "base_uri": "https://localhost:8080/"
        },
        "id": "mEtczgeGpjWk",
        "outputId": "edd6c022-9feb-4e84-b966-2ba47f9d01f6"
      },
      "source": [
        "dic_y_mapping = {n:label for n,label in \r\n",
        "                 enumerate(np.unique(y_train))}\r\n",
        "inverse_dic = {v:k for k,v in dic_y_mapping.items()}\r\n",
        "y_train = np.array([inverse_dic[y] for y in y_train])\r\n",
        "y_train"
      ],
      "execution_count": 59,
      "outputs": [
        {
          "output_type": "execute_result",
          "data": {
            "text/plain": [
              "array([5, 6, 4, ..., 1, 6, 6])"
            ]
          },
          "metadata": {
            "tags": []
          },
          "execution_count": 59
        }
      ]
    },
    {
      "cell_type": "code",
      "metadata": {
        "id": "FiXzhU0Jpnfd"
      },
      "source": [
        "training = model.fit(x=x_train_embeded, y=y_train, batch_size=32, \r\n",
        "                     epochs=10, shuffle=True, verbose=0, \r\n",
        "                     validation_split=0.3)"
      ],
      "execution_count": 61,
      "outputs": []
    },
    {
      "cell_type": "code",
      "metadata": {
        "colab": {
          "base_uri": "https://localhost:8080/"
        },
        "id": "5vGc1hHozBwG",
        "outputId": "808eeec7-bf47-4fc9-84c0-4db2844a88b3"
      },
      "source": [
        "predicted_prob = model.predict(x_test_embeded)\r\n",
        "predicted = [dic_y_mapping[np.argmax(pred)] for pred in \r\n",
        "             predicted_prob]\r\n",
        "predicted"
      ],
      "execution_count": 62,
      "outputs": [
        {
          "output_type": "execute_result",
          "data": {
            "text/plain": [
              "['Theory Proposal',\n",
              " 'Performance Evaluation',\n",
              " 'Theory Proposal',\n",
              " 'New Algorithm/ Method',\n",
              " 'New Algorithm/ Method',\n",
              " 'Dataset Creation',\n",
              " 'Performance Evaluation',\n",
              " 'Theory Proposal',\n",
              " 'Theory Proposal',\n",
              " 'Theory Proposal',\n",
              " 'Theory Proposal',\n",
              " 'New Algorithm/ Method',\n",
              " 'New Algorithm/ Method',\n",
              " 'New Algorithm/ Method',\n",
              " 'New Algorithm/ Method',\n",
              " 'Theory Proposal',\n",
              " 'Theory Proposal',\n",
              " 'Performance Evaluation',\n",
              " 'Performance Evaluation',\n",
              " 'New Algorithm/ Method',\n",
              " 'New Algorithm/ Method',\n",
              " 'Theory Proposal',\n",
              " 'Theory Proposal',\n",
              " 'New Algorithm/ Method',\n",
              " 'Performance Evaluation',\n",
              " 'New Algorithm/ Method',\n",
              " 'Theory Proposal',\n",
              " 'New Algorithm/ Method',\n",
              " 'New Algorithm/ Method',\n",
              " 'Theory Proposal',\n",
              " 'Performance Evaluation',\n",
              " 'Performance Evaluation',\n",
              " 'Theory Proposal',\n",
              " 'New Algorithm/ Method',\n",
              " 'New Algorithm/ Method',\n",
              " 'Theory Proposal',\n",
              " 'New Algorithm/ Method',\n",
              " 'New Algorithm/ Method',\n",
              " 'Theory Proposal',\n",
              " 'New Algorithm/ Method',\n",
              " 'New Algorithm/ Method',\n",
              " 'Performance Evaluation',\n",
              " 'Theory Proposal',\n",
              " 'Theory Proposal',\n",
              " 'Theory Proposal',\n",
              " 'New Algorithm/ Method',\n",
              " 'New Algorithm/ Method',\n",
              " 'New Algorithm/ Method',\n",
              " 'Theory Proposal',\n",
              " 'Theory Proposal',\n",
              " 'Theory Proposal',\n",
              " 'New Algorithm/ Method',\n",
              " 'Theory Proposal',\n",
              " 'New Algorithm/ Method',\n",
              " 'Theory Proposal',\n",
              " 'Theory Proposal',\n",
              " 'Performance Evaluation',\n",
              " 'Theory Proposal',\n",
              " 'New Algorithm/ Method',\n",
              " 'Performance Evaluation',\n",
              " 'Theory Proposal',\n",
              " 'Performance Evaluation',\n",
              " 'Theory Proposal',\n",
              " 'New Algorithm/ Method',\n",
              " 'Theory Proposal',\n",
              " 'Theory Proposal',\n",
              " 'Performance Evaluation',\n",
              " 'New Algorithm/ Method',\n",
              " 'New Algorithm/ Method',\n",
              " 'Theory Proposal',\n",
              " 'New Algorithm/ Method',\n",
              " 'New Algorithm/ Method',\n",
              " 'Performance Evaluation',\n",
              " 'Theory Proposal',\n",
              " 'New Algorithm/ Method',\n",
              " 'New Algorithm/ Method',\n",
              " 'Theory Proposal',\n",
              " 'New Algorithm/ Method',\n",
              " 'Theory Proposal',\n",
              " 'New Algorithm/ Method',\n",
              " 'Theory Proposal',\n",
              " 'New Algorithm/ Method',\n",
              " 'New Algorithm/ Method',\n",
              " 'Theory Proposal',\n",
              " 'New Algorithm/ Method',\n",
              " 'New Algorithm/ Method',\n",
              " 'Performance Evaluation',\n",
              " 'New Algorithm/ Method',\n",
              " 'Theory Proposal',\n",
              " 'New Algorithm/ Method',\n",
              " 'Performance Evaluation',\n",
              " 'Performance Evaluation',\n",
              " 'New Algorithm/ Method',\n",
              " 'New Algorithm/ Method',\n",
              " 'Theory Proposal',\n",
              " 'Performance Evaluation',\n",
              " 'Theory Proposal',\n",
              " 'New Algorithm/ Method',\n",
              " 'New Algorithm/ Method',\n",
              " 'Theory Proposal',\n",
              " 'Theory Proposal',\n",
              " 'New Algorithm/ Method',\n",
              " 'Dataset Creation',\n",
              " 'New Algorithm/ Method',\n",
              " 'Model Proposal',\n",
              " 'Theory Proposal',\n",
              " 'Theory Proposal',\n",
              " 'Performance Evaluation',\n",
              " 'Theory Proposal',\n",
              " 'New Algorithm/ Method',\n",
              " 'Theory Proposal',\n",
              " 'Performance Evaluation',\n",
              " 'Theory Proposal',\n",
              " 'New Algorithm/ Method',\n",
              " 'Theory Proposal',\n",
              " 'Performance Evaluation',\n",
              " 'New Algorithm/ Method',\n",
              " 'Theory Proposal',\n",
              " 'New Algorithm/ Method',\n",
              " 'Theory Proposal',\n",
              " 'Theory Proposal',\n",
              " 'New Algorithm/ Method',\n",
              " 'New Algorithm/ Method',\n",
              " 'Theory Proposal',\n",
              " 'New Algorithm/ Method',\n",
              " 'Theory Proposal',\n",
              " 'New Algorithm/ Method',\n",
              " 'New Algorithm/ Method',\n",
              " 'New Algorithm/ Method',\n",
              " 'Theory Proposal',\n",
              " 'New Algorithm/ Method',\n",
              " 'Theory Proposal',\n",
              " 'Theory Proposal',\n",
              " 'Theory Proposal',\n",
              " 'New Algorithm/ Method',\n",
              " 'New Algorithm/ Method',\n",
              " 'Theory Proposal',\n",
              " 'Performance Evaluation',\n",
              " 'New Algorithm/ Method',\n",
              " 'Performance Evaluation',\n",
              " 'Performance Evaluation',\n",
              " 'New Algorithm/ Method',\n",
              " 'New Algorithm/ Method',\n",
              " 'Theory Proposal',\n",
              " 'New Algorithm/ Method',\n",
              " 'Theory Proposal',\n",
              " 'Performance Evaluation',\n",
              " 'Performance Evaluation',\n",
              " 'Theory Proposal',\n",
              " 'New Algorithm/ Method',\n",
              " 'Performance Evaluation',\n",
              " 'New Algorithm/ Method',\n",
              " 'Theory Proposal',\n",
              " 'Theory Proposal',\n",
              " 'Performance Evaluation',\n",
              " 'New Algorithm/ Method',\n",
              " 'Theory Proposal',\n",
              " 'Performance Evaluation',\n",
              " 'Performance Evaluation',\n",
              " 'Theory Proposal',\n",
              " 'New Algorithm/ Method',\n",
              " 'New Algorithm/ Method',\n",
              " 'Theory Proposal',\n",
              " 'Performance Evaluation',\n",
              " 'New Algorithm/ Method',\n",
              " 'New Algorithm/ Method',\n",
              " 'New Algorithm/ Method',\n",
              " 'Performance Evaluation',\n",
              " 'New Algorithm/ Method',\n",
              " 'New Algorithm/ Method',\n",
              " 'Performance Evaluation',\n",
              " 'Theory Proposal',\n",
              " 'New Algorithm/ Method',\n",
              " 'Performance Evaluation',\n",
              " 'Performance Evaluation',\n",
              " 'Performance Evaluation',\n",
              " 'New Algorithm/ Method',\n",
              " 'New Algorithm/ Method',\n",
              " 'Theory Proposal',\n",
              " 'Theory Proposal',\n",
              " 'Performance Evaluation',\n",
              " 'Theory Proposal',\n",
              " 'New Algorithm/ Method',\n",
              " 'Performance Evaluation',\n",
              " 'New Algorithm/ Method',\n",
              " 'Theory Proposal',\n",
              " 'New Algorithm/ Method',\n",
              " 'Theory Proposal',\n",
              " 'New Algorithm/ Method',\n",
              " 'Performance Evaluation',\n",
              " 'Performance Evaluation',\n",
              " 'New Algorithm/ Method',\n",
              " 'Theory Proposal',\n",
              " 'New Algorithm/ Method',\n",
              " 'Theory Proposal',\n",
              " 'Theory Proposal',\n",
              " 'Theory Proposal',\n",
              " 'New Algorithm/ Method',\n",
              " 'Theory Proposal',\n",
              " 'Performance Evaluation',\n",
              " 'Theory Proposal',\n",
              " 'New Algorithm/ Method',\n",
              " 'New Algorithm/ Method',\n",
              " 'New Algorithm/ Method',\n",
              " 'Theory Proposal',\n",
              " 'Theory Proposal',\n",
              " 'New Algorithm/ Method',\n",
              " 'New Algorithm/ Method',\n",
              " 'Theory Proposal',\n",
              " 'Performance Evaluation',\n",
              " 'Theory Proposal',\n",
              " 'New Algorithm/ Method',\n",
              " 'New Algorithm/ Method',\n",
              " 'Performance Evaluation',\n",
              " 'New Algorithm/ Method',\n",
              " 'Theory Proposal',\n",
              " 'Theory Proposal',\n",
              " 'New Algorithm/ Method',\n",
              " 'Theory Proposal',\n",
              " 'New Algorithm/ Method',\n",
              " 'Theory Proposal',\n",
              " 'New Algorithm/ Method',\n",
              " 'Performance Evaluation',\n",
              " 'Performance Evaluation',\n",
              " 'Theory Proposal',\n",
              " 'New Algorithm/ Method',\n",
              " 'Performance Evaluation',\n",
              " 'Theory Proposal',\n",
              " 'Theory Proposal',\n",
              " 'Performance Evaluation',\n",
              " 'Performance Evaluation',\n",
              " 'Performance Evaluation',\n",
              " 'New Algorithm/ Method',\n",
              " 'New Algorithm/ Method',\n",
              " 'New Algorithm/ Method',\n",
              " 'New Algorithm/ Method',\n",
              " 'New Algorithm/ Method',\n",
              " 'New Algorithm/ Method',\n",
              " 'New Algorithm/ Method',\n",
              " 'Theory Proposal',\n",
              " 'New Algorithm/ Method',\n",
              " 'Theory Proposal',\n",
              " 'New Algorithm/ Method',\n",
              " 'Performance Evaluation',\n",
              " 'Theory Proposal',\n",
              " 'New Algorithm/ Method',\n",
              " 'Theory Proposal',\n",
              " 'Performance Evaluation',\n",
              " 'Performance Evaluation',\n",
              " 'New Algorithm/ Method',\n",
              " 'Performance Evaluation',\n",
              " 'Theory Proposal',\n",
              " 'New Algorithm/ Method',\n",
              " 'New Algorithm/ Method',\n",
              " 'Performance Evaluation',\n",
              " 'New Algorithm/ Method',\n",
              " 'Performance Evaluation',\n",
              " 'Dataset Creation',\n",
              " 'Theory Proposal',\n",
              " 'New Algorithm/ Method',\n",
              " 'Theory Proposal',\n",
              " 'New Algorithm/ Method',\n",
              " 'Theory Proposal',\n",
              " 'Theory Proposal',\n",
              " 'Theory Proposal',\n",
              " 'New Algorithm/ Method',\n",
              " 'New Algorithm/ Method',\n",
              " 'New Algorithm/ Method',\n",
              " 'New Algorithm/ Method',\n",
              " 'New Algorithm/ Method',\n",
              " 'Theory Proposal',\n",
              " 'New Algorithm/ Method',\n",
              " 'New Algorithm/ Method',\n",
              " 'Theory Proposal',\n",
              " 'Theory Proposal',\n",
              " 'New Algorithm/ Method',\n",
              " 'New Algorithm/ Method',\n",
              " 'Performance Evaluation',\n",
              " 'Theory Proposal',\n",
              " 'Theory Proposal',\n",
              " 'Performance Evaluation',\n",
              " 'Performance Evaluation',\n",
              " 'New Algorithm/ Method',\n",
              " 'Theory Proposal',\n",
              " 'New Algorithm/ Method',\n",
              " 'Theory Proposal',\n",
              " 'New Algorithm/ Method',\n",
              " 'Theory Proposal',\n",
              " 'Theory Proposal',\n",
              " 'Theory Proposal',\n",
              " 'Performance Evaluation',\n",
              " 'Theory Proposal',\n",
              " 'Theory Proposal',\n",
              " 'Theory Proposal',\n",
              " 'Theory Proposal',\n",
              " 'New Algorithm/ Method',\n",
              " 'Theory Proposal',\n",
              " 'New Algorithm/ Method',\n",
              " 'Performance Evaluation',\n",
              " 'Theory Proposal',\n",
              " 'Performance Evaluation',\n",
              " 'Theory Proposal',\n",
              " 'Performance Evaluation',\n",
              " 'Theory Proposal',\n",
              " 'Theory Proposal',\n",
              " 'Theory Proposal',\n",
              " 'Dataset Creation',\n",
              " 'New Algorithm/ Method',\n",
              " 'Theory Proposal',\n",
              " 'Performance Evaluation',\n",
              " 'Theory Proposal',\n",
              " 'Performance Evaluation',\n",
              " 'Theory Proposal',\n",
              " 'Theory Proposal',\n",
              " 'New Algorithm/ Method',\n",
              " 'Theory Proposal',\n",
              " 'Performance Evaluation',\n",
              " 'Theory Proposal',\n",
              " 'Theory Proposal',\n",
              " 'New Algorithm/ Method',\n",
              " 'Performance Evaluation',\n",
              " 'New Algorithm/ Method',\n",
              " 'New Algorithm/ Method',\n",
              " 'Theory Proposal',\n",
              " 'New Algorithm/ Method',\n",
              " 'Theory Proposal',\n",
              " 'New Algorithm/ Method',\n",
              " 'Performance Evaluation',\n",
              " 'Theory Proposal',\n",
              " 'Theory Proposal',\n",
              " 'New Algorithm/ Method',\n",
              " 'New Algorithm/ Method',\n",
              " 'Theory Proposal',\n",
              " 'New Algorithm/ Method',\n",
              " 'New Algorithm/ Method',\n",
              " 'New Algorithm/ Method',\n",
              " 'Performance Evaluation',\n",
              " 'New Algorithm/ Method',\n",
              " 'New Algorithm/ Method',\n",
              " 'New Algorithm/ Method',\n",
              " 'New Algorithm/ Method',\n",
              " 'Theory Proposal',\n",
              " 'Theory Proposal',\n",
              " 'New Algorithm/ Method',\n",
              " 'New Algorithm/ Method',\n",
              " 'Theory Proposal',\n",
              " 'Theory Proposal',\n",
              " 'Performance Evaluation',\n",
              " 'Performance Evaluation',\n",
              " 'Theory Proposal',\n",
              " 'Theory Proposal',\n",
              " 'Theory Proposal',\n",
              " 'Theory Proposal',\n",
              " 'Theory Proposal',\n",
              " 'New Algorithm/ Method',\n",
              " 'New Algorithm/ Method',\n",
              " 'New Algorithm/ Method',\n",
              " 'New Algorithm/ Method',\n",
              " 'Theory Proposal',\n",
              " 'New Algorithm/ Method',\n",
              " 'New Algorithm/ Method',\n",
              " 'New Algorithm/ Method',\n",
              " 'Performance Evaluation',\n",
              " 'Theory Proposal',\n",
              " 'Theory Proposal',\n",
              " 'New Algorithm/ Method',\n",
              " 'Performance Evaluation',\n",
              " 'Performance Evaluation',\n",
              " 'Theory Proposal',\n",
              " 'Performance Evaluation',\n",
              " 'Theory Proposal',\n",
              " 'New Algorithm/ Method',\n",
              " 'Theory Proposal',\n",
              " 'New Algorithm/ Method',\n",
              " 'Theory Proposal',\n",
              " 'Performance Evaluation',\n",
              " 'Performance Evaluation',\n",
              " 'Theory Proposal',\n",
              " 'Theory Proposal',\n",
              " 'Performance Evaluation',\n",
              " 'New Algorithm/ Method',\n",
              " 'Theory Proposal',\n",
              " 'New Algorithm/ Method',\n",
              " 'New Algorithm/ Method',\n",
              " 'New Algorithm/ Method',\n",
              " 'New Algorithm/ Method',\n",
              " 'Theory Proposal',\n",
              " 'Theory Proposal',\n",
              " 'New Algorithm/ Method',\n",
              " 'Theory Proposal',\n",
              " 'New Algorithm/ Method',\n",
              " 'New Algorithm/ Method',\n",
              " 'Performance Evaluation',\n",
              " 'New Algorithm/ Method',\n",
              " 'Dataset Creation',\n",
              " 'Performance Evaluation',\n",
              " 'New Algorithm/ Method',\n",
              " 'New Algorithm/ Method',\n",
              " 'Theory Proposal',\n",
              " 'New Algorithm/ Method',\n",
              " 'New Algorithm/ Method',\n",
              " 'Performance Evaluation',\n",
              " 'Theory Proposal',\n",
              " 'New Algorithm/ Method',\n",
              " 'Performance Evaluation',\n",
              " 'Theory Proposal',\n",
              " 'Theory Proposal',\n",
              " 'Theory Proposal',\n",
              " 'New Algorithm/ Method',\n",
              " 'Performance Evaluation',\n",
              " 'New Algorithm/ Method',\n",
              " 'Performance Evaluation',\n",
              " 'Theory Proposal',\n",
              " 'Theory Proposal',\n",
              " 'New Algorithm/ Method',\n",
              " 'New Algorithm/ Method',\n",
              " 'New Algorithm/ Method',\n",
              " 'Performance Evaluation',\n",
              " 'New Algorithm/ Method',\n",
              " 'Theory Proposal',\n",
              " 'New Algorithm/ Method',\n",
              " 'Theory Proposal',\n",
              " 'Performance Evaluation',\n",
              " 'New Algorithm/ Method',\n",
              " 'Theory Proposal',\n",
              " 'New Algorithm/ Method',\n",
              " 'Theory Proposal',\n",
              " 'Theory Proposal',\n",
              " 'New Algorithm/ Method',\n",
              " 'New Algorithm/ Method',\n",
              " 'Theory Proposal',\n",
              " 'New Algorithm/ Method',\n",
              " 'New Algorithm/ Method',\n",
              " 'New Algorithm/ Method',\n",
              " 'Theory Proposal',\n",
              " 'Performance Evaluation',\n",
              " 'New Algorithm/ Method',\n",
              " 'New Algorithm/ Method',\n",
              " 'Theory Proposal',\n",
              " 'Theory Proposal',\n",
              " 'New Algorithm/ Method',\n",
              " 'New Algorithm/ Method',\n",
              " 'Theory Proposal',\n",
              " 'Theory Proposal',\n",
              " 'Performance Evaluation',\n",
              " 'Performance Evaluation',\n",
              " 'New Algorithm/ Method',\n",
              " 'Theory Proposal',\n",
              " 'New Algorithm/ Method',\n",
              " 'New Algorithm/ Method',\n",
              " 'Performance Evaluation',\n",
              " 'New Algorithm/ Method',\n",
              " 'Theory Proposal',\n",
              " 'New Algorithm/ Method',\n",
              " 'Theory Proposal',\n",
              " 'Theory Proposal',\n",
              " 'Theory Proposal',\n",
              " 'Theory Proposal',\n",
              " 'Performance Evaluation',\n",
              " 'Performance Evaluation',\n",
              " 'Performance Evaluation',\n",
              " 'New Algorithm/ Method',\n",
              " 'New Algorithm/ Method',\n",
              " 'Theory Proposal',\n",
              " 'Theory Proposal',\n",
              " 'New Algorithm/ Method',\n",
              " 'Performance Evaluation',\n",
              " 'Theory Proposal',\n",
              " 'Theory Proposal',\n",
              " 'New Algorithm/ Method',\n",
              " 'Theory Proposal',\n",
              " 'Theory Proposal',\n",
              " 'Theory Proposal',\n",
              " 'Theory Proposal',\n",
              " 'Theory Proposal',\n",
              " 'New Algorithm/ Method',\n",
              " 'Theory Proposal',\n",
              " 'Theory Proposal',\n",
              " 'Theory Proposal',\n",
              " 'Theory Proposal',\n",
              " 'Performance Evaluation',\n",
              " 'Theory Proposal',\n",
              " 'Performance Evaluation',\n",
              " 'Performance Evaluation',\n",
              " 'New Algorithm/ Method',\n",
              " 'Theory Proposal',\n",
              " 'Performance Evaluation',\n",
              " 'Performance Evaluation',\n",
              " 'New Algorithm/ Method',\n",
              " 'New Algorithm/ Method',\n",
              " 'New Algorithm/ Method',\n",
              " 'New Algorithm/ Method',\n",
              " 'Performance Evaluation',\n",
              " 'New Algorithm/ Method',\n",
              " 'New Algorithm/ Method',\n",
              " 'Performance Evaluation',\n",
              " 'Performance Evaluation',\n",
              " 'Theory Proposal',\n",
              " 'Performance Evaluation',\n",
              " 'Theory Proposal',\n",
              " 'New Algorithm/ Method',\n",
              " 'New Algorithm/ Method',\n",
              " 'New Algorithm/ Method',\n",
              " 'New Algorithm/ Method',\n",
              " 'Performance Evaluation',\n",
              " 'New Algorithm/ Method',\n",
              " 'Performance Evaluation',\n",
              " 'Performance Evaluation',\n",
              " 'New Algorithm/ Method',\n",
              " 'New Algorithm/ Method',\n",
              " 'Performance Evaluation',\n",
              " 'Performance Evaluation',\n",
              " 'New Algorithm/ Method',\n",
              " 'New Algorithm/ Method',\n",
              " 'Performance Evaluation',\n",
              " 'Theory Proposal',\n",
              " 'New Algorithm/ Method',\n",
              " 'Performance Evaluation',\n",
              " 'Theory Proposal',\n",
              " 'Theory Proposal',\n",
              " 'New Algorithm/ Method',\n",
              " 'New Algorithm/ Method',\n",
              " 'Theory Proposal',\n",
              " 'New Algorithm/ Method',\n",
              " 'Performance Evaluation',\n",
              " 'Theory Proposal',\n",
              " 'New Algorithm/ Method',\n",
              " 'Theory Proposal',\n",
              " 'Performance Evaluation',\n",
              " 'Performance Evaluation',\n",
              " 'New Algorithm/ Method',\n",
              " 'Theory Proposal',\n",
              " 'Theory Proposal',\n",
              " 'Theory Proposal',\n",
              " 'Theory Proposal',\n",
              " 'Theory Proposal',\n",
              " 'New Algorithm/ Method',\n",
              " 'Performance Evaluation',\n",
              " 'New Algorithm/ Method',\n",
              " 'Theory Proposal',\n",
              " 'Theory Proposal',\n",
              " 'New Algorithm/ Method',\n",
              " 'Theory Proposal',\n",
              " 'Theory Proposal',\n",
              " 'New Algorithm/ Method',\n",
              " 'New Algorithm/ Method',\n",
              " 'New Algorithm/ Method',\n",
              " 'Theory Proposal',\n",
              " 'New Algorithm/ Method',\n",
              " 'New Algorithm/ Method',\n",
              " 'Performance Evaluation',\n",
              " 'Theory Proposal',\n",
              " 'New Algorithm/ Method',\n",
              " 'New Algorithm/ Method',\n",
              " 'Theory Proposal',\n",
              " 'New Algorithm/ Method',\n",
              " 'New Algorithm/ Method',\n",
              " 'Dataset Creation',\n",
              " 'Theory Proposal',\n",
              " 'Theory Proposal',\n",
              " 'New Algorithm/ Method',\n",
              " 'New Algorithm/ Method',\n",
              " 'Theory Proposal',\n",
              " 'New Algorithm/ Method',\n",
              " 'New Algorithm/ Method',\n",
              " 'New Algorithm/ Method',\n",
              " 'Theory Proposal',\n",
              " 'New Algorithm/ Method',\n",
              " 'Theory Proposal',\n",
              " 'Theory Proposal',\n",
              " 'Theory Proposal',\n",
              " 'Theory Proposal',\n",
              " 'New Algorithm/ Method',\n",
              " 'Performance Evaluation',\n",
              " 'New Algorithm/ Method',\n",
              " 'New Algorithm/ Method',\n",
              " 'New Algorithm/ Method',\n",
              " 'New Algorithm/ Method',\n",
              " 'Theory Proposal',\n",
              " 'New Algorithm/ Method',\n",
              " 'Theory Proposal',\n",
              " 'Theory Proposal',\n",
              " 'New Algorithm/ Method',\n",
              " 'Theory Proposal',\n",
              " 'New Algorithm/ Method',\n",
              " 'New Algorithm/ Method',\n",
              " 'Theory Proposal',\n",
              " 'New Algorithm/ Method',\n",
              " 'Theory Proposal',\n",
              " 'New Algorithm/ Method',\n",
              " 'Theory Proposal',\n",
              " 'Performance Evaluation',\n",
              " 'Performance Evaluation',\n",
              " 'New Algorithm/ Method',\n",
              " 'New Algorithm/ Method',\n",
              " 'New Algorithm/ Method',\n",
              " 'New Algorithm/ Method',\n",
              " 'New Algorithm/ Method',\n",
              " 'Performance Evaluation',\n",
              " 'New Algorithm/ Method',\n",
              " 'Theory Proposal',\n",
              " 'New Algorithm/ Method',\n",
              " 'Theory Proposal',\n",
              " 'New Algorithm/ Method',\n",
              " 'New Algorithm/ Method',\n",
              " 'New Algorithm/ Method',\n",
              " 'New Algorithm/ Method',\n",
              " 'Performance Evaluation',\n",
              " 'Theory Proposal',\n",
              " 'New Algorithm/ Method',\n",
              " 'Performance Evaluation',\n",
              " 'Theory Proposal',\n",
              " 'New Algorithm/ Method',\n",
              " 'New Algorithm/ Method',\n",
              " 'Theory Proposal',\n",
              " 'New Algorithm/ Method',\n",
              " 'New Algorithm/ Method',\n",
              " 'Theory Proposal',\n",
              " 'Performance Evaluation',\n",
              " 'New Algorithm/ Method',\n",
              " 'New Algorithm/ Method']"
            ]
          },
          "metadata": {
            "tags": []
          },
          "execution_count": 62
        }
      ]
    },
    {
      "cell_type": "code",
      "metadata": {
        "colab": {
          "base_uri": "https://localhost:8080/"
        },
        "id": "OAeygPIx1tVS",
        "outputId": "e18d36ba-9a0a-4a1d-9467-be09404e74bf"
      },
      "source": [
        "y_test_encoded = pd.get_dummies(y_test)\r\n",
        "y_test_list = y_test_encoded.values\r\n",
        "type(y_test_list)"
      ],
      "execution_count": 63,
      "outputs": [
        {
          "output_type": "execute_result",
          "data": {
            "text/plain": [
              "numpy.ndarray"
            ]
          },
          "metadata": {
            "tags": []
          },
          "execution_count": 63
        }
      ]
    },
    {
      "cell_type": "code",
      "metadata": {
        "colab": {
          "base_uri": "https://localhost:8080/"
        },
        "id": "vf_gy9rH3QrX",
        "outputId": "b3365a8b-149f-4be6-a04d-c7e2dd3f4b41"
      },
      "source": [
        "predicted_prob[0], y_test_list[0]"
      ],
      "execution_count": 64,
      "outputs": [
        {
          "output_type": "execute_result",
          "data": {
            "text/plain": [
              "(array([0.06650553, 0.05824307, 0.04276919, 0.11914638, 0.09963378,\n",
              "        0.16973317, 0.140521  , 0.02958649, 0.27386138], dtype=float32),\n",
              " array([0, 0, 0, 1, 0, 0, 0, 0, 0], dtype=uint8))"
            ]
          },
          "metadata": {
            "tags": []
          },
          "execution_count": 64
        }
      ]
    },
    {
      "cell_type": "code",
      "metadata": {
        "colab": {
          "base_uri": "https://localhost:8080/"
        },
        "id": "2DXBis5Jzjvq",
        "outputId": "ab7777df-a4e3-46b6-82b9-d2f7a970ab4a"
      },
      "source": [
        "from sklearn import metrics\r\n",
        "classes = np.unique(y_test)\r\n",
        "y_test_array = pd.get_dummies(y_test, drop_first=False).values\r\n",
        "    \r\n",
        "## Accuracy, Precision, Recall\r\n",
        "accuracy = metrics.accuracy_score(y_test, predicted)\r\n",
        "auc = metrics.roc_auc_score(y_test, predicted_prob, \r\n",
        "                            multi_class=\"ovr\")\r\n",
        "print(\"Accuracy:\",  round(accuracy,2))\r\n",
        "print(\"Auc:\", round(auc,2))\r\n",
        "print(\"Detail:\")\r\n",
        "print(metrics.classification_report(y_test, predicted))"
      ],
      "execution_count": 65,
      "outputs": [
        {
          "output_type": "stream",
          "text": [
            "Accuracy: 0.35\n",
            "Auc: 0.67\n",
            "Detail:\n",
            "                               precision    recall  f1-score   support\n",
            "\n",
            "Algorithm/Method Optimization       0.00      0.00      0.00        26\n",
            "                 Applications       0.00      0.00      0.00        17\n",
            "             Dataset Creation       0.83      0.12      0.21        42\n",
            "           Model Optimization       0.00      0.00      0.00        41\n",
            "               Model Proposal       0.00      0.00      0.00        83\n",
            "        New Algorithm/ Method       0.40      0.66      0.50       161\n",
            "       Performance Evaluation       0.29      0.48      0.36        73\n",
            "                    Resources       0.00      0.00      0.00        22\n",
            "              Theory Proposal       0.30      0.44      0.36       156\n",
            "\n",
            "                     accuracy                           0.35       621\n",
            "                    macro avg       0.20      0.19      0.16       621\n",
            "                 weighted avg       0.27      0.35      0.28       621\n",
            "\n"
          ],
          "name": "stdout"
        },
        {
          "output_type": "stream",
          "text": [
            "/usr/local/lib/python3.6/dist-packages/sklearn/metrics/_classification.py:1272: UndefinedMetricWarning: Precision and F-score are ill-defined and being set to 0.0 in labels with no predicted samples. Use `zero_division` parameter to control this behavior.\n",
            "  _warn_prf(average, modifier, msg_start, len(result))\n"
          ],
          "name": "stderr"
        }
      ]
    },
    {
      "cell_type": "code",
      "metadata": {
        "colab": {
          "base_uri": "https://localhost:8080/",
          "height": 295
        },
        "id": "jwkMUfirpqF5",
        "outputId": "c641b8f7-2612-470a-8265-4c8c9e984efb"
      },
      "source": [
        "import matplotlib.pyplot as plt\r\n",
        "metrics = [k for k in training.history.keys() if (\"loss\" not in k) and (\"val\" not in k)]\r\n",
        "fig, ax = plt.subplots(nrows=1, ncols=2, sharey=True)\r\n",
        "ax[0].set(title=\"Training\")\r\n",
        "ax11 = ax[0].twinx()\r\n",
        "ax[0].plot(training.history['loss'], color='black')\r\n",
        "ax[0].set_xlabel('Epochs')\r\n",
        "ax[0].set_ylabel('Loss', color='black')\r\n",
        "for metric in metrics:\r\n",
        "    ax11.plot(training.history[metric], label=metric)\r\n",
        "ax11.set_ylabel(\"Score\", color='steelblue')\r\n",
        "ax11.legend()\r\n",
        "ax[1].set(title=\"Validation\")\r\n",
        "ax22 = ax[1].twinx()\r\n",
        "ax[1].plot(training.history['val_loss'], color='black')\r\n",
        "ax[1].set_xlabel('Epochs')\r\n",
        "ax[1].set_ylabel('Loss', color='black')\r\n",
        "for metric in metrics:\r\n",
        "     ax22.plot(training.history['val_'+metric], label=metric)\r\n",
        "ax22.set_ylabel(\"Score\", color=\"steelblue\")\r\n",
        "plt.show()"
      ],
      "execution_count": 66,
      "outputs": [
        {
          "output_type": "display_data",
          "data": {
            "image/png": "[encoded data removed]",
            "text/plain": [
              "<Figure size 432x288 with 4 Axes>"
            ]
          },
          "metadata": {
            "tags": [],
            "needs_background": "light"
          }
        }
      ]
    },
    {
      "cell_type": "code",
      "metadata": {
        "id": "iUUVy3x8qDEG"
      },
      "source": [
        ""
      ],
      "execution_count": 115,
      "outputs": []
    }
  ]
}