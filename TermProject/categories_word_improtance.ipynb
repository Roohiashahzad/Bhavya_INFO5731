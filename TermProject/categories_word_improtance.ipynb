{
  "nbformat": 4,
  "nbformat_minor": 0,
  "metadata": {
    "colab": {
      "name": "categories_word_improtance.ipynb",
      "provenance": []
    },
    "kernelspec": {
      "name": "python3",
      "display_name": "Python 3"
    }
  },
  "cells": [
    {
      "cell_type": "code",
      "metadata": {
        "colab": {
          "base_uri": "https://localhost:8080/",
          "height": 195
        },
        "id": "wVkPDsM6yaYg",
        "outputId": "8a324d80-8834-4ed9-f87e-ef6486760bab"
      },
      "source": [
        "import pandas as pd\n",
        "data = pd.read_csv(\"/content/final_data.csv\")\n",
        "data.head()"
      ],
      "execution_count": 66,
      "outputs": [
        {
          "output_type": "execute_result",
          "data": {
            "text/html": [
              "<div>\n",
              "<style scoped>\n",
              "    .dataframe tbody tr th:only-of-type {\n",
              "        vertical-align: middle;\n",
              "    }\n",
              "\n",
              "    .dataframe tbody tr th {\n",
              "        vertical-align: top;\n",
              "    }\n",
              "\n",
              "    .dataframe thead th {\n",
              "        text-align: right;\n",
              "    }\n",
              "</style>\n",
              "<table border=\"1\" class=\"dataframe\">\n",
              "  <thead>\n",
              "    <tr style=\"text-align: right;\">\n",
              "      <th></th>\n",
              "      <th>Contribution</th>\n",
              "      <th>Annotation 1</th>\n",
              "      <th>Annotation 2</th>\n",
              "    </tr>\n",
              "  </thead>\n",
              "  <tbody>\n",
              "    <tr>\n",
              "      <th>0</th>\n",
              "      <td>This paper describes a generic framework for g...</td>\n",
              "      <td>Theory Proposal</td>\n",
              "      <td>Theory Proposal</td>\n",
              "    </tr>\n",
              "    <tr>\n",
              "      <th>1</th>\n",
              "      <td>We present a simple, unsupervised but robust a...</td>\n",
              "      <td>New Algorithm/ Method</td>\n",
              "      <td>New Algorithm/ Method</td>\n",
              "    </tr>\n",
              "    <tr>\n",
              "      <th>2</th>\n",
              "      <td>we present a large-scale and indepth computati...</td>\n",
              "      <td>Resources</td>\n",
              "      <td>Resources</td>\n",
              "    </tr>\n",
              "    <tr>\n",
              "      <th>3</th>\n",
              "      <td>we worked with an annotated corpus of human tu...</td>\n",
              "      <td>New Algorithm/ Method</td>\n",
              "      <td>New Algorithm/ Method</td>\n",
              "    </tr>\n",
              "    <tr>\n",
              "      <th>4</th>\n",
              "      <td>we discuss one of the aspects of essay-writing...</td>\n",
              "      <td>Theory Proposal</td>\n",
              "      <td>Theory Proposal</td>\n",
              "    </tr>\n",
              "  </tbody>\n",
              "</table>\n",
              "</div>"
            ],
            "text/plain": [
              "                                        Contribution  ...           Annotation 2\n",
              "0  This paper describes a generic framework for g...  ...        Theory Proposal\n",
              "1  We present a simple, unsupervised but robust a...  ...  New Algorithm/ Method\n",
              "2  we present a large-scale and indepth computati...  ...              Resources\n",
              "3  we worked with an annotated corpus of human tu...  ...  New Algorithm/ Method\n",
              "4  we discuss one of the aspects of essay-writing...  ...        Theory Proposal\n",
              "\n",
              "[5 rows x 3 columns]"
            ]
          },
          "metadata": {
            "tags": []
          },
          "execution_count": 66
        }
      ]
    },
    {
      "cell_type": "code",
      "metadata": {
        "colab": {
          "base_uri": "https://localhost:8080/"
        },
        "id": "VwbTmgwn3CkK",
        "outputId": "f056ebc0-6954-47d6-e57b-43f745dceaa1"
      },
      "source": [
        "import nltk\n",
        "nltk.download('stopwords')\n",
        "import nltk\n",
        "nltk.download('punkt')\n",
        "from nltk.corpus import stopwords\n",
        "from textblob import TextBlob\n",
        "stop_words = stopwords.words('english')\n",
        "frequent_words = list(pd.Series(' '.join(data['Contribution']).split()).value_counts()[:15].index)\n",
        "data['data_cleaned'] = data['Contribution'].apply(lambda x: \" \".join(x for x in x.split() if x not in stop_words))\n",
        "data['data_cleaned'] = data['data_cleaned'].apply(lambda x: \" \".join(x.lower() for x in x.split()))\n",
        "data[\"data_cleaned\"] = data['data_cleaned'].apply(lambda x: ' '.join([i for i in x.split() if i not in frequent_words]))\n",
        "data['data_cleaned'] = data['data_cleaned'].str.replace('[^\\w\\s]','')\n",
        "data['data_cleaned'] = data['data_cleaned'].apply(lambda x: TextBlob(x).words)"
      ],
      "execution_count": 67,
      "outputs": [
        {
          "output_type": "stream",
          "text": [
            "[nltk_data] Downloading package stopwords to /root/nltk_data...\n",
            "[nltk_data]   Package stopwords is already up-to-date!\n",
            "[nltk_data] Downloading package punkt to /root/nltk_data...\n",
            "[nltk_data]   Package punkt is already up-to-date!\n"
          ],
          "name": "stdout"
        }
      ]
    },
    {
      "cell_type": "code",
      "metadata": {
        "colab": {
          "base_uri": "https://localhost:8080/"
        },
        "id": "nHcAqth936Fd",
        "outputId": "e0f1bffe-7d65-4a6c-c7d0-7fc17828c366"
      },
      "source": [
        "import nltk\n",
        "nltk.download('wordnet')\n",
        "from textblob import Word\n",
        "data['data_cleaned'] = data['data_cleaned'].apply(lambda x: \" \".join([Word(word).lemmatize() for word in x]))"
      ],
      "execution_count": 68,
      "outputs": [
        {
          "output_type": "stream",
          "text": [
            "[nltk_data] Downloading package wordnet to /root/nltk_data...\n",
            "[nltk_data]   Package wordnet is already up-to-date!\n"
          ],
          "name": "stdout"
        }
      ]
    },
    {
      "cell_type": "code",
      "metadata": {
        "id": "VhcqpqCP_ubI"
      },
      "source": [
        "def computeTF(value):\n",
        "  tokens = value.split(\" \")\n",
        "  number_of_tokens = len(set(tokens))\n",
        "  return tokens.count(tokens[0])/number_of_tokens"
      ],
      "execution_count": 69,
      "outputs": []
    },
    {
      "cell_type": "code",
      "metadata": {
        "id": "_jnip4a-ASTb"
      },
      "source": [
        "import math\n",
        "def computeIDF(value):\n",
        "  tokens = value.lower().split(\" \")\n",
        "  count = tokens.count(tokens[0])\n",
        "  return math.log(len(tokens)/count, 10)"
      ],
      "execution_count": 70,
      "outputs": []
    },
    {
      "cell_type": "code",
      "metadata": {
        "id": "MgBYUOTGBYmg"
      },
      "source": [
        " dataset_creation_df = data[data['Annotation 1'] == 'Dataset Creation']"
      ],
      "execution_count": 71,
      "outputs": []
    },
    {
      "cell_type": "code",
      "metadata": {
        "colab": {
          "base_uri": "https://localhost:8080/"
        },
        "id": "ZHswGboJBEiE",
        "outputId": "92aff549-aef5-450b-d8ee-6711061323a0"
      },
      "source": [
        "dataset_creation_df[\"words\"] = dataset_creation_df[\"data_cleaned\"].apply(lambda x : x.split(\" \")[0])\n",
        "dataset_creation_df[\"tf_value\"] = dataset_creation_df[\"data_cleaned\"].apply(lambda x : round(computeTF(x),2))\n",
        "dataset_creation_df[\"idf_value\"] = dataset_creation_df[\"data_cleaned\"].apply(lambda x : round(computeIDF(x),2))\n",
        "dataset_creation_df[\"tf-idf\"] = dataset_creation_df[\"tf_value\"]*dataset_creation_df[\"idf_value\"]\n",
        "dataset_creation_df = dataset_creation_df.sort_values(['tf-idf'], ascending=[False])"
      ],
      "execution_count": 72,
      "outputs": [
        {
          "output_type": "stream",
          "text": [
            "/usr/local/lib/python3.6/dist-packages/ipykernel_launcher.py:1: SettingWithCopyWarning: \n",
            "A value is trying to be set on a copy of a slice from a DataFrame.\n",
            "Try using .loc[row_indexer,col_indexer] = value instead\n",
            "\n",
            "See the caveats in the documentation: https://pandas.pydata.org/pandas-docs/stable/user_guide/indexing.html#returning-a-view-versus-a-copy\n",
            "  \"\"\"Entry point for launching an IPython kernel.\n",
            "/usr/local/lib/python3.6/dist-packages/ipykernel_launcher.py:2: SettingWithCopyWarning: \n",
            "A value is trying to be set on a copy of a slice from a DataFrame.\n",
            "Try using .loc[row_indexer,col_indexer] = value instead\n",
            "\n",
            "See the caveats in the documentation: https://pandas.pydata.org/pandas-docs/stable/user_guide/indexing.html#returning-a-view-versus-a-copy\n",
            "  \n",
            "/usr/local/lib/python3.6/dist-packages/ipykernel_launcher.py:3: SettingWithCopyWarning: \n",
            "A value is trying to be set on a copy of a slice from a DataFrame.\n",
            "Try using .loc[row_indexer,col_indexer] = value instead\n",
            "\n",
            "See the caveats in the documentation: https://pandas.pydata.org/pandas-docs/stable/user_guide/indexing.html#returning-a-view-versus-a-copy\n",
            "  This is separate from the ipykernel package so we can avoid doing imports until\n",
            "/usr/local/lib/python3.6/dist-packages/ipykernel_launcher.py:4: SettingWithCopyWarning: \n",
            "A value is trying to be set on a copy of a slice from a DataFrame.\n",
            "Try using .loc[row_indexer,col_indexer] = value instead\n",
            "\n",
            "See the caveats in the documentation: https://pandas.pydata.org/pandas-docs/stable/user_guide/indexing.html#returning-a-view-versus-a-copy\n",
            "  after removing the cwd from sys.path.\n"
          ],
          "name": "stderr"
        }
      ]
    },
    {
      "cell_type": "code",
      "metadata": {
        "colab": {
          "base_uri": "https://localhost:8080/",
          "height": 343
        },
        "id": "G03BNU8RCFar",
        "outputId": "e06795d7-f1e4-4bee-a36f-98d557bc5460"
      },
      "source": [
        "dataset_creation_df[['words', 'tf-idf']].head(10)"
      ],
      "execution_count": 73,
      "outputs": [
        {
          "output_type": "execute_result",
          "data": {
            "text/html": [
              "<div>\n",
              "<style scoped>\n",
              "    .dataframe tbody tr th:only-of-type {\n",
              "        vertical-align: middle;\n",
              "    }\n",
              "\n",
              "    .dataframe tbody tr th {\n",
              "        vertical-align: top;\n",
              "    }\n",
              "\n",
              "    .dataframe thead th {\n",
              "        text-align: right;\n",
              "    }\n",
              "</style>\n",
              "<table border=\"1\" class=\"dataframe\">\n",
              "  <thead>\n",
              "    <tr style=\"text-align: right;\">\n",
              "      <th></th>\n",
              "      <th>words</th>\n",
              "      <th>tf-idf</th>\n",
              "    </tr>\n",
              "  </thead>\n",
              "  <tbody>\n",
              "    <tr>\n",
              "      <th>379</th>\n",
              "      <td>connective</td>\n",
              "      <td>0.1728</td>\n",
              "    </tr>\n",
              "    <tr>\n",
              "      <th>2530</th>\n",
              "      <td>provide</td>\n",
              "      <td>0.1400</td>\n",
              "    </tr>\n",
              "    <tr>\n",
              "      <th>2835</th>\n",
              "      <td>conduct</td>\n",
              "      <td>0.1326</td>\n",
              "    </tr>\n",
              "    <tr>\n",
              "      <th>1167</th>\n",
              "      <td>smaller</td>\n",
              "      <td>0.1326</td>\n",
              "    </tr>\n",
              "    <tr>\n",
              "      <th>2107</th>\n",
              "      <td>present</td>\n",
              "      <td>0.1326</td>\n",
              "    </tr>\n",
              "    <tr>\n",
              "      <th>2728</th>\n",
              "      <td>avoid</td>\n",
              "      <td>0.1326</td>\n",
              "    </tr>\n",
              "    <tr>\n",
              "      <th>2703</th>\n",
              "      <td>first</td>\n",
              "      <td>0.1326</td>\n",
              "    </tr>\n",
              "    <tr>\n",
              "      <th>2340</th>\n",
              "      <td>achieve</td>\n",
              "      <td>0.1326</td>\n",
              "    </tr>\n",
              "    <tr>\n",
              "      <th>2545</th>\n",
              "      <td>achieve</td>\n",
              "      <td>0.1326</td>\n",
              "    </tr>\n",
              "    <tr>\n",
              "      <th>236</th>\n",
              "      <td>prepare</td>\n",
              "      <td>0.1326</td>\n",
              "    </tr>\n",
              "  </tbody>\n",
              "</table>\n",
              "</div>"
            ],
            "text/plain": [
              "           words  tf-idf\n",
              "379   connective  0.1728\n",
              "2530     provide  0.1400\n",
              "2835     conduct  0.1326\n",
              "1167     smaller  0.1326\n",
              "2107     present  0.1326\n",
              "2728       avoid  0.1326\n",
              "2703       first  0.1326\n",
              "2340     achieve  0.1326\n",
              "2545     achieve  0.1326\n",
              "236      prepare  0.1326"
            ]
          },
          "metadata": {
            "tags": []
          },
          "execution_count": 73
        }
      ]
    },
    {
      "cell_type": "code",
      "metadata": {
        "id": "Ob7lPj7kFbUK"
      },
      "source": [
        " theory_proposal_df = data[data['Annotation 1'] == 'Theory Proposal']"
      ],
      "execution_count": 74,
      "outputs": []
    },
    {
      "cell_type": "code",
      "metadata": {
        "colab": {
          "base_uri": "https://localhost:8080/"
        },
        "id": "W7vJiQp1GwnN",
        "outputId": "e98a0b9d-44ef-4e91-db0d-03bc1bae1875"
      },
      "source": [
        "theory_proposal_df[\"words\"] = theory_proposal_df[\"data_cleaned\"].apply(lambda x : x.split(\" \")[0])\n",
        "theory_proposal_df[\"tf_value\"] = theory_proposal_df[\"data_cleaned\"].apply(lambda x : round(computeTF(x),2))\n",
        "theory_proposal_df[\"idf_value\"] = theory_proposal_df[\"data_cleaned\"].apply(lambda x : round(computeIDF(x),2))\n",
        "theory_proposal_df[\"tf-idf\"] = theory_proposal_df[\"tf_value\"]*theory_proposal_df[\"idf_value\"]\n",
        "theory_proposal_df = theory_proposal_df.sort_values(['tf-idf'], ascending=[False])"
      ],
      "execution_count": 75,
      "outputs": [
        {
          "output_type": "stream",
          "text": [
            "/usr/local/lib/python3.6/dist-packages/ipykernel_launcher.py:1: SettingWithCopyWarning: \n",
            "A value is trying to be set on a copy of a slice from a DataFrame.\n",
            "Try using .loc[row_indexer,col_indexer] = value instead\n",
            "\n",
            "See the caveats in the documentation: https://pandas.pydata.org/pandas-docs/stable/user_guide/indexing.html#returning-a-view-versus-a-copy\n",
            "  \"\"\"Entry point for launching an IPython kernel.\n",
            "/usr/local/lib/python3.6/dist-packages/ipykernel_launcher.py:2: SettingWithCopyWarning: \n",
            "A value is trying to be set on a copy of a slice from a DataFrame.\n",
            "Try using .loc[row_indexer,col_indexer] = value instead\n",
            "\n",
            "See the caveats in the documentation: https://pandas.pydata.org/pandas-docs/stable/user_guide/indexing.html#returning-a-view-versus-a-copy\n",
            "  \n",
            "/usr/local/lib/python3.6/dist-packages/ipykernel_launcher.py:3: SettingWithCopyWarning: \n",
            "A value is trying to be set on a copy of a slice from a DataFrame.\n",
            "Try using .loc[row_indexer,col_indexer] = value instead\n",
            "\n",
            "See the caveats in the documentation: https://pandas.pydata.org/pandas-docs/stable/user_guide/indexing.html#returning-a-view-versus-a-copy\n",
            "  This is separate from the ipykernel package so we can avoid doing imports until\n",
            "/usr/local/lib/python3.6/dist-packages/ipykernel_launcher.py:4: SettingWithCopyWarning: \n",
            "A value is trying to be set on a copy of a slice from a DataFrame.\n",
            "Try using .loc[row_indexer,col_indexer] = value instead\n",
            "\n",
            "See the caveats in the documentation: https://pandas.pydata.org/pandas-docs/stable/user_guide/indexing.html#returning-a-view-versus-a-copy\n",
            "  after removing the cwd from sys.path.\n"
          ],
          "name": "stderr"
        }
      ]
    },
    {
      "cell_type": "code",
      "metadata": {
        "colab": {
          "base_uri": "https://localhost:8080/",
          "height": 343
        },
        "id": "Ppl7hk7TG57l",
        "outputId": "d6872e86-a147-4728-e1cd-acd103048cb8"
      },
      "source": [
        "theory_proposal_df[['words', 'tf-idf']].head(10)"
      ],
      "execution_count": 76,
      "outputs": [
        {
          "output_type": "execute_result",
          "data": {
            "text/html": [
              "<div>\n",
              "<style scoped>\n",
              "    .dataframe tbody tr th:only-of-type {\n",
              "        vertical-align: middle;\n",
              "    }\n",
              "\n",
              "    .dataframe tbody tr th {\n",
              "        vertical-align: top;\n",
              "    }\n",
              "\n",
              "    .dataframe thead th {\n",
              "        text-align: right;\n",
              "    }\n",
              "</style>\n",
              "<table border=\"1\" class=\"dataframe\">\n",
              "  <thead>\n",
              "    <tr style=\"text-align: right;\">\n",
              "      <th></th>\n",
              "      <th>words</th>\n",
              "      <th>tf-idf</th>\n",
              "    </tr>\n",
              "  </thead>\n",
              "  <tbody>\n",
              "    <tr>\n",
              "      <th>1905</th>\n",
              "      <td>paper</td>\n",
              "      <td>0.2125</td>\n",
              "    </tr>\n",
              "    <tr>\n",
              "      <th>2694</th>\n",
              "      <td>end</td>\n",
              "      <td>0.1782</td>\n",
              "    </tr>\n",
              "    <tr>\n",
              "      <th>152</th>\n",
              "      <td>reason</td>\n",
              "      <td>0.1625</td>\n",
              "    </tr>\n",
              "    <tr>\n",
              "      <th>180</th>\n",
              "      <td>measure</td>\n",
              "      <td>0.1540</td>\n",
              "    </tr>\n",
              "    <tr>\n",
              "      <th>1260</th>\n",
              "      <td>knowledge</td>\n",
              "      <td>0.1540</td>\n",
              "    </tr>\n",
              "    <tr>\n",
              "      <th>789</th>\n",
              "      <td>also</td>\n",
              "      <td>0.1500</td>\n",
              "    </tr>\n",
              "    <tr>\n",
              "      <th>2784</th>\n",
              "      <td>release</td>\n",
              "      <td>0.1500</td>\n",
              "    </tr>\n",
              "    <tr>\n",
              "      <th>643</th>\n",
              "      <td>describe</td>\n",
              "      <td>0.1500</td>\n",
              "    </tr>\n",
              "    <tr>\n",
              "      <th>2373</th>\n",
              "      <td>introduce</td>\n",
              "      <td>0.1445</td>\n",
              "    </tr>\n",
              "    <tr>\n",
              "      <th>408</th>\n",
              "      <td>identification</td>\n",
              "      <td>0.1445</td>\n",
              "    </tr>\n",
              "  </tbody>\n",
              "</table>\n",
              "</div>"
            ],
            "text/plain": [
              "               words  tf-idf\n",
              "1905           paper  0.2125\n",
              "2694             end  0.1782\n",
              "152           reason  0.1625\n",
              "180          measure  0.1540\n",
              "1260       knowledge  0.1540\n",
              "789             also  0.1500\n",
              "2784         release  0.1500\n",
              "643         describe  0.1500\n",
              "2373       introduce  0.1445\n",
              "408   identification  0.1445"
            ]
          },
          "metadata": {
            "tags": []
          },
          "execution_count": 76
        }
      ]
    },
    {
      "cell_type": "code",
      "metadata": {
        "id": "MPnACGKcG_KS"
      },
      "source": [
        " performance_evaluation_df = data[data['Annotation 1'] == 'Performance Evaluation']"
      ],
      "execution_count": 77,
      "outputs": []
    },
    {
      "cell_type": "code",
      "metadata": {
        "colab": {
          "base_uri": "https://localhost:8080/"
        },
        "id": "y7_YA0uKH_dI",
        "outputId": "783125ff-f2d8-4350-a791-5d099e45cd04"
      },
      "source": [
        "performance_evaluation_df[\"words\"] = performance_evaluation_df[\"data_cleaned\"].apply(lambda x : x.split(\" \")[0])\n",
        "performance_evaluation_df[\"tf_value\"] = performance_evaluation_df[\"data_cleaned\"].apply(lambda x : round(computeTF(x),2))\n",
        "performance_evaluation_df[\"idf_value\"] = performance_evaluation_df[\"data_cleaned\"].apply(lambda x : round(computeIDF(x),2))\n",
        "performance_evaluation_df[\"tf-idf\"] = performance_evaluation_df[\"tf_value\"]*performance_evaluation_df[\"idf_value\"]\n",
        "performance_evaluation_df = performance_evaluation_df.sort_values(['tf-idf'], ascending=[False])"
      ],
      "execution_count": 78,
      "outputs": [
        {
          "output_type": "stream",
          "text": [
            "/usr/local/lib/python3.6/dist-packages/ipykernel_launcher.py:1: SettingWithCopyWarning: \n",
            "A value is trying to be set on a copy of a slice from a DataFrame.\n",
            "Try using .loc[row_indexer,col_indexer] = value instead\n",
            "\n",
            "See the caveats in the documentation: https://pandas.pydata.org/pandas-docs/stable/user_guide/indexing.html#returning-a-view-versus-a-copy\n",
            "  \"\"\"Entry point for launching an IPython kernel.\n",
            "/usr/local/lib/python3.6/dist-packages/ipykernel_launcher.py:2: SettingWithCopyWarning: \n",
            "A value is trying to be set on a copy of a slice from a DataFrame.\n",
            "Try using .loc[row_indexer,col_indexer] = value instead\n",
            "\n",
            "See the caveats in the documentation: https://pandas.pydata.org/pandas-docs/stable/user_guide/indexing.html#returning-a-view-versus-a-copy\n",
            "  \n",
            "/usr/local/lib/python3.6/dist-packages/ipykernel_launcher.py:3: SettingWithCopyWarning: \n",
            "A value is trying to be set on a copy of a slice from a DataFrame.\n",
            "Try using .loc[row_indexer,col_indexer] = value instead\n",
            "\n",
            "See the caveats in the documentation: https://pandas.pydata.org/pandas-docs/stable/user_guide/indexing.html#returning-a-view-versus-a-copy\n",
            "  This is separate from the ipykernel package so we can avoid doing imports until\n",
            "/usr/local/lib/python3.6/dist-packages/ipykernel_launcher.py:4: SettingWithCopyWarning: \n",
            "A value is trying to be set on a copy of a slice from a DataFrame.\n",
            "Try using .loc[row_indexer,col_indexer] = value instead\n",
            "\n",
            "See the caveats in the documentation: https://pandas.pydata.org/pandas-docs/stable/user_guide/indexing.html#returning-a-view-versus-a-copy\n",
            "  after removing the cwd from sys.path.\n"
          ],
          "name": "stderr"
        }
      ]
    },
    {
      "cell_type": "code",
      "metadata": {
        "colab": {
          "base_uri": "https://localhost:8080/",
          "height": 343
        },
        "id": "CbbbSLEeIJgg",
        "outputId": "74721b01-608f-48ad-e815-668d070f9aff"
      },
      "source": [
        "performance_evaluation_df[['words', 'tf-idf']].head(10)"
      ],
      "execution_count": 79,
      "outputs": [
        {
          "output_type": "execute_result",
          "data": {
            "text/html": [
              "<div>\n",
              "<style scoped>\n",
              "    .dataframe tbody tr th:only-of-type {\n",
              "        vertical-align: middle;\n",
              "    }\n",
              "\n",
              "    .dataframe tbody tr th {\n",
              "        vertical-align: top;\n",
              "    }\n",
              "\n",
              "    .dataframe thead th {\n",
              "        text-align: right;\n",
              "    }\n",
              "</style>\n",
              "<table border=\"1\" class=\"dataframe\">\n",
              "  <thead>\n",
              "    <tr style=\"text-align: right;\">\n",
              "      <th></th>\n",
              "      <th>words</th>\n",
              "      <th>tf-idf</th>\n",
              "    </tr>\n",
              "  </thead>\n",
              "  <tbody>\n",
              "    <tr>\n",
              "      <th>2321</th>\n",
              "      <td>evaluate</td>\n",
              "      <td>0.1400</td>\n",
              "    </tr>\n",
              "    <tr>\n",
              "      <th>1173</th>\n",
              "      <td>verified</td>\n",
              "      <td>0.1326</td>\n",
              "    </tr>\n",
              "    <tr>\n",
              "      <th>2991</th>\n",
              "      <td>test</td>\n",
              "      <td>0.1326</td>\n",
              "    </tr>\n",
              "    <tr>\n",
              "      <th>1489</th>\n",
              "      <td>demonstrate</td>\n",
              "      <td>0.1326</td>\n",
              "    </tr>\n",
              "    <tr>\n",
              "      <th>587</th>\n",
              "      <td>predict</td>\n",
              "      <td>0.1326</td>\n",
              "    </tr>\n",
              "    <tr>\n",
              "      <th>2706</th>\n",
              "      <td>neural</td>\n",
              "      <td>0.1326</td>\n",
              "    </tr>\n",
              "    <tr>\n",
              "      <th>813</th>\n",
              "      <td>our</td>\n",
              "      <td>0.1326</td>\n",
              "    </tr>\n",
              "    <tr>\n",
              "      <th>588</th>\n",
              "      <td>rank</td>\n",
              "      <td>0.1326</td>\n",
              "    </tr>\n",
              "    <tr>\n",
              "      <th>193</th>\n",
              "      <td>incorporate</td>\n",
              "      <td>0.1326</td>\n",
              "    </tr>\n",
              "    <tr>\n",
              "      <th>2304</th>\n",
              "      <td>focus</td>\n",
              "      <td>0.1260</td>\n",
              "    </tr>\n",
              "  </tbody>\n",
              "</table>\n",
              "</div>"
            ],
            "text/plain": [
              "            words  tf-idf\n",
              "2321     evaluate  0.1400\n",
              "1173     verified  0.1326\n",
              "2991         test  0.1326\n",
              "1489  demonstrate  0.1326\n",
              "587       predict  0.1326\n",
              "2706       neural  0.1326\n",
              "813           our  0.1326\n",
              "588          rank  0.1326\n",
              "193   incorporate  0.1326\n",
              "2304        focus  0.1260"
            ]
          },
          "metadata": {
            "tags": []
          },
          "execution_count": 79
        }
      ]
    },
    {
      "cell_type": "code",
      "metadata": {
        "id": "HCKeqW3dINiR"
      },
      "source": [
        " model_proposal_df = data[data['Annotation 1'] == 'Model Proposal']"
      ],
      "execution_count": 80,
      "outputs": []
    },
    {
      "cell_type": "code",
      "metadata": {
        "colab": {
          "base_uri": "https://localhost:8080/"
        },
        "id": "k0xtcPvIIW0z",
        "outputId": "070b7404-4c3d-499c-8ad3-69f595684b8f"
      },
      "source": [
        "model_proposal_df[\"words\"] = model_proposal_df[\"data_cleaned\"].apply(lambda x : x.split(\" \")[0])\n",
        "model_proposal_df[\"tf_value\"] = model_proposal_df[\"data_cleaned\"].apply(lambda x : round(computeTF(x),2))\n",
        "model_proposal_df[\"idf_value\"] = model_proposal_df[\"data_cleaned\"].apply(lambda x : round(computeIDF(x),2))\n",
        "model_proposal_df[\"tf-idf\"] = model_proposal_df[\"tf_value\"]*model_proposal_df[\"idf_value\"]\n",
        "model_proposal_df = model_proposal_df.sort_values(['tf-idf'], ascending=[False])"
      ],
      "execution_count": 81,
      "outputs": [
        {
          "output_type": "stream",
          "text": [
            "/usr/local/lib/python3.6/dist-packages/ipykernel_launcher.py:1: SettingWithCopyWarning: \n",
            "A value is trying to be set on a copy of a slice from a DataFrame.\n",
            "Try using .loc[row_indexer,col_indexer] = value instead\n",
            "\n",
            "See the caveats in the documentation: https://pandas.pydata.org/pandas-docs/stable/user_guide/indexing.html#returning-a-view-versus-a-copy\n",
            "  \"\"\"Entry point for launching an IPython kernel.\n",
            "/usr/local/lib/python3.6/dist-packages/ipykernel_launcher.py:2: SettingWithCopyWarning: \n",
            "A value is trying to be set on a copy of a slice from a DataFrame.\n",
            "Try using .loc[row_indexer,col_indexer] = value instead\n",
            "\n",
            "See the caveats in the documentation: https://pandas.pydata.org/pandas-docs/stable/user_guide/indexing.html#returning-a-view-versus-a-copy\n",
            "  \n",
            "/usr/local/lib/python3.6/dist-packages/ipykernel_launcher.py:3: SettingWithCopyWarning: \n",
            "A value is trying to be set on a copy of a slice from a DataFrame.\n",
            "Try using .loc[row_indexer,col_indexer] = value instead\n",
            "\n",
            "See the caveats in the documentation: https://pandas.pydata.org/pandas-docs/stable/user_guide/indexing.html#returning-a-view-versus-a-copy\n",
            "  This is separate from the ipykernel package so we can avoid doing imports until\n",
            "/usr/local/lib/python3.6/dist-packages/ipykernel_launcher.py:4: SettingWithCopyWarning: \n",
            "A value is trying to be set on a copy of a slice from a DataFrame.\n",
            "Try using .loc[row_indexer,col_indexer] = value instead\n",
            "\n",
            "See the caveats in the documentation: https://pandas.pydata.org/pandas-docs/stable/user_guide/indexing.html#returning-a-view-versus-a-copy\n",
            "  after removing the cwd from sys.path.\n"
          ],
          "name": "stderr"
        }
      ]
    },
    {
      "cell_type": "code",
      "metadata": {
        "colab": {
          "base_uri": "https://localhost:8080/",
          "height": 343
        },
        "id": "HrqAeNUNIfYl",
        "outputId": "14ba864d-6488-4bab-f26e-0a74fe380443"
      },
      "source": [
        "model_proposal_df[['words', 'tf-idf']].head(10)"
      ],
      "execution_count": 82,
      "outputs": [
        {
          "output_type": "execute_result",
          "data": {
            "text/html": [
              "<div>\n",
              "<style scoped>\n",
              "    .dataframe tbody tr th:only-of-type {\n",
              "        vertical-align: middle;\n",
              "    }\n",
              "\n",
              "    .dataframe tbody tr th {\n",
              "        vertical-align: top;\n",
              "    }\n",
              "\n",
              "    .dataframe thead th {\n",
              "        text-align: right;\n",
              "    }\n",
              "</style>\n",
              "<table border=\"1\" class=\"dataframe\">\n",
              "  <thead>\n",
              "    <tr style=\"text-align: right;\">\n",
              "      <th></th>\n",
              "      <th>words</th>\n",
              "      <th>tf-idf</th>\n",
              "    </tr>\n",
              "  </thead>\n",
              "  <tbody>\n",
              "    <tr>\n",
              "      <th>1179</th>\n",
              "      <td>try</td>\n",
              "      <td>0.1615</td>\n",
              "    </tr>\n",
              "    <tr>\n",
              "      <th>287</th>\n",
              "      <td>response</td>\n",
              "      <td>0.1540</td>\n",
              "    </tr>\n",
              "    <tr>\n",
              "      <th>1208</th>\n",
              "      <td>sentiment</td>\n",
              "      <td>0.1520</td>\n",
              "    </tr>\n",
              "    <tr>\n",
              "      <th>1335</th>\n",
              "      <td>entitycentric</td>\n",
              "      <td>0.1500</td>\n",
              "    </tr>\n",
              "    <tr>\n",
              "      <th>2240</th>\n",
              "      <td>question</td>\n",
              "      <td>0.1480</td>\n",
              "    </tr>\n",
              "    <tr>\n",
              "      <th>2838</th>\n",
              "      <td>multimodal</td>\n",
              "      <td>0.1445</td>\n",
              "    </tr>\n",
              "    <tr>\n",
              "      <th>2924</th>\n",
              "      <td>model</td>\n",
              "      <td>0.1404</td>\n",
              "    </tr>\n",
              "    <tr>\n",
              "      <th>2514</th>\n",
              "      <td>herbert</td>\n",
              "      <td>0.1400</td>\n",
              "    </tr>\n",
              "    <tr>\n",
              "      <th>2248</th>\n",
              "      <td>transferlearningbased</td>\n",
              "      <td>0.1400</td>\n",
              "    </tr>\n",
              "    <tr>\n",
              "      <th>2712</th>\n",
              "      <td>our</td>\n",
              "      <td>0.1400</td>\n",
              "    </tr>\n",
              "  </tbody>\n",
              "</table>\n",
              "</div>"
            ],
            "text/plain": [
              "                      words  tf-idf\n",
              "1179                    try  0.1615\n",
              "287                response  0.1540\n",
              "1208              sentiment  0.1520\n",
              "1335          entitycentric  0.1500\n",
              "2240               question  0.1480\n",
              "2838             multimodal  0.1445\n",
              "2924                  model  0.1404\n",
              "2514                herbert  0.1400\n",
              "2248  transferlearningbased  0.1400\n",
              "2712                    our  0.1400"
            ]
          },
          "metadata": {
            "tags": []
          },
          "execution_count": 82
        }
      ]
    },
    {
      "cell_type": "code",
      "metadata": {
        "id": "t6u59MG9Ij0V"
      },
      "source": [
        "model_optimization_df = data[data['Annotation 1'] == 'Model Optimization']"
      ],
      "execution_count": 83,
      "outputs": []
    },
    {
      "cell_type": "code",
      "metadata": {
        "colab": {
          "base_uri": "https://localhost:8080/"
        },
        "id": "twilmPMWIvNI",
        "outputId": "19da822e-d42d-4d42-bbfb-4fd5760c802f"
      },
      "source": [
        "model_optimization_df[\"words\"] = model_optimization_df[\"data_cleaned\"].apply(lambda x : x.split(\" \")[0])\n",
        "model_optimization_df[\"tf_value\"] = model_optimization_df[\"data_cleaned\"].apply(lambda x : round(computeTF(x),2))\n",
        "model_optimization_df[\"idf_value\"] = model_optimization_df[\"data_cleaned\"].apply(lambda x : round(computeIDF(x),2))\n",
        "model_optimization_df[\"tf-idf\"] = model_optimization_df[\"tf_value\"]*model_optimization_df[\"idf_value\"]\n",
        "model_optimization_df = model_optimization_df.sort_values(['tf-idf'], ascending=[False])"
      ],
      "execution_count": 84,
      "outputs": [
        {
          "output_type": "stream",
          "text": [
            "/usr/local/lib/python3.6/dist-packages/ipykernel_launcher.py:1: SettingWithCopyWarning: \n",
            "A value is trying to be set on a copy of a slice from a DataFrame.\n",
            "Try using .loc[row_indexer,col_indexer] = value instead\n",
            "\n",
            "See the caveats in the documentation: https://pandas.pydata.org/pandas-docs/stable/user_guide/indexing.html#returning-a-view-versus-a-copy\n",
            "  \"\"\"Entry point for launching an IPython kernel.\n",
            "/usr/local/lib/python3.6/dist-packages/ipykernel_launcher.py:2: SettingWithCopyWarning: \n",
            "A value is trying to be set on a copy of a slice from a DataFrame.\n",
            "Try using .loc[row_indexer,col_indexer] = value instead\n",
            "\n",
            "See the caveats in the documentation: https://pandas.pydata.org/pandas-docs/stable/user_guide/indexing.html#returning-a-view-versus-a-copy\n",
            "  \n",
            "/usr/local/lib/python3.6/dist-packages/ipykernel_launcher.py:3: SettingWithCopyWarning: \n",
            "A value is trying to be set on a copy of a slice from a DataFrame.\n",
            "Try using .loc[row_indexer,col_indexer] = value instead\n",
            "\n",
            "See the caveats in the documentation: https://pandas.pydata.org/pandas-docs/stable/user_guide/indexing.html#returning-a-view-versus-a-copy\n",
            "  This is separate from the ipykernel package so we can avoid doing imports until\n",
            "/usr/local/lib/python3.6/dist-packages/ipykernel_launcher.py:4: SettingWithCopyWarning: \n",
            "A value is trying to be set on a copy of a slice from a DataFrame.\n",
            "Try using .loc[row_indexer,col_indexer] = value instead\n",
            "\n",
            "See the caveats in the documentation: https://pandas.pydata.org/pandas-docs/stable/user_guide/indexing.html#returning-a-view-versus-a-copy\n",
            "  after removing the cwd from sys.path.\n"
          ],
          "name": "stderr"
        }
      ]
    },
    {
      "cell_type": "code",
      "metadata": {
        "colab": {
          "base_uri": "https://localhost:8080/",
          "height": 343
        },
        "id": "Fc_fajGII4Zk",
        "outputId": "3285ef2b-549f-419f-8763-0ef37dfd81dc"
      },
      "source": [
        "model_optimization_df[['words', 'tf-idf']].head(10)"
      ],
      "execution_count": 85,
      "outputs": [
        {
          "output_type": "execute_result",
          "data": {
            "text/html": [
              "<div>\n",
              "<style scoped>\n",
              "    .dataframe tbody tr th:only-of-type {\n",
              "        vertical-align: middle;\n",
              "    }\n",
              "\n",
              "    .dataframe tbody tr th {\n",
              "        vertical-align: top;\n",
              "    }\n",
              "\n",
              "    .dataframe thead th {\n",
              "        text-align: right;\n",
              "    }\n",
              "</style>\n",
              "<table border=\"1\" class=\"dataframe\">\n",
              "  <thead>\n",
              "    <tr style=\"text-align: right;\">\n",
              "      <th></th>\n",
              "      <th>words</th>\n",
              "      <th>tf-idf</th>\n",
              "    </tr>\n",
              "  </thead>\n",
              "  <tbody>\n",
              "    <tr>\n",
              "      <th>1660</th>\n",
              "      <td>quaternion</td>\n",
              "      <td>0.1872</td>\n",
              "    </tr>\n",
              "    <tr>\n",
              "      <th>803</th>\n",
              "      <td>specialize</td>\n",
              "      <td>0.1584</td>\n",
              "    </tr>\n",
              "    <tr>\n",
              "      <th>578</th>\n",
              "      <td>extend</td>\n",
              "      <td>0.1500</td>\n",
              "    </tr>\n",
              "    <tr>\n",
              "      <th>594</th>\n",
              "      <td>reimplement</td>\n",
              "      <td>0.1500</td>\n",
              "    </tr>\n",
              "    <tr>\n",
              "      <th>2723</th>\n",
              "      <td>explore</td>\n",
              "      <td>0.1326</td>\n",
              "    </tr>\n",
              "    <tr>\n",
              "      <th>826</th>\n",
              "      <td>visualizing</td>\n",
              "      <td>0.1326</td>\n",
              "    </tr>\n",
              "    <tr>\n",
              "      <th>1196</th>\n",
              "      <td>show</td>\n",
              "      <td>0.1275</td>\n",
              "    </tr>\n",
              "    <tr>\n",
              "      <th>1802</th>\n",
              "      <td>dialogue</td>\n",
              "      <td>0.1235</td>\n",
              "    </tr>\n",
              "    <tr>\n",
              "      <th>2056</th>\n",
              "      <td>this</td>\n",
              "      <td>0.1200</td>\n",
              "    </tr>\n",
              "    <tr>\n",
              "      <th>1009</th>\n",
              "      <td>paper</td>\n",
              "      <td>0.1190</td>\n",
              "    </tr>\n",
              "  </tbody>\n",
              "</table>\n",
              "</div>"
            ],
            "text/plain": [
              "            words  tf-idf\n",
              "1660   quaternion  0.1872\n",
              "803    specialize  0.1584\n",
              "578        extend  0.1500\n",
              "594   reimplement  0.1500\n",
              "2723      explore  0.1326\n",
              "826   visualizing  0.1326\n",
              "1196         show  0.1275\n",
              "1802     dialogue  0.1235\n",
              "2056         this  0.1200\n",
              "1009        paper  0.1190"
            ]
          },
          "metadata": {
            "tags": []
          },
          "execution_count": 85
        }
      ]
    },
    {
      "cell_type": "code",
      "metadata": {
        "id": "2gZdQWSHI8dv"
      },
      "source": [
        "algorithm_df = data[data['Annotation 1'] == 'New Algorithm/ Method']"
      ],
      "execution_count": 86,
      "outputs": []
    },
    {
      "cell_type": "code",
      "metadata": {
        "colab": {
          "base_uri": "https://localhost:8080/"
        },
        "id": "ikyLZsjAJEnF",
        "outputId": "048d5cb6-25ad-45f9-baf8-0ab70fda70ce"
      },
      "source": [
        "algorithm_df[\"words\"] = algorithm_df[\"data_cleaned\"].apply(lambda x : x.split(\" \")[0])\n",
        "algorithm_df[\"tf_value\"] = algorithm_df[\"data_cleaned\"].apply(lambda x : round(computeTF(x),2))\n",
        "algorithm_df[\"idf_value\"] = algorithm_df[\"data_cleaned\"].apply(lambda x : round(computeIDF(x),2))\n",
        "algorithm_df[\"tf-idf\"] = algorithm_df[\"tf_value\"]*algorithm_df[\"idf_value\"]\n",
        "algorithm_df = algorithm_df.sort_values(['tf-idf'], ascending=[False])"
      ],
      "execution_count": 87,
      "outputs": [
        {
          "output_type": "stream",
          "text": [
            "/usr/local/lib/python3.6/dist-packages/ipykernel_launcher.py:1: SettingWithCopyWarning: \n",
            "A value is trying to be set on a copy of a slice from a DataFrame.\n",
            "Try using .loc[row_indexer,col_indexer] = value instead\n",
            "\n",
            "See the caveats in the documentation: https://pandas.pydata.org/pandas-docs/stable/user_guide/indexing.html#returning-a-view-versus-a-copy\n",
            "  \"\"\"Entry point for launching an IPython kernel.\n",
            "/usr/local/lib/python3.6/dist-packages/ipykernel_launcher.py:2: SettingWithCopyWarning: \n",
            "A value is trying to be set on a copy of a slice from a DataFrame.\n",
            "Try using .loc[row_indexer,col_indexer] = value instead\n",
            "\n",
            "See the caveats in the documentation: https://pandas.pydata.org/pandas-docs/stable/user_guide/indexing.html#returning-a-view-versus-a-copy\n",
            "  \n",
            "/usr/local/lib/python3.6/dist-packages/ipykernel_launcher.py:3: SettingWithCopyWarning: \n",
            "A value is trying to be set on a copy of a slice from a DataFrame.\n",
            "Try using .loc[row_indexer,col_indexer] = value instead\n",
            "\n",
            "See the caveats in the documentation: https://pandas.pydata.org/pandas-docs/stable/user_guide/indexing.html#returning-a-view-versus-a-copy\n",
            "  This is separate from the ipykernel package so we can avoid doing imports until\n",
            "/usr/local/lib/python3.6/dist-packages/ipykernel_launcher.py:4: SettingWithCopyWarning: \n",
            "A value is trying to be set on a copy of a slice from a DataFrame.\n",
            "Try using .loc[row_indexer,col_indexer] = value instead\n",
            "\n",
            "See the caveats in the documentation: https://pandas.pydata.org/pandas-docs/stable/user_guide/indexing.html#returning-a-view-versus-a-copy\n",
            "  after removing the cwd from sys.path.\n"
          ],
          "name": "stderr"
        }
      ]
    },
    {
      "cell_type": "code",
      "metadata": {
        "colab": {
          "base_uri": "https://localhost:8080/",
          "height": 343
        },
        "id": "-4h1owtFJMxI",
        "outputId": "7d93afcc-620a-465b-af67-3d4174c87b3f"
      },
      "source": [
        "algorithm_df[['words', 'tf-idf']].head(10)"
      ],
      "execution_count": 88,
      "outputs": [
        {
          "output_type": "execute_result",
          "data": {
            "text/html": [
              "<div>\n",
              "<style scoped>\n",
              "    .dataframe tbody tr th:only-of-type {\n",
              "        vertical-align: middle;\n",
              "    }\n",
              "\n",
              "    .dataframe tbody tr th {\n",
              "        vertical-align: top;\n",
              "    }\n",
              "\n",
              "    .dataframe thead th {\n",
              "        text-align: right;\n",
              "    }\n",
              "</style>\n",
              "<table border=\"1\" class=\"dataframe\">\n",
              "  <thead>\n",
              "    <tr style=\"text-align: right;\">\n",
              "      <th></th>\n",
              "      <th>words</th>\n",
              "      <th>tf-idf</th>\n",
              "    </tr>\n",
              "  </thead>\n",
              "  <tbody>\n",
              "    <tr>\n",
              "      <th>2678</th>\n",
              "      <td>olp</td>\n",
              "      <td>0.1976</td>\n",
              "    </tr>\n",
              "    <tr>\n",
              "      <th>1793</th>\n",
              "      <td>medical</td>\n",
              "      <td>0.1782</td>\n",
              "    </tr>\n",
              "    <tr>\n",
              "      <th>589</th>\n",
              "      <td>multisource</td>\n",
              "      <td>0.1679</td>\n",
              "    </tr>\n",
              "    <tr>\n",
              "      <th>1665</th>\n",
              "      <td>reordering</td>\n",
              "      <td>0.1672</td>\n",
              "    </tr>\n",
              "    <tr>\n",
              "      <th>1338</th>\n",
              "      <td>task</td>\n",
              "      <td>0.1625</td>\n",
              "    </tr>\n",
              "    <tr>\n",
              "      <th>262</th>\n",
              "      <td>merging</td>\n",
              "      <td>0.1560</td>\n",
              "    </tr>\n",
              "    <tr>\n",
              "      <th>2002</th>\n",
              "      <td>train</td>\n",
              "      <td>0.1540</td>\n",
              "    </tr>\n",
              "    <tr>\n",
              "      <th>1819</th>\n",
              "      <td>paper</td>\n",
              "      <td>0.1540</td>\n",
              "    </tr>\n",
              "    <tr>\n",
              "      <th>2657</th>\n",
              "      <td>method</td>\n",
              "      <td>0.1480</td>\n",
              "    </tr>\n",
              "    <tr>\n",
              "      <th>2498</th>\n",
              "      <td>method</td>\n",
              "      <td>0.1480</td>\n",
              "    </tr>\n",
              "  </tbody>\n",
              "</table>\n",
              "</div>"
            ],
            "text/plain": [
              "            words  tf-idf\n",
              "2678          olp  0.1976\n",
              "1793      medical  0.1782\n",
              "589   multisource  0.1679\n",
              "1665   reordering  0.1672\n",
              "1338         task  0.1625\n",
              "262       merging  0.1560\n",
              "2002        train  0.1540\n",
              "1819        paper  0.1540\n",
              "2657       method  0.1480\n",
              "2498       method  0.1480"
            ]
          },
          "metadata": {
            "tags": []
          },
          "execution_count": 88
        }
      ]
    },
    {
      "cell_type": "code",
      "metadata": {
        "id": "XKgHqsnbJQsC"
      },
      "source": [
        "algorithm_optimization_df = data[data['Annotation 1'] == 'Algorithm/Method Optimization']"
      ],
      "execution_count": 89,
      "outputs": []
    },
    {
      "cell_type": "code",
      "metadata": {
        "colab": {
          "base_uri": "https://localhost:8080/"
        },
        "id": "wttJDfrhJezV",
        "outputId": "cfab1a11-7a24-4836-d503-ca2b798280c4"
      },
      "source": [
        "algorithm_optimization_df[\"words\"] = algorithm_optimization_df[\"data_cleaned\"].apply(lambda x : x.split(\" \")[0])\n",
        "algorithm_optimization_df[\"tf_value\"] = algorithm_optimization_df[\"data_cleaned\"].apply(lambda x : round(computeTF(x),2))\n",
        "algorithm_optimization_df[\"idf_value\"] = algorithm_optimization_df[\"data_cleaned\"].apply(lambda x : round(computeIDF(x),2))\n",
        "algorithm_optimization_df[\"tf-idf\"] = algorithm_optimization_df[\"tf_value\"]*algorithm_optimization_df[\"idf_value\"]\n",
        "algorithm_optimization_df = algorithm_optimization_df.sort_values(['tf-idf'], ascending=[False])"
      ],
      "execution_count": 90,
      "outputs": [
        {
          "output_type": "stream",
          "text": [
            "/usr/local/lib/python3.6/dist-packages/ipykernel_launcher.py:1: SettingWithCopyWarning: \n",
            "A value is trying to be set on a copy of a slice from a DataFrame.\n",
            "Try using .loc[row_indexer,col_indexer] = value instead\n",
            "\n",
            "See the caveats in the documentation: https://pandas.pydata.org/pandas-docs/stable/user_guide/indexing.html#returning-a-view-versus-a-copy\n",
            "  \"\"\"Entry point for launching an IPython kernel.\n",
            "/usr/local/lib/python3.6/dist-packages/ipykernel_launcher.py:2: SettingWithCopyWarning: \n",
            "A value is trying to be set on a copy of a slice from a DataFrame.\n",
            "Try using .loc[row_indexer,col_indexer] = value instead\n",
            "\n",
            "See the caveats in the documentation: https://pandas.pydata.org/pandas-docs/stable/user_guide/indexing.html#returning-a-view-versus-a-copy\n",
            "  \n",
            "/usr/local/lib/python3.6/dist-packages/ipykernel_launcher.py:3: SettingWithCopyWarning: \n",
            "A value is trying to be set on a copy of a slice from a DataFrame.\n",
            "Try using .loc[row_indexer,col_indexer] = value instead\n",
            "\n",
            "See the caveats in the documentation: https://pandas.pydata.org/pandas-docs/stable/user_guide/indexing.html#returning-a-view-versus-a-copy\n",
            "  This is separate from the ipykernel package so we can avoid doing imports until\n",
            "/usr/local/lib/python3.6/dist-packages/ipykernel_launcher.py:4: SettingWithCopyWarning: \n",
            "A value is trying to be set on a copy of a slice from a DataFrame.\n",
            "Try using .loc[row_indexer,col_indexer] = value instead\n",
            "\n",
            "See the caveats in the documentation: https://pandas.pydata.org/pandas-docs/stable/user_guide/indexing.html#returning-a-view-versus-a-copy\n",
            "  after removing the cwd from sys.path.\n"
          ],
          "name": "stderr"
        }
      ]
    },
    {
      "cell_type": "code",
      "metadata": {
        "colab": {
          "base_uri": "https://localhost:8080/",
          "height": 343
        },
        "id": "M1A2IaH0JleS",
        "outputId": "5fafbe85-75af-4752-e1e2-5a3c4be8b74d"
      },
      "source": [
        "algorithm_optimization_df[['words', 'tf-idf']].head(10)"
      ],
      "execution_count": 91,
      "outputs": [
        {
          "output_type": "execute_result",
          "data": {
            "text/html": [
              "<div>\n",
              "<style scoped>\n",
              "    .dataframe tbody tr th:only-of-type {\n",
              "        vertical-align: middle;\n",
              "    }\n",
              "\n",
              "    .dataframe tbody tr th {\n",
              "        vertical-align: top;\n",
              "    }\n",
              "\n",
              "    .dataframe thead th {\n",
              "        text-align: right;\n",
              "    }\n",
              "</style>\n",
              "<table border=\"1\" class=\"dataframe\">\n",
              "  <thead>\n",
              "    <tr style=\"text-align: right;\">\n",
              "      <th></th>\n",
              "      <th>words</th>\n",
              "      <th>tf-idf</th>\n",
              "    </tr>\n",
              "  </thead>\n",
              "  <tbody>\n",
              "    <tr>\n",
              "      <th>2205</th>\n",
              "      <td>improvement</td>\n",
              "      <td>0.1584</td>\n",
              "    </tr>\n",
              "    <tr>\n",
              "      <th>2727</th>\n",
              "      <td>study</td>\n",
              "      <td>0.1400</td>\n",
              "    </tr>\n",
              "    <tr>\n",
              "      <th>1239</th>\n",
              "      <td>extend</td>\n",
              "      <td>0.1400</td>\n",
              "    </tr>\n",
              "    <tr>\n",
              "      <th>2953</th>\n",
              "      <td>propose</td>\n",
              "      <td>0.1326</td>\n",
              "    </tr>\n",
              "    <tr>\n",
              "      <th>1803</th>\n",
              "      <td>paper</td>\n",
              "      <td>0.1144</td>\n",
              "    </tr>\n",
              "    <tr>\n",
              "      <th>655</th>\n",
              "      <td>system</td>\n",
              "      <td>0.1100</td>\n",
              "    </tr>\n",
              "    <tr>\n",
              "      <th>647</th>\n",
              "      <td>system</td>\n",
              "      <td>0.1100</td>\n",
              "    </tr>\n",
              "    <tr>\n",
              "      <th>3010</th>\n",
              "      <td>search</td>\n",
              "      <td>0.1100</td>\n",
              "    </tr>\n",
              "    <tr>\n",
              "      <th>1183</th>\n",
              "      <td>new</td>\n",
              "      <td>0.1080</td>\n",
              "    </tr>\n",
              "    <tr>\n",
              "      <th>1704</th>\n",
              "      <td>explore</td>\n",
              "      <td>0.1080</td>\n",
              "    </tr>\n",
              "  </tbody>\n",
              "</table>\n",
              "</div>"
            ],
            "text/plain": [
              "            words  tf-idf\n",
              "2205  improvement  0.1584\n",
              "2727        study  0.1400\n",
              "1239       extend  0.1400\n",
              "2953      propose  0.1326\n",
              "1803        paper  0.1144\n",
              "655        system  0.1100\n",
              "647        system  0.1100\n",
              "3010       search  0.1100\n",
              "1183          new  0.1080\n",
              "1704      explore  0.1080"
            ]
          },
          "metadata": {
            "tags": []
          },
          "execution_count": 91
        }
      ]
    },
    {
      "cell_type": "code",
      "metadata": {
        "id": "VXBTigQqJo-A"
      },
      "source": [
        "resources_df = data[data['Annotation 1'] == 'Resources']"
      ],
      "execution_count": 92,
      "outputs": []
    },
    {
      "cell_type": "code",
      "metadata": {
        "colab": {
          "base_uri": "https://localhost:8080/"
        },
        "id": "Sh7D_KpOJyA2",
        "outputId": "dc9527ea-daed-4f0d-f001-85e505ad9a83"
      },
      "source": [
        "resources_df[\"words\"] = resources_df[\"data_cleaned\"].apply(lambda x : x.split(\" \")[0])\n",
        "resources_df[\"tf_value\"] = resources_df[\"data_cleaned\"].apply(lambda x : round(computeTF(x),2))\n",
        "resources_df[\"idf_value\"] = resources_df[\"data_cleaned\"].apply(lambda x : round(computeIDF(x),2))\n",
        "resources_df[\"tf-idf\"] = resources_df[\"tf_value\"]*resources_df[\"idf_value\"]\n",
        "resources_df = resources_df.sort_values(['tf-idf'], ascending=[False])"
      ],
      "execution_count": 93,
      "outputs": [
        {
          "output_type": "stream",
          "text": [
            "/usr/local/lib/python3.6/dist-packages/ipykernel_launcher.py:1: SettingWithCopyWarning: \n",
            "A value is trying to be set on a copy of a slice from a DataFrame.\n",
            "Try using .loc[row_indexer,col_indexer] = value instead\n",
            "\n",
            "See the caveats in the documentation: https://pandas.pydata.org/pandas-docs/stable/user_guide/indexing.html#returning-a-view-versus-a-copy\n",
            "  \"\"\"Entry point for launching an IPython kernel.\n",
            "/usr/local/lib/python3.6/dist-packages/ipykernel_launcher.py:2: SettingWithCopyWarning: \n",
            "A value is trying to be set on a copy of a slice from a DataFrame.\n",
            "Try using .loc[row_indexer,col_indexer] = value instead\n",
            "\n",
            "See the caveats in the documentation: https://pandas.pydata.org/pandas-docs/stable/user_guide/indexing.html#returning-a-view-versus-a-copy\n",
            "  \n",
            "/usr/local/lib/python3.6/dist-packages/ipykernel_launcher.py:3: SettingWithCopyWarning: \n",
            "A value is trying to be set on a copy of a slice from a DataFrame.\n",
            "Try using .loc[row_indexer,col_indexer] = value instead\n",
            "\n",
            "See the caveats in the documentation: https://pandas.pydata.org/pandas-docs/stable/user_guide/indexing.html#returning-a-view-versus-a-copy\n",
            "  This is separate from the ipykernel package so we can avoid doing imports until\n",
            "/usr/local/lib/python3.6/dist-packages/ipykernel_launcher.py:4: SettingWithCopyWarning: \n",
            "A value is trying to be set on a copy of a slice from a DataFrame.\n",
            "Try using .loc[row_indexer,col_indexer] = value instead\n",
            "\n",
            "See the caveats in the documentation: https://pandas.pydata.org/pandas-docs/stable/user_guide/indexing.html#returning-a-view-versus-a-copy\n",
            "  after removing the cwd from sys.path.\n"
          ],
          "name": "stderr"
        }
      ]
    },
    {
      "cell_type": "code",
      "metadata": {
        "colab": {
          "base_uri": "https://localhost:8080/",
          "height": 343
        },
        "id": "G_SrE2KHJ7MH",
        "outputId": "a2f29e65-6a0b-4604-8491-bc1111a11ccf"
      },
      "source": [
        "resources_df[['words', 'tf-idf']].head(10)"
      ],
      "execution_count": 94,
      "outputs": [
        {
          "output_type": "execute_result",
          "data": {
            "text/html": [
              "<div>\n",
              "<style scoped>\n",
              "    .dataframe tbody tr th:only-of-type {\n",
              "        vertical-align: middle;\n",
              "    }\n",
              "\n",
              "    .dataframe tbody tr th {\n",
              "        vertical-align: top;\n",
              "    }\n",
              "\n",
              "    .dataframe thead th {\n",
              "        text-align: right;\n",
              "    }\n",
              "</style>\n",
              "<table border=\"1\" class=\"dataframe\">\n",
              "  <thead>\n",
              "    <tr style=\"text-align: right;\">\n",
              "      <th></th>\n",
              "      <th>words</th>\n",
              "      <th>tf-idf</th>\n",
              "    </tr>\n",
              "  </thead>\n",
              "  <tbody>\n",
              "    <tr>\n",
              "      <th>2</th>\n",
              "      <td>present</td>\n",
              "      <td>0.1190</td>\n",
              "    </tr>\n",
              "    <tr>\n",
              "      <th>1917</th>\n",
              "      <td>conduct</td>\n",
              "      <td>0.1190</td>\n",
              "    </tr>\n",
              "    <tr>\n",
              "      <th>861</th>\n",
              "      <td>this</td>\n",
              "      <td>0.1190</td>\n",
              "    </tr>\n",
              "    <tr>\n",
              "      <th>2613</th>\n",
              "      <td>analysis</td>\n",
              "      <td>0.1080</td>\n",
              "    </tr>\n",
              "    <tr>\n",
              "      <th>2643</th>\n",
              "      <td>define</td>\n",
              "      <td>0.1080</td>\n",
              "    </tr>\n",
              "    <tr>\n",
              "      <th>895</th>\n",
              "      <td>develop</td>\n",
              "      <td>0.1080</td>\n",
              "    </tr>\n",
              "    <tr>\n",
              "      <th>2763</th>\n",
              "      <td>conduct</td>\n",
              "      <td>0.1080</td>\n",
              "    </tr>\n",
              "    <tr>\n",
              "      <th>973</th>\n",
              "      <td>present</td>\n",
              "      <td>0.1045</td>\n",
              "    </tr>\n",
              "    <tr>\n",
              "      <th>615</th>\n",
              "      <td>include</td>\n",
              "      <td>0.1045</td>\n",
              "    </tr>\n",
              "    <tr>\n",
              "      <th>2722</th>\n",
              "      <td>reporting</td>\n",
              "      <td>0.1045</td>\n",
              "    </tr>\n",
              "  </tbody>\n",
              "</table>\n",
              "</div>"
            ],
            "text/plain": [
              "          words  tf-idf\n",
              "2       present  0.1190\n",
              "1917    conduct  0.1190\n",
              "861        this  0.1190\n",
              "2613   analysis  0.1080\n",
              "2643     define  0.1080\n",
              "895     develop  0.1080\n",
              "2763    conduct  0.1080\n",
              "973     present  0.1045\n",
              "615     include  0.1045\n",
              "2722  reporting  0.1045"
            ]
          },
          "metadata": {
            "tags": []
          },
          "execution_count": 94
        }
      ]
    },
    {
      "cell_type": "code",
      "metadata": {
        "id": "ooG_Yxg-J_P7"
      },
      "source": [
        "applications_df = data[data['Annotation 1'] == 'Applications']"
      ],
      "execution_count": 95,
      "outputs": []
    },
    {
      "cell_type": "code",
      "metadata": {
        "colab": {
          "base_uri": "https://localhost:8080/"
        },
        "id": "12DqeLbNKGA1",
        "outputId": "eb013fa5-ebb4-4c7e-a8ee-3cfe715ba5f5"
      },
      "source": [
        "applications_df[\"words\"] = applications_df[\"data_cleaned\"].apply(lambda x : x.split(\" \")[0])\n",
        "applications_df[\"tf_value\"] = applications_df[\"data_cleaned\"].apply(lambda x : round(computeTF(x),2))\n",
        "applications_df[\"idf_value\"] = applications_df[\"data_cleaned\"].apply(lambda x : round(computeIDF(x),2))\n",
        "applications_df[\"tf-idf\"] = applications_df[\"tf_value\"]*applications_df[\"idf_value\"]\n",
        "applications_df = applications_df.sort_values(['tf-idf'], ascending=[False])"
      ],
      "execution_count": 96,
      "outputs": [
        {
          "output_type": "stream",
          "text": [
            "/usr/local/lib/python3.6/dist-packages/ipykernel_launcher.py:1: SettingWithCopyWarning: \n",
            "A value is trying to be set on a copy of a slice from a DataFrame.\n",
            "Try using .loc[row_indexer,col_indexer] = value instead\n",
            "\n",
            "See the caveats in the documentation: https://pandas.pydata.org/pandas-docs/stable/user_guide/indexing.html#returning-a-view-versus-a-copy\n",
            "  \"\"\"Entry point for launching an IPython kernel.\n",
            "/usr/local/lib/python3.6/dist-packages/ipykernel_launcher.py:2: SettingWithCopyWarning: \n",
            "A value is trying to be set on a copy of a slice from a DataFrame.\n",
            "Try using .loc[row_indexer,col_indexer] = value instead\n",
            "\n",
            "See the caveats in the documentation: https://pandas.pydata.org/pandas-docs/stable/user_guide/indexing.html#returning-a-view-versus-a-copy\n",
            "  \n",
            "/usr/local/lib/python3.6/dist-packages/ipykernel_launcher.py:3: SettingWithCopyWarning: \n",
            "A value is trying to be set on a copy of a slice from a DataFrame.\n",
            "Try using .loc[row_indexer,col_indexer] = value instead\n",
            "\n",
            "See the caveats in the documentation: https://pandas.pydata.org/pandas-docs/stable/user_guide/indexing.html#returning-a-view-versus-a-copy\n",
            "  This is separate from the ipykernel package so we can avoid doing imports until\n",
            "/usr/local/lib/python3.6/dist-packages/ipykernel_launcher.py:4: SettingWithCopyWarning: \n",
            "A value is trying to be set on a copy of a slice from a DataFrame.\n",
            "Try using .loc[row_indexer,col_indexer] = value instead\n",
            "\n",
            "See the caveats in the documentation: https://pandas.pydata.org/pandas-docs/stable/user_guide/indexing.html#returning-a-view-versus-a-copy\n",
            "  after removing the cwd from sys.path.\n"
          ],
          "name": "stderr"
        }
      ]
    },
    {
      "cell_type": "code",
      "metadata": {
        "colab": {
          "base_uri": "https://localhost:8080/",
          "height": 343
        },
        "id": "GnRHX63jKOI5",
        "outputId": "3f0b766f-2f85-49cf-80af-aa456e0a9428"
      },
      "source": [
        "applications_df[['words', 'tf-idf']].head(10)"
      ],
      "execution_count": 97,
      "outputs": [
        {
          "output_type": "execute_result",
          "data": {
            "text/html": [
              "<div>\n",
              "<style scoped>\n",
              "    .dataframe tbody tr th:only-of-type {\n",
              "        vertical-align: middle;\n",
              "    }\n",
              "\n",
              "    .dataframe tbody tr th {\n",
              "        vertical-align: top;\n",
              "    }\n",
              "\n",
              "    .dataframe thead th {\n",
              "        text-align: right;\n",
              "    }\n",
              "</style>\n",
              "<table border=\"1\" class=\"dataframe\">\n",
              "  <thead>\n",
              "    <tr style=\"text-align: right;\">\n",
              "      <th></th>\n",
              "      <th>words</th>\n",
              "      <th>tf-idf</th>\n",
              "    </tr>\n",
              "  </thead>\n",
              "  <tbody>\n",
              "    <tr>\n",
              "      <th>2323</th>\n",
              "      <td>perform</td>\n",
              "      <td>0.1400</td>\n",
              "    </tr>\n",
              "    <tr>\n",
              "      <th>638</th>\n",
              "      <td>also</td>\n",
              "      <td>0.1400</td>\n",
              "    </tr>\n",
              "    <tr>\n",
              "      <th>1195</th>\n",
              "      <td>mgner</td>\n",
              "      <td>0.1360</td>\n",
              "    </tr>\n",
              "    <tr>\n",
              "      <th>740</th>\n",
              "      <td>application</td>\n",
              "      <td>0.1326</td>\n",
              "    </tr>\n",
              "    <tr>\n",
              "      <th>2293</th>\n",
              "      <td>maintain</td>\n",
              "      <td>0.1326</td>\n",
              "    </tr>\n",
              "    <tr>\n",
              "      <th>2843</th>\n",
              "      <td>achieve</td>\n",
              "      <td>0.1326</td>\n",
              "    </tr>\n",
              "    <tr>\n",
              "      <th>2521</th>\n",
              "      <td>achieve</td>\n",
              "      <td>0.1190</td>\n",
              "    </tr>\n",
              "    <tr>\n",
              "      <th>2883</th>\n",
              "      <td>present</td>\n",
              "      <td>0.1190</td>\n",
              "    </tr>\n",
              "    <tr>\n",
              "      <th>2291</th>\n",
              "      <td>discus</td>\n",
              "      <td>0.1140</td>\n",
              "    </tr>\n",
              "    <tr>\n",
              "      <th>2335</th>\n",
              "      <td>adaptive</td>\n",
              "      <td>0.1080</td>\n",
              "    </tr>\n",
              "  </tbody>\n",
              "</table>\n",
              "</div>"
            ],
            "text/plain": [
              "            words  tf-idf\n",
              "2323      perform  0.1400\n",
              "638          also  0.1400\n",
              "1195        mgner  0.1360\n",
              "740   application  0.1326\n",
              "2293     maintain  0.1326\n",
              "2843      achieve  0.1326\n",
              "2521      achieve  0.1190\n",
              "2883      present  0.1190\n",
              "2291       discus  0.1140\n",
              "2335     adaptive  0.1080"
            ]
          },
          "metadata": {
            "tags": []
          },
          "execution_count": 97
        }
      ]
    },
    {
      "cell_type": "code",
      "metadata": {
        "id": "udfeZXScKRi2"
      },
      "source": [
        ""
      ],
      "execution_count": null,
      "outputs": []
    }
  ]
}