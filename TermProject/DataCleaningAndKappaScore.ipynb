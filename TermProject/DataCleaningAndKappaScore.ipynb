{
  "nbformat": 4,
  "nbformat_minor": 0,
  "metadata": {
    "colab": {
      "name": "DataCleaningAndKappaScore.ipynb",
      "provenance": []
    },
    "kernelspec": {
      "name": "python3",
      "display_name": "Python 3"
    }
  },
  "cells": [
    {
      "cell_type": "code",
      "metadata": {
        "colab": {
          "base_uri": "https://localhost:8080/",
          "height": 195
        },
        "id": "pSK9yVijWYLK",
        "outputId": "328b7827-6959-442c-fefa-96ffe267c1b6"
      },
      "source": [
        "import pandas as pd\n",
        "data = pd.read_csv(\"/content/final_data.csv\")\n",
        "data.head()"
      ],
      "execution_count": 9,
      "outputs": [
        {
          "output_type": "execute_result",
          "data": {
            "text/html": [
              "<div>\n",
              "<style scoped>\n",
              "    .dataframe tbody tr th:only-of-type {\n",
              "        vertical-align: middle;\n",
              "    }\n",
              "\n",
              "    .dataframe tbody tr th {\n",
              "        vertical-align: top;\n",
              "    }\n",
              "\n",
              "    .dataframe thead th {\n",
              "        text-align: right;\n",
              "    }\n",
              "</style>\n",
              "<table border=\"1\" class=\"dataframe\">\n",
              "  <thead>\n",
              "    <tr style=\"text-align: right;\">\n",
              "      <th></th>\n",
              "      <th>Contribution</th>\n",
              "      <th>Annotation 1</th>\n",
              "      <th>Annotation 2</th>\n",
              "    </tr>\n",
              "  </thead>\n",
              "  <tbody>\n",
              "    <tr>\n",
              "      <th>0</th>\n",
              "      <td>This paper describes a generic framework for g...</td>\n",
              "      <td>Theory Proposal</td>\n",
              "      <td>Theory Proposal</td>\n",
              "    </tr>\n",
              "    <tr>\n",
              "      <th>1</th>\n",
              "      <td>We present a simple, unsupervised but robust a...</td>\n",
              "      <td>New Algorithm/ Method</td>\n",
              "      <td>New Algorithm/ Method</td>\n",
              "    </tr>\n",
              "    <tr>\n",
              "      <th>2</th>\n",
              "      <td>we present a large-scale and indepth computati...</td>\n",
              "      <td>Resources</td>\n",
              "      <td>Resources</td>\n",
              "    </tr>\n",
              "    <tr>\n",
              "      <th>3</th>\n",
              "      <td>we worked with an annotated corpus of human tu...</td>\n",
              "      <td>New Algorithm/ Method</td>\n",
              "      <td>New Algorithm/ Method</td>\n",
              "    </tr>\n",
              "    <tr>\n",
              "      <th>4</th>\n",
              "      <td>we discuss one of the aspects of essay-writing...</td>\n",
              "      <td>Theory Proposal</td>\n",
              "      <td>Theory Proposal</td>\n",
              "    </tr>\n",
              "  </tbody>\n",
              "</table>\n",
              "</div>"
            ],
            "text/plain": [
              "                                        Contribution  ...           Annotation 2\n",
              "0  This paper describes a generic framework for g...  ...        Theory Proposal\n",
              "1  We present a simple, unsupervised but robust a...  ...  New Algorithm/ Method\n",
              "2  we present a large-scale and indepth computati...  ...              Resources\n",
              "3  we worked with an annotated corpus of human tu...  ...  New Algorithm/ Method\n",
              "4  we discuss one of the aspects of essay-writing...  ...        Theory Proposal\n",
              "\n",
              "[5 rows x 3 columns]"
            ]
          },
          "metadata": {
            "tags": []
          },
          "execution_count": 9
        }
      ]
    },
    {
      "cell_type": "code",
      "metadata": {
        "id": "MKqe5VygWjfz"
      },
      "source": [
        "data['lower_Case'] = data['Contribution'].apply(lambda x: \" \".join(x.lower() for x in x.split()))"
      ],
      "execution_count": 10,
      "outputs": []
    },
    {
      "cell_type": "code",
      "metadata": {
        "id": "R_z60sK3Ww-N"
      },
      "source": [
        "data['remove_Punc'] = data['lower_Case'].str.replace('[^\\w\\s]','')"
      ],
      "execution_count": 11,
      "outputs": []
    },
    {
      "cell_type": "code",
      "metadata": {
        "colab": {
          "base_uri": "https://localhost:8080/"
        },
        "id": "9P3Prx-TXBCl",
        "outputId": "95fc2ddf-a2c1-4139-9819-e60fd9339d0c"
      },
      "source": [
        "import nltk\n",
        "nltk.download('stopwords')\n",
        "from nltk.corpus import stopwords\n",
        "stop_words = stopwords.words('english')\n",
        "data['stop_words'] = data['remove_Punc'].apply(lambda x: \" \".join(x for x in x.split() if x not in stop_words))"
      ],
      "execution_count": 12,
      "outputs": [
        {
          "output_type": "stream",
          "text": [
            "[nltk_data] Downloading package stopwords to /root/nltk_data...\n",
            "[nltk_data]   Package stopwords is already up-to-date!\n"
          ],
          "name": "stdout"
        }
      ]
    },
    {
      "cell_type": "code",
      "metadata": {
        "id": "dh6J4i9WXken"
      },
      "source": [
        "frequent_words = list(pd.Series(' '.join(data['Contribution']).split()).value_counts()[:15].index)\n",
        "data[\"freq_words\"] = data['stop_words'].apply(lambda x: ' '.join([i for i in x.split() if i not in frequent_words]))"
      ],
      "execution_count": 13,
      "outputs": []
    },
    {
      "cell_type": "code",
      "metadata": {
        "id": "7MwmqlbZX6Un"
      },
      "source": [
        "from textblob import TextBlob\n",
        "data['word_tokenize'] = data['freq_words'].apply(lambda x: TextBlob(x).words)"
      ],
      "execution_count": 14,
      "outputs": []
    },
    {
      "cell_type": "code",
      "metadata": {
        "colab": {
          "base_uri": "https://localhost:8080/"
        },
        "id": "BdMu_nZxYLY4",
        "outputId": "8b0399d9-cb47-4c1a-ef16-b960d917d02e"
      },
      "source": [
        "import nltk\n",
        "nltk.download('wordnet')\n",
        "from textblob import Word\n",
        "data['lemmatized'] = data['word_tokenize'].apply(lambda x: \" \".join([Word(word).lemmatize() for word in x]))"
      ],
      "execution_count": 15,
      "outputs": [
        {
          "output_type": "stream",
          "text": [
            "[nltk_data] Downloading package wordnet to /root/nltk_data...\n",
            "[nltk_data]   Unzipping corpora/wordnet.zip.\n"
          ],
          "name": "stdout"
        }
      ]
    },
    {
      "cell_type": "code",
      "metadata": {
        "id": "bgRGhrVCYlJ5"
      },
      "source": [
        "cleaned_data = data[['lemmatized', 'Annotation 1', 'Annotation 2']]"
      ],
      "execution_count": 16,
      "outputs": []
    },
    {
      "cell_type": "code",
      "metadata": {
        "id": "YwjuRkh0Y2_s"
      },
      "source": [
        "cleaned_data.to_csv('/content/cleaned_data.csv', index = False)"
      ],
      "execution_count": 17,
      "outputs": []
    },
    {
      "cell_type": "code",
      "metadata": {
        "colab": {
          "base_uri": "https://localhost:8080/"
        },
        "id": "Xuh95u9dZG0V",
        "outputId": "808e4138-1522-4170-e075-4c4410b8121d"
      },
      "source": [
        "from sklearn import metrics\n",
        "kappa_value = metrics.cohen_kappa_score(cleaned_data['Annotation 1'], cleaned_data['Annotation 2'])\n",
        "print('Kappa value is {0}'.format(kappa_value))"
      ],
      "execution_count": 18,
      "outputs": [
        {
          "output_type": "stream",
          "text": [
            "Kappa value is 0.8915503912566686\n"
          ],
          "name": "stdout"
        }
      ]
    },
    {
      "cell_type": "code",
      "metadata": {
        "id": "pbxyX4mDZThQ"
      },
      "source": [
        ""
      ],
      "execution_count": null,
      "outputs": []
    }
  ]
}