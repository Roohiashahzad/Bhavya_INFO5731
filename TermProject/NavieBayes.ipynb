{
  "nbformat": 4,
  "nbformat_minor": 0,
  "metadata": {
    "colab": {
      "name": "NavieBayes.ipynb",
      "provenance": []
    },
    "kernelspec": {
      "name": "python3",
      "display_name": "Python 3"
    }
  },
  "cells": [
    {
      "cell_type": "code",
      "metadata": {
        "colab": {
          "base_uri": "https://localhost:8080/",
          "height": 195
        },
        "id": "AggmGMHHa0-Y",
        "outputId": "4e081006-6e3c-4443-b857-27aab789cb10"
      },
      "source": [
        "import pandas as pd\n",
        "data = pd.read_csv(\"/content/cleaned_data.csv\")\n",
        "data.head()"
      ],
      "execution_count": 1,
      "outputs": [
        {
          "output_type": "execute_result",
          "data": {
            "text/html": [
              "<div>\n",
              "<style scoped>\n",
              "    .dataframe tbody tr th:only-of-type {\n",
              "        vertical-align: middle;\n",
              "    }\n",
              "\n",
              "    .dataframe tbody tr th {\n",
              "        vertical-align: top;\n",
              "    }\n",
              "\n",
              "    .dataframe thead th {\n",
              "        text-align: right;\n",
              "    }\n",
              "</style>\n",
              "<table border=\"1\" class=\"dataframe\">\n",
              "  <thead>\n",
              "    <tr style=\"text-align: right;\">\n",
              "      <th></th>\n",
              "      <th>lemmatized</th>\n",
              "      <th>Annotation 1</th>\n",
              "      <th>Annotation 2</th>\n",
              "    </tr>\n",
              "  </thead>\n",
              "  <tbody>\n",
              "    <tr>\n",
              "      <th>0</th>\n",
              "      <td>paper describes generic framework generating c...</td>\n",
              "      <td>Theory Proposal</td>\n",
              "      <td>Theory Proposal</td>\n",
              "    </tr>\n",
              "    <tr>\n",
              "      <th>1</th>\n",
              "      <td>present simple unsupervised robust accurate sy...</td>\n",
              "      <td>New Algorithm/ Method</td>\n",
              "      <td>New Algorithm/ Method</td>\n",
              "    </tr>\n",
              "    <tr>\n",
              "      <th>2</th>\n",
              "      <td>present largescale indepth computational reada...</td>\n",
              "      <td>Resources</td>\n",
              "      <td>Resources</td>\n",
              "    </tr>\n",
              "    <tr>\n",
              "      <th>3</th>\n",
              "      <td>worked annotated corpus human tutoring session...</td>\n",
              "      <td>New Algorithm/ Method</td>\n",
              "      <td>New Algorithm/ Method</td>\n",
              "    </tr>\n",
              "    <tr>\n",
              "      <th>4</th>\n",
              "      <td>discus one aspect essaywriting namely style pr...</td>\n",
              "      <td>Theory Proposal</td>\n",
              "      <td>Theory Proposal</td>\n",
              "    </tr>\n",
              "  </tbody>\n",
              "</table>\n",
              "</div>"
            ],
            "text/plain": [
              "                                          lemmatized  ...           Annotation 2\n",
              "0  paper describes generic framework generating c...  ...        Theory Proposal\n",
              "1  present simple unsupervised robust accurate sy...  ...  New Algorithm/ Method\n",
              "2  present largescale indepth computational reada...  ...              Resources\n",
              "3  worked annotated corpus human tutoring session...  ...  New Algorithm/ Method\n",
              "4  discus one aspect essaywriting namely style pr...  ...        Theory Proposal\n",
              "\n",
              "[5 rows x 3 columns]"
            ]
          },
          "metadata": {
            "tags": []
          },
          "execution_count": 1
        }
      ]
    },
    {
      "cell_type": "code",
      "metadata": {
        "colab": {
          "base_uri": "https://localhost:8080/",
          "height": 518
        },
        "id": "d12HSdpybIFd",
        "outputId": "801743d1-c0a8-46ae-bc1d-6208d86c0ea6"
      },
      "source": [
        "import seaborn as sns\n",
        "print(data['Annotation 1'].value_counts())\n",
        "sns.countplot(data['Annotation 1'])"
      ],
      "execution_count": 2,
      "outputs": [
        {
          "output_type": "stream",
          "text": [
            "New Algorithm/ Method            840\n",
            "Theory Proposal                  739\n",
            "Model Proposal                   424\n",
            "Performance Evaluation           373\n",
            "Model Optimization               217\n",
            "Dataset Creation                 214\n",
            "Algorithm/Method Optimization    144\n",
            "Applications                      77\n",
            "Resources                         76\n",
            "Name: Annotation 1, dtype: int64\n"
          ],
          "name": "stdout"
        },
        {
          "output_type": "stream",
          "text": [
            "/usr/local/lib/python3.6/dist-packages/seaborn/_decorators.py:43: FutureWarning: Pass the following variable as a keyword arg: x. From version 0.12, the only valid positional argument will be `data`, and passing other arguments without an explicit keyword will result in an error or misinterpretation.\n",
            "  FutureWarning\n"
          ],
          "name": "stderr"
        },
        {
          "output_type": "execute_result",
          "data": {
            "text/plain": [
              "<matplotlib.axes._subplots.AxesSubplot at 0x7fc2ecd9bef0>"
            ]
          },
          "metadata": {
            "tags": []
          },
          "execution_count": 2
        },
        {
          "output_type": "display_data",
          "data": {
            "image/png": "[encoded data removed]",
            "text/plain": [
              "<Figure size 432x288 with 1 Axes>"
            ]
          },
          "metadata": {
            "tags": [],
            "needs_background": "light"
          }
        }
      ]
    },
    {
      "cell_type": "code",
      "metadata": {
        "id": "_7okYGQXbNLW"
      },
      "source": [
        "from sklearn.preprocessing import LabelEncoder\n",
        "from sklearn.feature_extraction.text import TfidfVectorizer\n",
        "Tfidfvector = TfidfVectorizer(ngram_range=(1,2), max_features=1000)\n",
        "Tfidfvector.fit(data['lemmatized'])\n",
        "x_values = Tfidfvector.transform(data['lemmatized'])\n",
        "encoder = LabelEncoder()\n",
        "y_values = encoder.fit_transform(data['Annotation 1'])"
      ],
      "execution_count": 19,
      "outputs": []
    },
    {
      "cell_type": "code",
      "metadata": {
        "id": "SR56FG5EbRJK"
      },
      "source": [
        "from sklearn import model_selection\n",
        "X_train, x_test, y_train, y_test = model_selection.train_test_split(x_values, y_values, test_size=0.33)"
      ],
      "execution_count": 20,
      "outputs": []
    },
    {
      "cell_type": "code",
      "metadata": {
        "id": "o9GUyLfxba6J"
      },
      "source": [
        "from sklearn import naive_bayes\n",
        "from sklearn.metrics import accuracy_score, f1_score, precision_score, recall_score\n",
        "nb = naive_bayes.MultinomialNB()\n",
        "nb.fit(X_train, y_train)\n",
        "predicted_nb = nb.predict(x_test)"
      ],
      "execution_count": 21,
      "outputs": []
    },
    {
      "cell_type": "code",
      "metadata": {
        "colab": {
          "base_uri": "https://localhost:8080/"
        },
        "id": "__KrBy4fbmDa",
        "outputId": "98a0ca69-9b1c-413a-ec0f-099e387dd141"
      },
      "source": [
        "accuracy = accuracy_score(y_test, predicted_nb) * 100\n",
        "f1 = f1_score(y_test, predicted_nb, average='macro') *100\n",
        "precision = precision_score(y_test, predicted_nb, average='macro') *100\n",
        "recall = recall_score (y_test, predicted_nb, average='macro') *100\n",
        "print('F1-score:', f1)\n",
        "print('accuracy score:', accuracy)\n",
        "print('precision score:', precision)\n",
        "print('recall score:', recall)"
      ],
      "execution_count": 22,
      "outputs": [
        {
          "output_type": "stream",
          "text": [
            "F1-score: 17.480350068540393\n",
            "accuracy score: 37.46341463414634\n",
            "precision score: 27.212048481484956\n",
            "recall score: 18.62571525822892\n"
          ],
          "name": "stdout"
        },
        {
          "output_type": "stream",
          "text": [
            "/usr/local/lib/python3.6/dist-packages/sklearn/metrics/_classification.py:1272: UndefinedMetricWarning: Precision is ill-defined and being set to 0.0 in labels with no predicted samples. Use `zero_division` parameter to control this behavior.\n",
            "  _warn_prf(average, modifier, msg_start, len(result))\n"
          ],
          "name": "stderr"
        }
      ]
    },
    {
      "cell_type": "code",
      "metadata": {
        "colab": {
          "base_uri": "https://localhost:8080/",
          "height": 402
        },
        "id": "0K_Jca6CbqO8",
        "outputId": "9fe44959-ded5-4a2c-ca92-ed8ed908cd3c"
      },
      "source": [
        "df = pd.DataFrame(list(zip(predicted_nb, y_test)), columns=['Predicted', 'Actual'])\n",
        "df"
      ],
      "execution_count": 27,
      "outputs": [
        {
          "output_type": "execute_result",
          "data": {
            "text/html": [
              "<div>\n",
              "<style scoped>\n",
              "    .dataframe tbody tr th:only-of-type {\n",
              "        vertical-align: middle;\n",
              "    }\n",
              "\n",
              "    .dataframe tbody tr th {\n",
              "        vertical-align: top;\n",
              "    }\n",
              "\n",
              "    .dataframe thead th {\n",
              "        text-align: right;\n",
              "    }\n",
              "</style>\n",
              "<table border=\"1\" class=\"dataframe\">\n",
              "  <thead>\n",
              "    <tr style=\"text-align: right;\">\n",
              "      <th></th>\n",
              "      <th>Predicted</th>\n",
              "      <th>Actual</th>\n",
              "    </tr>\n",
              "  </thead>\n",
              "  <tbody>\n",
              "    <tr>\n",
              "      <th>0</th>\n",
              "      <td>5</td>\n",
              "      <td>5</td>\n",
              "    </tr>\n",
              "    <tr>\n",
              "      <th>1</th>\n",
              "      <td>8</td>\n",
              "      <td>8</td>\n",
              "    </tr>\n",
              "    <tr>\n",
              "      <th>2</th>\n",
              "      <td>8</td>\n",
              "      <td>8</td>\n",
              "    </tr>\n",
              "    <tr>\n",
              "      <th>3</th>\n",
              "      <td>5</td>\n",
              "      <td>8</td>\n",
              "    </tr>\n",
              "    <tr>\n",
              "      <th>4</th>\n",
              "      <td>5</td>\n",
              "      <td>0</td>\n",
              "    </tr>\n",
              "    <tr>\n",
              "      <th>...</th>\n",
              "      <td>...</td>\n",
              "      <td>...</td>\n",
              "    </tr>\n",
              "    <tr>\n",
              "      <th>1020</th>\n",
              "      <td>6</td>\n",
              "      <td>4</td>\n",
              "    </tr>\n",
              "    <tr>\n",
              "      <th>1021</th>\n",
              "      <td>5</td>\n",
              "      <td>4</td>\n",
              "    </tr>\n",
              "    <tr>\n",
              "      <th>1022</th>\n",
              "      <td>6</td>\n",
              "      <td>0</td>\n",
              "    </tr>\n",
              "    <tr>\n",
              "      <th>1023</th>\n",
              "      <td>5</td>\n",
              "      <td>5</td>\n",
              "    </tr>\n",
              "    <tr>\n",
              "      <th>1024</th>\n",
              "      <td>6</td>\n",
              "      <td>6</td>\n",
              "    </tr>\n",
              "  </tbody>\n",
              "</table>\n",
              "<p>1025 rows × 2 columns</p>\n",
              "</div>"
            ],
            "text/plain": [
              "      Predicted  Actual\n",
              "0             5       5\n",
              "1             8       8\n",
              "2             8       8\n",
              "3             5       8\n",
              "4             5       0\n",
              "...         ...     ...\n",
              "1020          6       4\n",
              "1021          5       4\n",
              "1022          6       0\n",
              "1023          5       5\n",
              "1024          6       6\n",
              "\n",
              "[1025 rows x 2 columns]"
            ]
          },
          "metadata": {
            "tags": []
          },
          "execution_count": 27
        }
      ]
    },
    {
      "cell_type": "code",
      "metadata": {
        "id": "V7qmDcB2ciVj"
      },
      "source": [
        ""
      ],
      "execution_count": null,
      "outputs": []
    }
  ]
}