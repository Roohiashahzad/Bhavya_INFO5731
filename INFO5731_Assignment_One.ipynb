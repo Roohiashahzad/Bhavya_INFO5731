{
  "nbformat": 4,
  "nbformat_minor": 0,
  "metadata": {
    "colab": {
      "name": "INFO5731_Assignment_One.ipynb",
      "provenance": [],
      "collapsed_sections": [],
      "include_colab_link": true
    },
    "kernelspec": {
      "name": "python3",
      "display_name": "Python 3"
    }
  },
  "cells": [
    {
      "cell_type": "markdown",
      "metadata": {
        "id": "view-in-github",
        "colab_type": "text"
      },
      "source": [
        "<a href=\"https://colab.research.google.com/github/bhavya2810/Bhavya_INFO5731/blob/master/INFO5731_Assignment_One.ipynb\" target=\"_parent\"><img src=\"https://colab.research.google.com/assets/colab-badge.svg\" alt=\"Open In Colab\"/></a>"
      ]
    },
    {
      "cell_type": "markdown",
      "metadata": {
        "id": "Ryk8D1Q4Wsrp",
        "colab_type": "text"
      },
      "source": [
        "# **INFO5731 Assignment One**"
      ]
    },
    {
      "cell_type": "markdown",
      "metadata": {
        "id": "90_NR8c5XGWc",
        "colab_type": "text"
      },
      "source": [
        "# Question 1\n",
        "\n",
        "(20 points). Write a Python program to generate 12 random numbers between 1 and 100. Sort the list of numbers in ascending order and print it out. Sort the list of numbers in descending order and print it out. Calculate the average for the group and print it out."
      ]
    },
    {
      "cell_type": "code",
      "metadata": {
        "id": "5QX6bJjGWXY9",
        "colab_type": "code",
        "colab": {
          "base_uri": "https://localhost:8080/",
          "height": 84
        },
        "outputId": "14d6b138-f7fe-4efc-d82c-92e29e1f4d67"
      },
      "source": [
        "from random import randint\n",
        "from statistics import mean\n",
        "\n",
        "rand_numbers = [randint(1, 100) for i in range(12)]\n",
        "print(\"Random numbers before sorting - {0}\".format(rand_numbers))\n",
        "rand_numbers.sort()\n",
        "print(\"Ascending order - {0}\".format(rand_numbers))\n",
        "rand_numbers.sort(reverse=True)\n",
        "print(\"Descending order - {0}\".format(rand_numbers))\n",
        "print(\"Average of the given group is {0}\".format(mean(rand_numbers)))"
      ],
      "execution_count": 1,
      "outputs": [
        {
          "output_type": "stream",
          "text": [
            "Random numbers before sorting - [45, 29, 76, 18, 93, 93, 41, 30, 7, 67, 5, 63]\n",
            "Ascending order - [5, 7, 18, 29, 30, 41, 45, 63, 67, 76, 93, 93]\n",
            "Descending order - [93, 93, 76, 67, 63, 45, 41, 30, 29, 18, 7, 5]\n",
            "Average of the given group is 47.25\n"
          ],
          "name": "stdout"
        }
      ]
    },
    {
      "cell_type": "markdown",
      "metadata": {
        "id": "1F_PZdH9Sh49",
        "colab_type": "text"
      },
      "source": [
        "# Question 2\n",
        "(25 points). Write a program that will do the following string formatting tasks:\n",
        "\n",
        "(1) Ask the user to enter two sentences.\n",
        "\n",
        "(2) Make each sentence into a list. Each element in the list should correspond to a word in the sentence. For example, if the sentence is \"Alas! Am I alive? This is my first python program\", the program should print out ['Alas, '!', 'Am', 'I', 'alive, '?', 'This', 'is', 'my', 'first', 'python', 'program'].\n",
        "\n",
        "(3) Compare the two sentences. Print out a list of words that occur in both sentences.\n",
        "\n",
        "(4) Remove any punctuation from the sentence and print it back out. It should remove at least the following characters, but it can remove more: period(“.”), comma (“,”), semicolon (“;”), and colon (“:”)\n",
        "\n",
        "(5) Count the number of vowels in the sentences. Print out each vowel and the number of times it appears in the sentences, such as: a:2, e:1, i:0, etc"
      ]
    },
    {
      "cell_type": "markdown",
      "metadata": {
        "id": "VyyNVLMw4hbk",
        "colab_type": "text"
      },
      "source": [
        "**Question 2.1**"
      ]
    },
    {
      "cell_type": "code",
      "metadata": {
        "id": "Y0oOSlsOS0cq",
        "colab_type": "code",
        "colab": {
          "base_uri": "https://localhost:8080/",
          "height": 67
        },
        "outputId": "b7d4f900-e314-42dd-9300-e10d351f14f4"
      },
      "source": [
        "print(\"Please do enter two sentences\")\n",
        "sentence_1 = input(\"Enter first sentence\")\n",
        "sentence_2 = input(\"Enter second sentence\")"
      ],
      "execution_count": 2,
      "outputs": [
        {
          "output_type": "stream",
          "text": [
            "Please do enter two sentences\n",
            "Enter first sentenceThis is the, first sentence!!.\n",
            "Enter second sentenceThis is the second;: sentence.\n"
          ],
          "name": "stdout"
        }
      ]
    },
    {
      "cell_type": "markdown",
      "metadata": {
        "id": "9-RFpVxF44dE",
        "colab_type": "text"
      },
      "source": [
        "**Question 2.2**"
      ]
    },
    {
      "cell_type": "code",
      "metadata": {
        "id": "zeGlvILd4qnI",
        "colab_type": "code",
        "colab": {
          "base_uri": "https://localhost:8080/",
          "height": 67
        },
        "outputId": "2156fccf-68fa-4d46-ed81-3e1fe9e99e68"
      },
      "source": [
        "import re\n",
        "def into_sentence(input_string):\n",
        "  reg = re.compile(r'\\w+|[^\\w\\s]')\n",
        "  return reg.findall(input_string)\n",
        "\n",
        "list_sentence_1 = into_sentence(sentence_1)\n",
        "list_sentence_2 = into_sentence(sentence_2)\n",
        "print(\"sentence to list:\")\n",
        "print(list_sentence_1)\n",
        "print(list_sentence_2)"
      ],
      "execution_count": 3,
      "outputs": [
        {
          "output_type": "stream",
          "text": [
            "sentence to list:\n",
            "['This', 'is', 'the', ',', 'first', 'sentence', '!', '!', '.']\n",
            "['This', 'is', 'the', 'second', ';', ':', 'sentence', '.']\n"
          ],
          "name": "stdout"
        }
      ]
    },
    {
      "cell_type": "markdown",
      "metadata": {
        "id": "R9vI9ZFX5I5Y",
        "colab_type": "text"
      },
      "source": [
        "**Question 2.3**"
      ]
    },
    {
      "cell_type": "code",
      "metadata": {
        "id": "WTSZy5zT49RC",
        "colab_type": "code",
        "colab": {
          "base_uri": "https://localhost:8080/",
          "height": 34
        },
        "outputId": "4afca09d-dcf7-4f6c-8d56-bbb30210fd02"
      },
      "source": [
        "common_list = []\n",
        "for ele in list_sentence_1:\n",
        "  if ele in list_sentence_2:\n",
        "    common_list.append(ele)\n",
        "print(common_list)"
      ],
      "execution_count": 4,
      "outputs": [
        {
          "output_type": "stream",
          "text": [
            "['This', 'is', 'the', 'sentence', '.']\n"
          ],
          "name": "stdout"
        }
      ]
    },
    {
      "cell_type": "markdown",
      "metadata": {
        "id": "17xzCg9v5LO0",
        "colab_type": "text"
      },
      "source": [
        "**Question 2.4**"
      ]
    },
    {
      "cell_type": "code",
      "metadata": {
        "id": "cBeYw0ZWmo_r",
        "colab_type": "code",
        "colab": {
          "base_uri": "https://localhost:8080/",
          "height": 50
        },
        "outputId": "3bb32dcb-d1a8-43c0-a8d9-1eed32e7ba81"
      },
      "source": [
        "import string\n",
        "\n",
        "def remove_punctuation(input_string):\n",
        "  return ''.join([i for i in input_string if i not in string.punctuation])\n",
        "\n",
        "print(\"First sentence after removing puncatuation - {0}\".format(remove_punctuation(sentence_1)))\n",
        "print(\"Second sentence after removing puncatuation - {0}\".format(remove_punctuation(sentence_2)))"
      ],
      "execution_count": 5,
      "outputs": [
        {
          "output_type": "stream",
          "text": [
            "First sentence after removing puncatuation - This is the first sentence\n",
            "Second sentence after removing puncatuation - This is the second sentence\n"
          ],
          "name": "stdout"
        }
      ]
    },
    {
      "cell_type": "markdown",
      "metadata": {
        "id": "F46tYQIP5Ooq",
        "colab_type": "text"
      },
      "source": [
        "**Question 2.5**"
      ]
    },
    {
      "cell_type": "code",
      "metadata": {
        "id": "GjhAQCH-oWGe",
        "colab_type": "code",
        "colab": {
          "base_uri": "https://localhost:8080/",
          "height": 50
        },
        "outputId": "27783cb7-a55b-496f-d4f5-44ec0cc17cc8"
      },
      "source": [
        "def vowel_count(input_string):\n",
        "  input_string = input_string.lower()\n",
        "  count = {}.fromkeys('aeiou', 0) \n",
        "  for ele in input_string: \n",
        "        if ele in count: \n",
        "            count[ele] += 1\n",
        "  final_output = {x:y for x,y in count.items() if y!=0}\n",
        "  return final_output\n",
        "print(\"Vowels in the first sentence is {0}\".format(vowel_count(sentence_1)))\n",
        "print(\"Vowels in the seocnd sentence is {0}\".format(vowel_count(sentence_2)))"
      ],
      "execution_count": 6,
      "outputs": [
        {
          "output_type": "stream",
          "text": [
            "Vowels in the first sentence is {'e': 4, 'i': 3}\n",
            "Vowels in the seocnd sentence is {'e': 5, 'i': 2, 'o': 1}\n"
          ],
          "name": "stdout"
        }
      ]
    },
    {
      "cell_type": "markdown",
      "metadata": {
        "id": "CmFoI4jDS9nx",
        "colab_type": "text"
      },
      "source": [
        "# Question 3 \n",
        "\n",
        "(15 points). The formula that describes the volume V of a sphere with radius r is the following:\n",
        "\n",
        "$ V=\\frac{4}{3}\\ast\\ \\pi\\ast\\ r^3 $\n",
        "\n",
        "Write a program to calculate the value of V when r is in the range of 1–10. Output the result in the following format:\n",
        "\n",
        "\tr\tV\n",
        "\t1\t…\n",
        "\t2\t…\n",
        "\t3\t…\n"
      ]
    },
    {
      "cell_type": "code",
      "metadata": {
        "id": "l__e2AVEoVBD",
        "colab_type": "code",
        "colab": {
          "base_uri": "https://localhost:8080/",
          "height": 185
        },
        "outputId": "827597c5-1699-4aa9-ca74-1a7bb6af5ddf"
      },
      "source": [
        "def calculate_volume(r, pi = 3.1415926535897931):\n",
        "  return (4/3) * pi * (r ** 3)\n",
        "\n",
        "print('r     v')\n",
        "for r in range(1,10):\n",
        "  print(\"{0}     {1}\".format(r, calculate_volume(r)))"
      ],
      "execution_count": 7,
      "outputs": [
        {
          "output_type": "stream",
          "text": [
            "r     v\n",
            "1     4.1887902047863905\n",
            "2     33.510321638291124\n",
            "3     113.09733552923254\n",
            "4     268.082573106329\n",
            "5     523.5987755982989\n",
            "6     904.7786842338603\n",
            "7     1436.7550402417319\n",
            "8     2144.660584850632\n",
            "9     3053.6280592892786\n"
          ],
          "name": "stdout"
        }
      ]
    },
    {
      "cell_type": "markdown",
      "metadata": {
        "id": "z3tBE7E-Xn5X",
        "colab_type": "text"
      },
      "source": [
        "# Question 4\n",
        "\n",
        "(40 points). In the field of Data Science, data is often formatted as a comma-delimited (CSV) file, where each line in a file corresponds to a field's value. Refer to Chapter 9 (p. 106) for more information on comma-delimited files. To answer this question, you will need to download the file [Assignment1_denton_housing.csv](https://github.com/unt-iialab/INFO5731_FALL2020/blob/master/Assignments/Assignment1_denton_housing.csv) included with this assignment. The [file Assignment1_denton_housing.csv](https://github.com/unt-iialab/INFO5731_FALL2020/blob/master/Assignments/Assignment1_denton_housing.csv) contains statistics about housing in the city of Denton from 2008 to 2014. Write a program to implement the following questions.\n",
        "\n",
        "(1) (10 pts) Calculate the difference in the number of Occupied Housing Units from year to year and print it. The difference must be calculated for the consecutive years such as 2008-2009, 2009-2010 etc. Finally, print the values in the ascending order.\n",
        "\n",
        "(2) (10 pts) For all the years, calculate the percentage of housing units which are vacant an occupied. Print the results in the following format:\n",
        "\n",
        "Year Vacant Housing Units Occupied Housing Units\n",
        "\n",
        "    2008  30%   70%                          \n",
        "\t2009 ----- -----\n",
        "\t2010 ----- -----\n",
        "    2011 ----- -----\n",
        "\t2012 ----- -----\n",
        "    2013 ----- -----\n",
        "\t2014 ----- -----\n",
        "  \n",
        "  \n",
        "\n",
        "(3) (10 pts) Calculate and print the valued and years in which the highest number of housing units were vacant and occupied. Print the results in the following format:  \n",
        "\n",
        "                              Year\tValue\n",
        "\tVacant Housing Units\t  -----   -----\n",
        "\tOccupied Housing Units\t-----   -----\n",
        "\n",
        "(4) (10 pts) Calculate the harmonic mean of the total housing units and print it out. You can find the information about harmonic mean here: https://ncalculators.com/statistics/harmonic-mean-calculator.htm"
      ]
    },
    {
      "cell_type": "markdown",
      "metadata": {
        "id": "Lx9SHhNZ67up",
        "colab_type": "text"
      },
      "source": [
        "**Question 4.1**"
      ]
    },
    {
      "cell_type": "code",
      "metadata": {
        "id": "lqGYuHBhcsRH",
        "colab_type": "code",
        "colab": {
          "base_uri": "https://localhost:8080/",
          "height": 151
        },
        "outputId": "4547613c-8349-4b00-eda1-928d9a39174f"
      },
      "source": [
        "import pandas as pd\n",
        "housing_df = pd.read_csv('https://raw.githubusercontent.com/unt-iialab/INFO5731_FALL2020/master/Assignments/Assignment1_denton_housing.csv')\n",
        "df_occupied = housing_df[housing_df['title_field'] == 'Occupied Housing Units'].sort_values(by=['year'])\n",
        "df_occupied.value.diff().sort_values()"
      ],
      "execution_count": 8,
      "outputs": [
        {
          "output_type": "execute_result",
          "data": {
            "text/plain": [
              "17    -795.0\n",
              "11    -303.0\n",
              "8     1404.0\n",
              "5     1565.0\n",
              "2     2622.0\n",
              "14    5091.0\n",
              "20       NaN\n",
              "Name: value, dtype: float64"
            ]
          },
          "metadata": {
            "tags": []
          },
          "execution_count": 8
        }
      ]
    },
    {
      "cell_type": "markdown",
      "metadata": {
        "id": "fk2HvEdS7AYN",
        "colab_type": "text"
      },
      "source": [
        "**Question 4.2**"
      ]
    },
    {
      "cell_type": "code",
      "metadata": {
        "id": "4Zc5hRElut2c",
        "colab_type": "code",
        "colab": {
          "base_uri": "https://localhost:8080/",
          "height": 254
        },
        "outputId": "503f4d54-0023-42db-cf62-fb3100b21627"
      },
      "source": [
        "list_vacant = housing_df[housing_df['title_field'] == 'Vacant Housing Units'].sort_values(by=['year'])['value'].values.tolist()\n",
        "list_occupied = housing_df[housing_df['title_field'] == 'Occupied Housing Units'].sort_values(by=['year'])['value'].values.tolist()\n",
        "list_total = housing_df[housing_df['title_field'] == 'Total Housing Units'].sort_values(by=['year'])['value'].values.tolist()\n",
        "year = housing_df[housing_df['title_field'] == 'Total Housing Units'].sort_values(by=['year'])['year'].values.tolist()\n",
        "Vacant = [str((vacant/total)*100)+' %' for vacant,total in zip(list_vacant,list_total)]\n",
        "occupied = [str((occupied/total)*100)+' %' for occupied, total in zip(list_occupied, list_total)]\n",
        "final_df = pd.DataFrame(list(zip(year,Vacant, occupied)), columns =['Year','Vacant Housing Units', 'Occupied Housing Units'])\n",
        "final_df"
      ],
      "execution_count": 9,
      "outputs": [
        {
          "output_type": "execute_result",
          "data": {
            "text/html": [
              "<div>\n",
              "<style scoped>\n",
              "    .dataframe tbody tr th:only-of-type {\n",
              "        vertical-align: middle;\n",
              "    }\n",
              "\n",
              "    .dataframe tbody tr th {\n",
              "        vertical-align: top;\n",
              "    }\n",
              "\n",
              "    .dataframe thead th {\n",
              "        text-align: right;\n",
              "    }\n",
              "</style>\n",
              "<table border=\"1\" class=\"dataframe\">\n",
              "  <thead>\n",
              "    <tr style=\"text-align: right;\">\n",
              "      <th></th>\n",
              "      <th>Year</th>\n",
              "      <th>Vacant Housing Units</th>\n",
              "      <th>Occupied Housing Units</th>\n",
              "    </tr>\n",
              "  </thead>\n",
              "  <tbody>\n",
              "    <tr>\n",
              "      <th>0</th>\n",
              "      <td>2008</td>\n",
              "      <td>10.88265281351653 %</td>\n",
              "      <td>89.11734718648347 %</td>\n",
              "    </tr>\n",
              "    <tr>\n",
              "      <th>1</th>\n",
              "      <td>2009</td>\n",
              "      <td>9.07111572444872 %</td>\n",
              "      <td>90.92888427555128 %</td>\n",
              "    </tr>\n",
              "    <tr>\n",
              "      <th>2</th>\n",
              "      <td>2010</td>\n",
              "      <td>8.142556337081672 %</td>\n",
              "      <td>91.85744366291833 %</td>\n",
              "    </tr>\n",
              "    <tr>\n",
              "      <th>3</th>\n",
              "      <td>2011</td>\n",
              "      <td>9.379522229890688 %</td>\n",
              "      <td>90.6204777701093 %</td>\n",
              "    </tr>\n",
              "    <tr>\n",
              "      <th>4</th>\n",
              "      <td>2012</td>\n",
              "      <td>6.677600230491346 %</td>\n",
              "      <td>93.32239976950866 %</td>\n",
              "    </tr>\n",
              "    <tr>\n",
              "      <th>5</th>\n",
              "      <td>2013</td>\n",
              "      <td>8.801787504176412 %</td>\n",
              "      <td>91.19821249582358 %</td>\n",
              "    </tr>\n",
              "    <tr>\n",
              "      <th>6</th>\n",
              "      <td>2014</td>\n",
              "      <td>5.730110570363885 %</td>\n",
              "      <td>94.26988942963611 %</td>\n",
              "    </tr>\n",
              "  </tbody>\n",
              "</table>\n",
              "</div>"
            ],
            "text/plain": [
              "   Year Vacant Housing Units Occupied Housing Units\n",
              "0  2008  10.88265281351653 %    89.11734718648347 %\n",
              "1  2009   9.07111572444872 %    90.92888427555128 %\n",
              "2  2010  8.142556337081672 %    91.85744366291833 %\n",
              "3  2011  9.379522229890688 %     90.6204777701093 %\n",
              "4  2012  6.677600230491346 %    93.32239976950866 %\n",
              "5  2013  8.801787504176412 %    91.19821249582358 %\n",
              "6  2014  5.730110570363885 %    94.26988942963611 %"
            ]
          },
          "metadata": {
            "tags": []
          },
          "execution_count": 9
        }
      ]
    },
    {
      "cell_type": "markdown",
      "metadata": {
        "id": "wrZ3ymVi7Dc7",
        "colab_type": "text"
      },
      "source": [
        "**Question 4.3**"
      ]
    },
    {
      "cell_type": "code",
      "metadata": {
        "id": "jup0TY0JxkFz",
        "colab_type": "code",
        "colab": {
          "base_uri": "https://localhost:8080/",
          "height": 67
        },
        "outputId": "028e6711-ba74-4a0d-e8bc-21a3d8c853c8"
      },
      "source": [
        "df_vacant = housing_df[housing_df['title_field'] == 'Vacant Housing Units']\n",
        "max_df = pd.concat([df_occupied[df_occupied['value'] == df_occupied['value'].max()],df_vacant[df_vacant['value'] == df_vacant['value'].max()]])\n",
        "print(max_df[['title_field','year','value']])"
      ],
      "execution_count": 10,
      "outputs": [
        {
          "output_type": "stream",
          "text": [
            "               title_field  year  value\n",
            "2   Occupied Housing Units  2014  46295\n",
            "19    Vacant Housing Units  2008   4483\n"
          ],
          "name": "stdout"
        }
      ]
    },
    {
      "cell_type": "markdown",
      "metadata": {
        "id": "wHnTg2PK7GG_",
        "colab_type": "text"
      },
      "source": [
        "**Question 4.4**"
      ]
    },
    {
      "cell_type": "code",
      "metadata": {
        "id": "AnkfOCq-x-o8",
        "colab_type": "code",
        "colab": {
          "base_uri": "https://localhost:8080/",
          "height": 34
        },
        "outputId": "0a65efc0-9d03-46e0-b7ae-75ca96e30487"
      },
      "source": [
        "from scipy import stats\n",
        "print('Harmonic mean of total housing units is {0}'.format(stats.hmean(list_total)))"
      ],
      "execution_count": 11,
      "outputs": [
        {
          "output_type": "stream",
          "text": [
            "Harmonic mean of total housing units is 44398.28543969185\n"
          ],
          "name": "stdout"
        }
      ]
    },
    {
      "cell_type": "code",
      "metadata": {
        "id": "Wz6NKQyc1EeT",
        "colab_type": "code",
        "colab": {}
      },
      "source": [
        ""
      ],
      "execution_count": null,
      "outputs": []
    }
  ]
}