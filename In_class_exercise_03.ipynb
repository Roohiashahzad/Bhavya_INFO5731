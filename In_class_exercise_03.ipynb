{
  "nbformat": 4,
  "nbformat_minor": 0,
  "metadata": {
    "kernelspec": {
      "display_name": "Python 3",
      "language": "python",
      "name": "python3"
    },
    "language_info": {
      "codemirror_mode": {
        "name": "ipython",
        "version": 3
      },
      "file_extension": ".py",
      "mimetype": "text/x-python",
      "name": "python",
      "nbconvert_exporter": "python",
      "pygments_lexer": "ipython3",
      "version": "3.7.4"
    },
    "colab": {
      "name": "In-class-exercise-03.ipynb",
      "provenance": [],
      "include_colab_link": true
    }
  },
  "cells": [
    {
      "cell_type": "markdown",
      "metadata": {
        "id": "view-in-github",
        "colab_type": "text"
      },
      "source": [
        "<a href=\"https://colab.research.google.com/github/bhavya2810/Bhavya_INFO5731/blob/master/In_class_exercise_03.ipynb\" target=\"_parent\"><img src=\"https://colab.research.google.com/assets/colab-badge.svg\" alt=\"Open In Colab\"/></a>"
      ]
    },
    {
      "cell_type": "markdown",
      "metadata": {
        "id": "Cybd2iJg05FR",
        "colab_type": "text"
      },
      "source": [
        "## The third In-class-exercise (9/16/2020, 20 points in total)"
      ]
    },
    {
      "cell_type": "markdown",
      "metadata": {
        "id": "Y1LqGduE05FS",
        "colab_type": "text"
      },
      "source": [
        "The purpose of this exercise is to under users' information needs, then collect the data for analysis."
      ]
    },
    {
      "cell_type": "markdown",
      "metadata": {
        "id": "N_gkPHih05FS",
        "colab_type": "text"
      },
      "source": [
        "Question 1 (8 points): Describe an interesting research question (or practical question) you have in mind, what kind of data should be collected to answer the question(s)? How many data needed for the analysis? The detail steps for collecting and save the data. "
      ]
    },
    {
      "cell_type": "code",
      "metadata": {
        "id": "WunU3RqS05FT",
        "colab_type": "code",
        "colab": {}
      },
      "source": [
        "# Your answer here (no code for this question, write down your answer as detail as possible for the above questions):\n",
        "\n",
        "'''\n",
        "Research question - What is the review of Nokia Andriod smart TV. Whether it has positive reviews or negative reviews.\n",
        "Data required for this research is reviews of the customer who already bought the TV. Ecommerce website contains the reviews of the product. I have choosen the flipkart to\n",
        "collect the reviews of the Nokia Andriod smart TV. We can analyze the reviews by considering the words in them that is whether the user customer has written in a positive way\n",
        "or negative way. We need minimum 500 reviews to get nearly accurate results.\n",
        "\n",
        "Steps for Collecting and Saving Data:\n",
        "I have used the BeautifulSoup library to extract the information from the website.\n",
        "I have extracted the reviews by using the classname and then appended to the empty list.\n",
        "To extract 500 reviews I have itearted 50 times as each page contains 10 reviews and I have generated the url dynamically while iterating\n",
        "Then created a dataframe form the list and then converted dataframe to csv\n",
        "\n",
        "\n",
        "\n",
        "\n",
        "'''"
      ],
      "execution_count": null,
      "outputs": []
    },
    {
      "cell_type": "markdown",
      "metadata": {
        "id": "Slyn2AWb05FV",
        "colab_type": "text"
      },
      "source": [
        "Question 2 (12 points): Write python code to collect 500 items of the data you plan to collect above."
      ]
    },
    {
      "cell_type": "code",
      "metadata": {
        "id": "ylVqvYS605FV",
        "colab_type": "code",
        "colab": {
          "base_uri": "https://localhost:8080/",
          "height": 418
        },
        "outputId": "0304c57a-ae9c-4a8b-df46-fd0b52aedccc"
      },
      "source": [
        "import requests\n",
        "from bs4 import BeautifulSoup\n",
        "import pandas as pd\n",
        "main_text = [] # List to store Review headings\n",
        "sub_text =[] #List to store reviews\n",
        "for number in range(52):\n",
        "  link = \"https://www.flipkart.com/nokia-139cm-55-inch-ultra-hd-4k-led-smart-android-tv-sound-jbl/product-reviews/itmffvfvyztsmfmq?pid=TVSFFVFVJEGZ3R5H&lid=LSTTVSFFVFVJEGZ3R5HW9DJ5W&marketplace=FLIPKART&page=\" + str(number) # Generating link dynamically\n",
        "  page = requests.get(link) # Accessing the webpage\n",
        "  soup = BeautifulSoup(page.text, 'html.parser')\n",
        "  main_reviews = soup.find_all(class_='_2xg6Ul') # Getting the Review Heading by using the class name\n",
        "  text_reviews = soup.find_all(class_='qwjRop') # Getting the full reviews by using the class name\n",
        "  for ele, sub_ele in zip(main_reviews, text_reviews) : # Iterating through the list\n",
        "      main_text.append(ele.text) #Appending to empty list\n",
        "      sub_text.append(sub_ele.text)\n",
        "df = pd.DataFrame(list(zip(main_text, sub_text)), columns =['Glimpse of Review', 'Full Review'])  # Creating Dataframe\n",
        "print(\"Length of data frame is {0}\".format(len(df)))\n",
        "df\n",
        "\n"
      ],
      "execution_count": 3,
      "outputs": [
        {
          "output_type": "stream",
          "text": [
            "Length of data frame is 510\n"
          ],
          "name": "stdout"
        },
        {
          "output_type": "execute_result",
          "data": {
            "text/html": [
              "<div>\n",
              "<style scoped>\n",
              "    .dataframe tbody tr th:only-of-type {\n",
              "        vertical-align: middle;\n",
              "    }\n",
              "\n",
              "    .dataframe tbody tr th {\n",
              "        vertical-align: top;\n",
              "    }\n",
              "\n",
              "    .dataframe thead th {\n",
              "        text-align: right;\n",
              "    }\n",
              "</style>\n",
              "<table border=\"1\" class=\"dataframe\">\n",
              "  <thead>\n",
              "    <tr style=\"text-align: right;\">\n",
              "      <th></th>\n",
              "      <th>Glimpse of Review</th>\n",
              "      <th>Full Review</th>\n",
              "    </tr>\n",
              "  </thead>\n",
              "  <tbody>\n",
              "    <tr>\n",
              "      <th>0</th>\n",
              "      <td>Review from Technology Gyan: Almost everything...</td>\n",
              "      <td>This 55\" 4K Nokia TV at this price point comes...</td>\n",
              "    </tr>\n",
              "    <tr>\n",
              "      <th>1</th>\n",
              "      <td>Terrific purchase</td>\n",
              "      <td>This might seem to be awkward, but this is the...</td>\n",
              "    </tr>\n",
              "    <tr>\n",
              "      <th>2</th>\n",
              "      <td>Brilliant</td>\n",
              "      <td>I must say it is best decision to by Nokia TV....</td>\n",
              "    </tr>\n",
              "    <tr>\n",
              "      <th>3</th>\n",
              "      <td>Best in the market!</td>\n",
              "      <td>Flipcart delivered the Product in less than 24...</td>\n",
              "    </tr>\n",
              "    <tr>\n",
              "      <th>4</th>\n",
              "      <td>Pretty good</td>\n",
              "      <td>Pros1) Picture Quality is good, micro dimming ...</td>\n",
              "    </tr>\n",
              "    <tr>\n",
              "      <th>...</th>\n",
              "      <td>...</td>\n",
              "      <td>...</td>\n",
              "    </tr>\n",
              "    <tr>\n",
              "      <th>505</th>\n",
              "      <td>Very poor</td>\n",
              "      <td>Not installed even after 4 days can't give any...</td>\n",
              "    </tr>\n",
              "    <tr>\n",
              "      <th>506</th>\n",
              "      <td>Highly recommended</td>\n",
              "      <td>Sound is great JBL . Each and every beat you c...</td>\n",
              "    </tr>\n",
              "    <tr>\n",
              "      <th>507</th>\n",
              "      <td>Awesome</td>\n",
              "      <td>After update of software, not finding any issu...</td>\n",
              "    </tr>\n",
              "    <tr>\n",
              "      <th>508</th>\n",
              "      <td>Excellent</td>\n",
              "      <td>This smart tv is bang for the buck and you won...</td>\n",
              "    </tr>\n",
              "    <tr>\n",
              "      <th>509</th>\n",
              "      <td>Does the job</td>\n",
              "      <td>Few white patches visible on display panel aft...</td>\n",
              "    </tr>\n",
              "  </tbody>\n",
              "</table>\n",
              "<p>510 rows × 2 columns</p>\n",
              "</div>"
            ],
            "text/plain": [
              "                                     Glimpse of Review                                        Full Review\n",
              "0    Review from Technology Gyan: Almost everything...  This 55\" 4K Nokia TV at this price point comes...\n",
              "1                                    Terrific purchase  This might seem to be awkward, but this is the...\n",
              "2                                            Brilliant  I must say it is best decision to by Nokia TV....\n",
              "3                                  Best in the market!  Flipcart delivered the Product in less than 24...\n",
              "4                                          Pretty good  Pros1) Picture Quality is good, micro dimming ...\n",
              "..                                                 ...                                                ...\n",
              "505                                          Very poor  Not installed even after 4 days can't give any...\n",
              "506                                 Highly recommended  Sound is great JBL . Each and every beat you c...\n",
              "507                                            Awesome  After update of software, not finding any issu...\n",
              "508                                          Excellent  This smart tv is bang for the buck and you won...\n",
              "509                                       Does the job  Few white patches visible on display panel aft...\n",
              "\n",
              "[510 rows x 2 columns]"
            ]
          },
          "metadata": {
            "tags": []
          },
          "execution_count": 3
        }
      ]
    },
    {
      "cell_type": "code",
      "metadata": {
        "id": "_B8yaQHnx90t",
        "colab_type": "code",
        "colab": {}
      },
      "source": [
        "df.to_csv('data.csv', index=False) #Converting to csv file from dataframe"
      ],
      "execution_count": 4,
      "outputs": []
    },
    {
      "cell_type": "code",
      "metadata": {
        "id": "xSx7oAzCzQ6W",
        "colab_type": "code",
        "colab": {}
      },
      "source": [
        ""
      ],
      "execution_count": null,
      "outputs": []
    }
  ]
}