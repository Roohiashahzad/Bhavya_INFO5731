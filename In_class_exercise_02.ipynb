{
  "nbformat": 4,
  "nbformat_minor": 0,
  "metadata": {
    "colab": {
      "name": "In_class_exercise_02.ipynb",
      "provenance": [],
      "collapsed_sections": [],
      "include_colab_link": true
    },
    "kernelspec": {
      "display_name": "Python 3",
      "language": "python",
      "name": "python3"
    },
    "language_info": {
      "codemirror_mode": {
        "name": "ipython",
        "version": 3
      },
      "file_extension": ".py",
      "mimetype": "text/x-python",
      "name": "python",
      "nbconvert_exporter": "python",
      "pygments_lexer": "ipython3",
      "version": "3.7.4"
    }
  },
  "cells": [
    {
      "cell_type": "markdown",
      "metadata": {
        "id": "view-in-github",
        "colab_type": "text"
      },
      "source": [
        "<a href=\"https://colab.research.google.com/github/bhavya2810/Bhavya_INFO5731/blob/master/In_class_exercise_02.ipynb\" target=\"_parent\"><img src=\"https://colab.research.google.com/assets/colab-badge.svg\" alt=\"Open In Colab\"/></a>"
      ]
    },
    {
      "cell_type": "markdown",
      "metadata": {
        "colab_type": "text",
        "id": "oo5bsEh2eeWi"
      },
      "source": [
        "# **The second In-class-exercise (9/9/2020, 20 points in total)**\n"
      ]
    },
    {
      "cell_type": "markdown",
      "metadata": {
        "colab_type": "text",
        "id": "2sPQ58dIeqgp"
      },
      "source": [
        "(1) Write a Python program to find the duplicate elements in a given array of integers. Return -1 If there are no such elements. (4 points)"
      ]
    },
    {
      "cell_type": "code",
      "metadata": {
        "colab_type": "code",
        "id": "mnrvKMFTeoJR",
        "colab": {
          "base_uri": "https://localhost:8080/",
          "height": 50
        },
        "outputId": "96ed755c-0d2d-4110-9997-c134673603c8"
      },
      "source": [
        "def check_duplicates(input):\n",
        "    duplicates = []\n",
        "    for value in range(len(input)):\n",
        "        next = value + 1\n",
        "        for num in range(next, len(input)):\n",
        "            if input[value] == input[num] and input[value] not in duplicates:\n",
        "                duplicates.append(input[value])\n",
        "    if not duplicates:\n",
        "        print(\"No Duplicates.\")\n",
        "        return -1\n",
        "    else:\n",
        "        print(\"Duplicates are:\")\n",
        "        return duplicates\n",
        "    \n",
        "input_array = [1,2,3,7,1,2,4,5,7,8,10]\n",
        "print(check_duplicates(input_array)) "
      ],
      "execution_count": 1,
      "outputs": [
        {
          "output_type": "stream",
          "text": [
            "Duplicates are:\n",
            "[1, 2, 7]\n"
          ],
          "name": "stdout"
        }
      ]
    },
    {
      "cell_type": "markdown",
      "metadata": {
        "colab_type": "text",
        "id": "YYrH6n6IhZoQ"
      },
      "source": [
        "(2) Write a Python program to select all the Sundays of a specified year. (4 points)\n",
        "\n"
      ]
    },
    {
      "cell_type": "code",
      "metadata": {
        "colab_type": "code",
        "id": "OSfPLd23eLpX",
        "colab": {
          "base_uri": "https://localhost:8080/",
          "height": 907
        },
        "outputId": "51148605-1fb0-472c-a4c3-dd430c88cb90"
      },
      "source": [
        "from datetime import date, timedelta\n",
        "\n",
        "def sundays_in_year(year):\n",
        "    jan_1st_year = date(year, 1, 1)      \n",
        "    jan_1st_year += timedelta(days = 6 - jan_1st_year.weekday())  \n",
        "    while jan_1st_year.year == year:\n",
        "        yield jan_1st_year\n",
        "        jan_1st_year += timedelta(days = 7)\n",
        "\n",
        "year = int(input(\"Enter the year:\"))          \n",
        "for value in sundays_in_year(year):\n",
        "    print(value)"
      ],
      "execution_count": 3,
      "outputs": [
        {
          "output_type": "stream",
          "text": [
            "Enter the year:2019\n",
            "2019-01-06\n",
            "2019-01-13\n",
            "2019-01-20\n",
            "2019-01-27\n",
            "2019-02-03\n",
            "2019-02-10\n",
            "2019-02-17\n",
            "2019-02-24\n",
            "2019-03-03\n",
            "2019-03-10\n",
            "2019-03-17\n",
            "2019-03-24\n",
            "2019-03-31\n",
            "2019-04-07\n",
            "2019-04-14\n",
            "2019-04-21\n",
            "2019-04-28\n",
            "2019-05-05\n",
            "2019-05-12\n",
            "2019-05-19\n",
            "2019-05-26\n",
            "2019-06-02\n",
            "2019-06-09\n",
            "2019-06-16\n",
            "2019-06-23\n",
            "2019-06-30\n",
            "2019-07-07\n",
            "2019-07-14\n",
            "2019-07-21\n",
            "2019-07-28\n",
            "2019-08-04\n",
            "2019-08-11\n",
            "2019-08-18\n",
            "2019-08-25\n",
            "2019-09-01\n",
            "2019-09-08\n",
            "2019-09-15\n",
            "2019-09-22\n",
            "2019-09-29\n",
            "2019-10-06\n",
            "2019-10-13\n",
            "2019-10-20\n",
            "2019-10-27\n",
            "2019-11-03\n",
            "2019-11-10\n",
            "2019-11-17\n",
            "2019-11-24\n",
            "2019-12-01\n",
            "2019-12-08\n",
            "2019-12-15\n",
            "2019-12-22\n",
            "2019-12-29\n"
          ],
          "name": "stdout"
        }
      ]
    },
    {
      "cell_type": "markdown",
      "metadata": {
        "colab_type": "text",
        "id": "UIpziZ6Sjie-"
      },
      "source": [
        "(3) Python files reading and writing. Download the “[exercise_02_data _collection.zip](https://github.com/unt-iialab/INFO5731_FALL2020/blob/master/In_class_exercise/exercise_02_data_collection.zip)” to your local and un-zip it.\n",
        "\n",
        "*   Write a program to read all the txt files and save the sentences in all the files into one csv file with two columns, the first column is sentence id (txt file name+sentence line number), the second column is the sentence text content. (4 points)\n",
        "*   Remove all the punctuations from the sentences, save the processed sentences into a new column in the same csv file. (4 points)\n",
        "*   Ask the user to enter a word, return all the sentences that include this word, three kinds of information should be returned: sentence id, sentence text content, the count that user input word appear in the sentence. (4 points)\n",
        "\n"
      ]
    },
    {
      "cell_type": "code",
      "metadata": {
        "colab_type": "code",
        "id": "f3CUsrWOj1Xy",
        "colab": {
          "resources": {
            "http://localhost:8080/nbextensions/google.colab/files.js": {
              "data": "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",
              "ok": true,
              "headers": [
                [
                  "content-type",
                  "application/javascript"
                ]
              ],
              "status": 200,
              "status_text": ""
            }
          },
          "base_uri": "https://localhost:8080/",
          "height": 1000
        },
        "outputId": "9465cd29-2c8e-4335-ee7a-75a9d7d25067"
      },
      "source": [
        "from google.colab import files\n",
        "uploaded = files.upload()"
      ],
      "execution_count": 4,
      "outputs": [
        {
          "output_type": "display_data",
          "data": {
            "text/html": [
              "\n",
              "     <input type=\"file\" id=\"files-7b68f27e-18a9-4a06-bb22-0f435af7d6be\" name=\"files[]\" multiple disabled\n",
              "        style=\"border:none\" />\n",
              "     <output id=\"result-7b68f27e-18a9-4a06-bb22-0f435af7d6be\">\n",
              "      Upload widget is only available when the cell has been executed in the\n",
              "      current browser session. Please rerun this cell to enable.\n",
              "      </output>\n",
              "      <script src=\"/nbextensions/google.colab/files.js\"></script> "
            ],
            "text/plain": [
              "<IPython.core.display.HTML object>"
            ]
          },
          "metadata": {
            "tags": []
          }
        },
        {
          "output_type": "stream",
          "text": [
            "Saving ARTHROTEC.1.txt to ARTHROTEC.1.txt\n",
            "Saving ARTHROTEC.2.txt to ARTHROTEC.2.txt\n",
            "Saving ARTHROTEC.3.txt to ARTHROTEC.3.txt\n",
            "Saving ARTHROTEC.4.txt to ARTHROTEC.4.txt\n",
            "Saving ARTHROTEC.5.txt to ARTHROTEC.5.txt\n",
            "Saving ARTHROTEC.6.txt to ARTHROTEC.6.txt\n",
            "Saving ARTHROTEC.7.txt to ARTHROTEC.7.txt\n",
            "Saving ARTHROTEC.8.txt to ARTHROTEC.8.txt\n",
            "Saving ARTHROTEC.9.txt to ARTHROTEC.9.txt\n",
            "Saving ARTHROTEC.10.txt to ARTHROTEC.10.txt\n",
            "Saving ARTHROTEC.11.txt to ARTHROTEC.11.txt\n",
            "Saving ARTHROTEC.12.txt to ARTHROTEC.12.txt\n",
            "Saving ARTHROTEC.13.txt to ARTHROTEC.13.txt\n",
            "Saving ARTHROTEC.14.txt to ARTHROTEC.14.txt\n",
            "Saving ARTHROTEC.15.txt to ARTHROTEC.15.txt\n",
            "Saving ARTHROTEC.16.txt to ARTHROTEC.16.txt\n",
            "Saving ARTHROTEC.17.txt to ARTHROTEC.17.txt\n",
            "Saving ARTHROTEC.18.txt to ARTHROTEC.18.txt\n",
            "Saving ARTHROTEC.19.txt to ARTHROTEC.19.txt\n",
            "Saving ARTHROTEC.20.txt to ARTHROTEC.20.txt\n",
            "Saving ARTHROTEC.21.txt to ARTHROTEC.21.txt\n",
            "Saving ARTHROTEC.22.txt to ARTHROTEC.22.txt\n",
            "Saving ARTHROTEC.23.txt to ARTHROTEC.23.txt\n",
            "Saving ARTHROTEC.24.txt to ARTHROTEC.24.txt\n",
            "Saving ARTHROTEC.25.txt to ARTHROTEC.25.txt\n",
            "Saving ARTHROTEC.26.txt to ARTHROTEC.26.txt\n",
            "Saving ARTHROTEC.27.txt to ARTHROTEC.27.txt\n",
            "Saving ARTHROTEC.28.txt to ARTHROTEC.28.txt\n",
            "Saving ARTHROTEC.29.txt to ARTHROTEC.29.txt\n",
            "Saving ARTHROTEC.30.txt to ARTHROTEC.30.txt\n",
            "Saving ARTHROTEC.31.txt to ARTHROTEC.31.txt\n",
            "Saving ARTHROTEC.32.txt to ARTHROTEC.32.txt\n",
            "Saving ARTHROTEC.33.txt to ARTHROTEC.33.txt\n",
            "Saving ARTHROTEC.34.txt to ARTHROTEC.34.txt\n",
            "Saving ARTHROTEC.35.txt to ARTHROTEC.35.txt\n",
            "Saving ARTHROTEC.36.txt to ARTHROTEC.36.txt\n",
            "Saving ARTHROTEC.37.txt to ARTHROTEC.37.txt\n",
            "Saving ARTHROTEC.38.txt to ARTHROTEC.38.txt\n",
            "Saving ARTHROTEC.39.txt to ARTHROTEC.39.txt\n",
            "Saving ARTHROTEC.40.txt to ARTHROTEC.40.txt\n",
            "Saving ARTHROTEC.41.txt to ARTHROTEC.41.txt\n",
            "Saving ARTHROTEC.42.txt to ARTHROTEC.42.txt\n",
            "Saving ARTHROTEC.43.txt to ARTHROTEC.43.txt\n",
            "Saving ARTHROTEC.44.txt to ARTHROTEC.44.txt\n",
            "Saving ARTHROTEC.45.txt to ARTHROTEC.45.txt\n",
            "Saving ARTHROTEC.46.txt to ARTHROTEC.46.txt\n",
            "Saving ARTHROTEC.47.txt to ARTHROTEC.47.txt\n",
            "Saving ARTHROTEC.48.txt to ARTHROTEC.48.txt\n",
            "Saving ARTHROTEC.49.txt to ARTHROTEC.49.txt\n",
            "Saving ARTHROTEC.50.txt to ARTHROTEC.50.txt\n",
            "Saving ARTHROTEC.51.txt to ARTHROTEC.51.txt\n",
            "Saving ARTHROTEC.52.txt to ARTHROTEC.52.txt\n",
            "Saving ARTHROTEC.53.txt to ARTHROTEC.53.txt\n",
            "Saving ARTHROTEC.54.txt to ARTHROTEC.54.txt\n",
            "Saving ARTHROTEC.55.txt to ARTHROTEC.55.txt\n",
            "Saving ARTHROTEC.56.txt to ARTHROTEC.56.txt\n",
            "Saving ARTHROTEC.57.txt to ARTHROTEC.57.txt\n",
            "Saving ARTHROTEC.58.txt to ARTHROTEC.58.txt\n",
            "Saving ARTHROTEC.59.txt to ARTHROTEC.59.txt\n",
            "Saving ARTHROTEC.60.txt to ARTHROTEC.60.txt\n",
            "Saving ARTHROTEC.61.txt to ARTHROTEC.61.txt\n",
            "Saving ARTHROTEC.62.txt to ARTHROTEC.62.txt\n",
            "Saving ARTHROTEC.63.txt to ARTHROTEC.63.txt\n",
            "Saving ARTHROTEC.64.txt to ARTHROTEC.64.txt\n",
            "Saving ARTHROTEC.65.txt to ARTHROTEC.65.txt\n",
            "Saving ARTHROTEC.66.txt to ARTHROTEC.66.txt\n",
            "Saving ARTHROTEC.67.txt to ARTHROTEC.67.txt\n",
            "Saving ARTHROTEC.68.txt to ARTHROTEC.68.txt\n",
            "Saving ARTHROTEC.69.txt to ARTHROTEC.69.txt\n",
            "Saving ARTHROTEC.70.txt to ARTHROTEC.70.txt\n",
            "Saving ARTHROTEC.71.txt to ARTHROTEC.71.txt\n",
            "Saving ARTHROTEC.72.txt to ARTHROTEC.72.txt\n",
            "Saving ARTHROTEC.73.txt to ARTHROTEC.73.txt\n",
            "Saving ARTHROTEC.74.txt to ARTHROTEC.74.txt\n",
            "Saving ARTHROTEC.75.txt to ARTHROTEC.75.txt\n",
            "Saving ARTHROTEC.76.txt to ARTHROTEC.76.txt\n",
            "Saving ARTHROTEC.77.txt to ARTHROTEC.77.txt\n",
            "Saving ARTHROTEC.78.txt to ARTHROTEC.78.txt\n",
            "Saving ARTHROTEC.79.txt to ARTHROTEC.79.txt\n",
            "Saving ARTHROTEC.80.txt to ARTHROTEC.80.txt\n",
            "Saving ARTHROTEC.81.txt to ARTHROTEC.81.txt\n",
            "Saving ARTHROTEC.82.txt to ARTHROTEC.82.txt\n",
            "Saving ARTHROTEC.83.txt to ARTHROTEC.83.txt\n",
            "Saving ARTHROTEC.84.txt to ARTHROTEC.84.txt\n",
            "Saving ARTHROTEC.85.txt to ARTHROTEC.85.txt\n",
            "Saving ARTHROTEC.86.txt to ARTHROTEC.86.txt\n",
            "Saving ARTHROTEC.87.txt to ARTHROTEC.87.txt\n",
            "Saving ARTHROTEC.88.txt to ARTHROTEC.88.txt\n",
            "Saving ARTHROTEC.89.txt to ARTHROTEC.89.txt\n",
            "Saving ARTHROTEC.90.txt to ARTHROTEC.90.txt\n",
            "Saving ARTHROTEC.91.txt to ARTHROTEC.91.txt\n",
            "Saving ARTHROTEC.92.txt to ARTHROTEC.92.txt\n",
            "Saving ARTHROTEC.93.txt to ARTHROTEC.93.txt\n",
            "Saving ARTHROTEC.94.txt to ARTHROTEC.94.txt\n",
            "Saving ARTHROTEC.95.txt to ARTHROTEC.95.txt\n",
            "Saving ARTHROTEC.96.txt to ARTHROTEC.96.txt\n",
            "Saving ARTHROTEC.97.txt to ARTHROTEC.97.txt\n",
            "Saving ARTHROTEC.98.txt to ARTHROTEC.98.txt\n",
            "Saving ARTHROTEC.99.txt to ARTHROTEC.99.txt\n",
            "Saving ARTHROTEC.100.txt to ARTHROTEC.100.txt\n"
          ],
          "name": "stdout"
        }
      ]
    },
    {
      "cell_type": "code",
      "metadata": {
        "id": "jHUKoOVPqIPZ",
        "colab_type": "code",
        "colab": {}
      },
      "source": [
        "import pandas as pd\n",
        "sentence_id = []\n",
        "sentence = []\n",
        "for files in uploaded:\n",
        "  with open(files, 'r') as file:\n",
        "    content = file.read()\n",
        "    split_content = content.splitlines()\n",
        "    for line_number in range(len(split_content)):\n",
        "      sentence_id.append(files + '_' +str(line_number))\n",
        "      sentence.append(split_content[line_number])\n",
        "df = pd.DataFrame(list(zip(sentence_id, sentence)), \n",
        "               columns =['Sentence ID', 'Sentence'])\n",
        "df.to_csv('output_file.csv', index = False)"
      ],
      "execution_count": 23,
      "outputs": []
    },
    {
      "cell_type": "code",
      "metadata": {
        "id": "-ykiSSJlxrOl",
        "colab_type": "code",
        "colab": {
          "base_uri": "https://localhost:8080/",
          "height": 402
        },
        "outputId": "55fcab6b-1c1d-4b4e-acba-c129693b058e"
      },
      "source": [
        "import string\n",
        "df['After Punctuation Removal'] = df['Sentence'].apply(lambda x:''.join([i for i in x \n",
        "                                                  if i not in string.punctuation]))\n",
        "df.to_csv('output_file.csv', index = False)\n",
        "df"
      ],
      "execution_count": 31,
      "outputs": [
        {
          "output_type": "execute_result",
          "data": {
            "text/html": [
              "<div>\n",
              "<style scoped>\n",
              "    .dataframe tbody tr th:only-of-type {\n",
              "        vertical-align: middle;\n",
              "    }\n",
              "\n",
              "    .dataframe tbody tr th {\n",
              "        vertical-align: top;\n",
              "    }\n",
              "\n",
              "    .dataframe thead th {\n",
              "        text-align: right;\n",
              "    }\n",
              "</style>\n",
              "<table border=\"1\" class=\"dataframe\">\n",
              "  <thead>\n",
              "    <tr style=\"text-align: right;\">\n",
              "      <th></th>\n",
              "      <th>Sentence ID</th>\n",
              "      <th>Sentence</th>\n",
              "      <th>After Punctuation Removal</th>\n",
              "    </tr>\n",
              "  </thead>\n",
              "  <tbody>\n",
              "    <tr>\n",
              "      <th>0</th>\n",
              "      <td>ARTHROTEC.1.txt_0</td>\n",
              "      <td>I feel a bit drowsy &amp; have a little blurred vi...</td>\n",
              "      <td>I feel a bit drowsy  have a little blurred vis...</td>\n",
              "    </tr>\n",
              "    <tr>\n",
              "      <th>1</th>\n",
              "      <td>ARTHROTEC.1.txt_1</td>\n",
              "      <td>I've been on Arthrotec 50 for over 10 years on...</td>\n",
              "      <td>Ive been on Arthrotec 50 for over 10 years on ...</td>\n",
              "    </tr>\n",
              "    <tr>\n",
              "      <th>2</th>\n",
              "      <td>ARTHROTEC.1.txt_2</td>\n",
              "      <td>Due to my arthritis getting progressively wors...</td>\n",
              "      <td>Due to my arthritis getting progressively wors...</td>\n",
              "    </tr>\n",
              "    <tr>\n",
              "      <th>3</th>\n",
              "      <td>ARTHROTEC.1.txt_3</td>\n",
              "      <td>every day for the next month to see how I get ...</td>\n",
              "      <td>every day for the next month to see how I get ...</td>\n",
              "    </tr>\n",
              "    <tr>\n",
              "      <th>4</th>\n",
              "      <td>ARTHROTEC.1.txt_4</td>\n",
              "      <td>So far its been very good, pains almost gone, ...</td>\n",
              "      <td>So far its been very good pains almost gone bu...</td>\n",
              "    </tr>\n",
              "    <tr>\n",
              "      <th>...</th>\n",
              "      <td>...</td>\n",
              "      <td>...</td>\n",
              "      <td>...</td>\n",
              "    </tr>\n",
              "    <tr>\n",
              "      <th>530</th>\n",
              "      <td>ARTHROTEC.100.txt_3</td>\n",
              "      <td>canker sores in my mouth.</td>\n",
              "      <td>canker sores in my mouth</td>\n",
              "    </tr>\n",
              "    <tr>\n",
              "      <th>531</th>\n",
              "      <td>ARTHROTEC.100.txt_4</td>\n",
              "      <td>headache.</td>\n",
              "      <td>headache</td>\n",
              "    </tr>\n",
              "    <tr>\n",
              "      <th>532</th>\n",
              "      <td>ARTHROTEC.100.txt_5</td>\n",
              "      <td>been off for 1 week still have bleeding.</td>\n",
              "      <td>been off for 1 week still have bleeding</td>\n",
              "    </tr>\n",
              "    <tr>\n",
              "      <th>533</th>\n",
              "      <td>ARTHROTEC.100.txt_6</td>\n",
              "      <td>helped my pain alot .</td>\n",
              "      <td>helped my pain alot</td>\n",
              "    </tr>\n",
              "    <tr>\n",
              "      <th>534</th>\n",
              "      <td>ARTHROTEC.100.txt_7</td>\n",
              "      <td>too scared to take this drug again.</td>\n",
              "      <td>too scared to take this drug again</td>\n",
              "    </tr>\n",
              "  </tbody>\n",
              "</table>\n",
              "<p>535 rows × 3 columns</p>\n",
              "</div>"
            ],
            "text/plain": [
              "             Sentence ID  ...                          After Punctuation Removal\n",
              "0      ARTHROTEC.1.txt_0  ...  I feel a bit drowsy  have a little blurred vis...\n",
              "1      ARTHROTEC.1.txt_1  ...  Ive been on Arthrotec 50 for over 10 years on ...\n",
              "2      ARTHROTEC.1.txt_2  ...  Due to my arthritis getting progressively wors...\n",
              "3      ARTHROTEC.1.txt_3  ...  every day for the next month to see how I get ...\n",
              "4      ARTHROTEC.1.txt_4  ...  So far its been very good pains almost gone bu...\n",
              "..                   ...  ...                                                ...\n",
              "530  ARTHROTEC.100.txt_3  ...                           canker sores in my mouth\n",
              "531  ARTHROTEC.100.txt_4  ...                                           headache\n",
              "532  ARTHROTEC.100.txt_5  ...            been off for 1 week still have bleeding\n",
              "533  ARTHROTEC.100.txt_6  ...                               helped my pain alot \n",
              "534  ARTHROTEC.100.txt_7  ...                 too scared to take this drug again\n",
              "\n",
              "[535 rows x 3 columns]"
            ]
          },
          "metadata": {
            "tags": []
          },
          "execution_count": 31
        }
      ]
    },
    {
      "cell_type": "code",
      "metadata": {
        "id": "7YlSTkCZvLFj",
        "colab_type": "code",
        "colab": {
          "base_uri": "https://localhost:8080/",
          "height": 1000
        },
        "outputId": "8629b437-57f3-4c71-8e1a-3e1bda0af6f3"
      },
      "source": [
        "word_2_search = input(\"Please enter word to search\")\n",
        "result_df =df[df['Sentence'].str.contains(word_2_search,na=False)]\n",
        "final_df = result_df[['Sentence ID', 'Sentence']]\n",
        "final_df['Count of Occurance'] = df['Sentence'].apply(lambda x: x.count(word_2_search))\n",
        "final_df"
      ],
      "execution_count": 38,
      "outputs": [
        {
          "output_type": "stream",
          "text": [
            "Please enter word to searchtime\n"
          ],
          "name": "stdout"
        },
        {
          "output_type": "execute_result",
          "data": {
            "text/html": [
              "<div>\n",
              "<style scoped>\n",
              "    .dataframe tbody tr th:only-of-type {\n",
              "        vertical-align: middle;\n",
              "    }\n",
              "\n",
              "    .dataframe tbody tr th {\n",
              "        vertical-align: top;\n",
              "    }\n",
              "\n",
              "    .dataframe thead th {\n",
              "        text-align: right;\n",
              "    }\n",
              "</style>\n",
              "<table border=\"1\" class=\"dataframe\">\n",
              "  <thead>\n",
              "    <tr style=\"text-align: right;\">\n",
              "      <th></th>\n",
              "      <th>Sentence ID</th>\n",
              "      <th>Sentence</th>\n",
              "      <th>Count of Occurance</th>\n",
              "    </tr>\n",
              "  </thead>\n",
              "  <tbody>\n",
              "    <tr>\n",
              "      <th>23</th>\n",
              "      <td>ARTHROTEC.5.txt_2</td>\n",
              "      <td>Instead of taking the pill 2X daily, as prescr...</td>\n",
              "      <td>2</td>\n",
              "    </tr>\n",
              "    <tr>\n",
              "      <th>25</th>\n",
              "      <td>ARTHROTEC.5.txt_4</td>\n",
              "      <td>At the time this was prescribed the doctor was...</td>\n",
              "      <td>1</td>\n",
              "    </tr>\n",
              "    <tr>\n",
              "      <th>27</th>\n",
              "      <td>ARTHROTEC.6.txt_0</td>\n",
              "      <td>It began with stomach pain,then slight nausea,...</td>\n",
              "      <td>1</td>\n",
              "    </tr>\n",
              "    <tr>\n",
              "      <th>30</th>\n",
              "      <td>ARTHROTEC.6.txt_3</td>\n",
              "      <td>The only good thing I can say about Arthrotec ...</td>\n",
              "      <td>1</td>\n",
              "    </tr>\n",
              "    <tr>\n",
              "      <th>55</th>\n",
              "      <td>ARTHROTEC.12.txt_1</td>\n",
              "      <td>I am taking it only 1 time per day because of ...</td>\n",
              "      <td>1</td>\n",
              "    </tr>\n",
              "    <tr>\n",
              "      <th>67</th>\n",
              "      <td>ARTHROTEC.15.txt_1</td>\n",
              "      <td>Many unscheduled washroom stops over the time ...</td>\n",
              "      <td>1</td>\n",
              "    </tr>\n",
              "    <tr>\n",
              "      <th>83</th>\n",
              "      <td>ARTHROTEC.16.txt_8</td>\n",
              "      <td>Next time I'll try my luck with Paracetamol.</td>\n",
              "      <td>1</td>\n",
              "    </tr>\n",
              "    <tr>\n",
              "      <th>189</th>\n",
              "      <td>ARTHROTEC.32.txt_0</td>\n",
              "      <td>the first pill i took it caused severe abdomin...</td>\n",
              "      <td>1</td>\n",
              "    </tr>\n",
              "    <tr>\n",
              "      <th>194</th>\n",
              "      <td>ARTHROTEC.34.txt_0</td>\n",
              "      <td>Bleeding mini periods, lightheaded some time, ...</td>\n",
              "      <td>1</td>\n",
              "    </tr>\n",
              "    <tr>\n",
              "      <th>196</th>\n",
              "      <td>ARTHROTEC.35.txt_1</td>\n",
              "      <td>My menstrual cycle is completely out of whack,...</td>\n",
              "      <td>1</td>\n",
              "    </tr>\n",
              "    <tr>\n",
              "      <th>225</th>\n",
              "      <td>ARTHROTEC.40.txt_4</td>\n",
              "      <td>A friend of mine developed an ulcer after only...</td>\n",
              "      <td>1</td>\n",
              "    </tr>\n",
              "    <tr>\n",
              "      <th>236</th>\n",
              "      <td>ARTHROTEC.41.txt_5</td>\n",
              "      <td>Every time I stand up I have to hold onto some...</td>\n",
              "      <td>1</td>\n",
              "    </tr>\n",
              "    <tr>\n",
              "      <th>245</th>\n",
              "      <td>ARTHROTEC.42.txt_6</td>\n",
              "      <td>It continued each time I took it.</td>\n",
              "      <td>1</td>\n",
              "    </tr>\n",
              "    <tr>\n",
              "      <th>276</th>\n",
              "      <td>ARTHROTEC.48.txt_4</td>\n",
              "      <td>i am in need of a knee replacement, but in mea...</td>\n",
              "      <td>1</td>\n",
              "    </tr>\n",
              "    <tr>\n",
              "      <th>291</th>\n",
              "      <td>ARTHROTEC.50.txt_9</td>\n",
              "      <td>I danced at a wedding this weekend for the fir...</td>\n",
              "      <td>1</td>\n",
              "    </tr>\n",
              "    <tr>\n",
              "      <th>301</th>\n",
              "      <td>ARTHROTEC.55.txt_0</td>\n",
              "      <td>I have nothing yet just took it my first time,...</td>\n",
              "      <td>1</td>\n",
              "    </tr>\n",
              "    <tr>\n",
              "      <th>318</th>\n",
              "      <td>ARTHROTEC.59.txt_2</td>\n",
              "      <td>I took it 3 times: the first for 3 days, then ...</td>\n",
              "      <td>1</td>\n",
              "    </tr>\n",
              "    <tr>\n",
              "      <th>319</th>\n",
              "      <td>ARTHROTEC.59.txt_3</td>\n",
              "      <td>My doctor told me the symptoms had to go away ...</td>\n",
              "      <td>1</td>\n",
              "    </tr>\n",
              "    <tr>\n",
              "      <th>324</th>\n",
              "      <td>ARTHROTEC.59.txt_8</td>\n",
              "      <td>More problems and this time I had the ideo to ...</td>\n",
              "      <td>1</td>\n",
              "    </tr>\n",
              "    <tr>\n",
              "      <th>340</th>\n",
              "      <td>ARTHROTEC.62.txt_0</td>\n",
              "      <td>none with light stomich ake sometimes.</td>\n",
              "      <td>1</td>\n",
              "    </tr>\n",
              "    <tr>\n",
              "      <th>341</th>\n",
              "      <td>ARTHROTEC.62.txt_1</td>\n",
              "      <td>a little shortness of breath at times.</td>\n",
              "      <td>1</td>\n",
              "    </tr>\n",
              "    <tr>\n",
              "      <th>343</th>\n",
              "      <td>ARTHROTEC.62.txt_3</td>\n",
              "      <td>i had a back operation 20 years ago and my tim...</td>\n",
              "      <td>1</td>\n",
              "    </tr>\n",
              "    <tr>\n",
              "      <th>356</th>\n",
              "      <td>ARTHROTEC.63.txt_1</td>\n",
              "      <td>I took it 3 times: the first for 3 days, then ...</td>\n",
              "      <td>1</td>\n",
              "    </tr>\n",
              "    <tr>\n",
              "      <th>357</th>\n",
              "      <td>ARTHROTEC.63.txt_2</td>\n",
              "      <td>My doctor told me the symptoms had to go away ...</td>\n",
              "      <td>1</td>\n",
              "    </tr>\n",
              "    <tr>\n",
              "      <th>362</th>\n",
              "      <td>ARTHROTEC.63.txt_7</td>\n",
              "      <td>More problems and this time I had the ideo to ...</td>\n",
              "      <td>1</td>\n",
              "    </tr>\n",
              "    <tr>\n",
              "      <th>366</th>\n",
              "      <td>ARTHROTEC.64.txt_3</td>\n",
              "      <td>however, i do experience stomach pain from tim...</td>\n",
              "      <td>2</td>\n",
              "    </tr>\n",
              "    <tr>\n",
              "      <th>383</th>\n",
              "      <td>ARTHROTEC.68.txt_4</td>\n",
              "      <td>Aside from the stomach pain, it worked miracle...</td>\n",
              "      <td>1</td>\n",
              "    </tr>\n",
              "    <tr>\n",
              "      <th>409</th>\n",
              "      <td>ARTHROTEC.74.txt_1</td>\n",
              "      <td>I take ARTHROTEC 50 every day, sometimes BID a...</td>\n",
              "      <td>1</td>\n",
              "    </tr>\n",
              "    <tr>\n",
              "      <th>412</th>\n",
              "      <td>ARTHROTEC.75.txt_0</td>\n",
              "      <td>Vaginal bleeding when it was not time for my p...</td>\n",
              "      <td>1</td>\n",
              "    </tr>\n",
              "    <tr>\n",
              "      <th>419</th>\n",
              "      <td>ARTHROTEC.76.txt_3</td>\n",
              "      <td>Taking all at same time now,pain is too great!</td>\n",
              "      <td>1</td>\n",
              "    </tr>\n",
              "    <tr>\n",
              "      <th>493</th>\n",
              "      <td>ARTHROTEC.93.txt_2</td>\n",
              "      <td>Tried many others, this seemed to work best fo...</td>\n",
              "      <td>1</td>\n",
              "    </tr>\n",
              "    <tr>\n",
              "      <th>498</th>\n",
              "      <td>ARTHROTEC.94.txt_0</td>\n",
              "      <td>Experienced excruciating, unusual abdominal pa...</td>\n",
              "      <td>1</td>\n",
              "    </tr>\n",
              "    <tr>\n",
              "      <th>506</th>\n",
              "      <td>ARTHROTEC.96.txt_0</td>\n",
              "      <td>For the first week I took one pill at bedtime,...</td>\n",
              "      <td>1</td>\n",
              "    </tr>\n",
              "    <tr>\n",
              "      <th>515</th>\n",
              "      <td>ARTHROTEC.97.txt_0</td>\n",
              "      <td>The symptoms got progressively worse with time.</td>\n",
              "      <td>1</td>\n",
              "    </tr>\n",
              "  </tbody>\n",
              "</table>\n",
              "</div>"
            ],
            "text/plain": [
              "            Sentence ID  ... Count of Occurance\n",
              "23    ARTHROTEC.5.txt_2  ...                  2\n",
              "25    ARTHROTEC.5.txt_4  ...                  1\n",
              "27    ARTHROTEC.6.txt_0  ...                  1\n",
              "30    ARTHROTEC.6.txt_3  ...                  1\n",
              "55   ARTHROTEC.12.txt_1  ...                  1\n",
              "67   ARTHROTEC.15.txt_1  ...                  1\n",
              "83   ARTHROTEC.16.txt_8  ...                  1\n",
              "189  ARTHROTEC.32.txt_0  ...                  1\n",
              "194  ARTHROTEC.34.txt_0  ...                  1\n",
              "196  ARTHROTEC.35.txt_1  ...                  1\n",
              "225  ARTHROTEC.40.txt_4  ...                  1\n",
              "236  ARTHROTEC.41.txt_5  ...                  1\n",
              "245  ARTHROTEC.42.txt_6  ...                  1\n",
              "276  ARTHROTEC.48.txt_4  ...                  1\n",
              "291  ARTHROTEC.50.txt_9  ...                  1\n",
              "301  ARTHROTEC.55.txt_0  ...                  1\n",
              "318  ARTHROTEC.59.txt_2  ...                  1\n",
              "319  ARTHROTEC.59.txt_3  ...                  1\n",
              "324  ARTHROTEC.59.txt_8  ...                  1\n",
              "340  ARTHROTEC.62.txt_0  ...                  1\n",
              "341  ARTHROTEC.62.txt_1  ...                  1\n",
              "343  ARTHROTEC.62.txt_3  ...                  1\n",
              "356  ARTHROTEC.63.txt_1  ...                  1\n",
              "357  ARTHROTEC.63.txt_2  ...                  1\n",
              "362  ARTHROTEC.63.txt_7  ...                  1\n",
              "366  ARTHROTEC.64.txt_3  ...                  2\n",
              "383  ARTHROTEC.68.txt_4  ...                  1\n",
              "409  ARTHROTEC.74.txt_1  ...                  1\n",
              "412  ARTHROTEC.75.txt_0  ...                  1\n",
              "419  ARTHROTEC.76.txt_3  ...                  1\n",
              "493  ARTHROTEC.93.txt_2  ...                  1\n",
              "498  ARTHROTEC.94.txt_0  ...                  1\n",
              "506  ARTHROTEC.96.txt_0  ...                  1\n",
              "515  ARTHROTEC.97.txt_0  ...                  1\n",
              "\n",
              "[34 rows x 3 columns]"
            ]
          },
          "metadata": {
            "tags": []
          },
          "execution_count": 38
        }
      ]
    },
    {
      "cell_type": "markdown",
      "metadata": {
        "colab_type": "text",
        "id": "-12cqmJEpZOh"
      },
      "source": [
        "(4) Install packages nltk, numpy, scipy, pandas, and sklearn on Google Colab. Write a program to test whether they are installed successfully. (3 points for extra)"
      ]
    },
    {
      "cell_type": "code",
      "metadata": {
        "colab_type": "code",
        "id": "f1pn1Zl2qK77",
        "colab": {
          "base_uri": "https://localhost:8080/",
          "height": 1000
        },
        "outputId": "43bba797-7696-45e8-dc43-b17edcc16cfb"
      },
      "source": [
        "import nltk\n",
        "nltk.download()"
      ],
      "execution_count": 40,
      "outputs": [
        {
          "output_type": "stream",
          "text": [
            "NLTK Downloader\n",
            "---------------------------------------------------------------------------\n",
            "    d) Download   l) List    u) Update   c) Config   h) Help   q) Quit\n",
            "---------------------------------------------------------------------------\n",
            "Downloader> d\n",
            "\n",
            "Download which package (l=list; x=cancel)?\n",
            "  Identifier> all\n",
            "    Downloading collection 'all'\n",
            "       | \n",
            "       | Downloading package abc to /root/nltk_data...\n",
            "       |   Unzipping corpora/abc.zip.\n",
            "       | Downloading package alpino to /root/nltk_data...\n",
            "       |   Unzipping corpora/alpino.zip.\n",
            "       | Downloading package biocreative_ppi to /root/nltk_data...\n",
            "       |   Unzipping corpora/biocreative_ppi.zip.\n",
            "       | Downloading package brown to /root/nltk_data...\n",
            "       |   Unzipping corpora/brown.zip.\n",
            "       | Downloading package brown_tei to /root/nltk_data...\n",
            "       |   Unzipping corpora/brown_tei.zip.\n",
            "       | Downloading package cess_cat to /root/nltk_data...\n",
            "       |   Unzipping corpora/cess_cat.zip.\n",
            "       | Downloading package cess_esp to /root/nltk_data...\n",
            "       |   Unzipping corpora/cess_esp.zip.\n",
            "       | Downloading package chat80 to /root/nltk_data...\n",
            "       |   Unzipping corpora/chat80.zip.\n",
            "       | Downloading package city_database to /root/nltk_data...\n",
            "       |   Unzipping corpora/city_database.zip.\n",
            "       | Downloading package cmudict to /root/nltk_data...\n",
            "       |   Unzipping corpora/cmudict.zip.\n",
            "       | Downloading package comparative_sentences to\n",
            "       |     /root/nltk_data...\n",
            "       |   Unzipping corpora/comparative_sentences.zip.\n",
            "       | Downloading package comtrans to /root/nltk_data...\n",
            "       | Downloading package conll2000 to /root/nltk_data...\n",
            "       |   Unzipping corpora/conll2000.zip.\n",
            "       | Downloading package conll2002 to /root/nltk_data...\n",
            "       |   Unzipping corpora/conll2002.zip.\n",
            "       | Downloading package conll2007 to /root/nltk_data...\n",
            "       | Downloading package crubadan to /root/nltk_data...\n",
            "       |   Unzipping corpora/crubadan.zip.\n",
            "       | Downloading package dependency_treebank to /root/nltk_data...\n",
            "       |   Unzipping corpora/dependency_treebank.zip.\n",
            "       | Downloading package dolch to /root/nltk_data...\n",
            "       |   Unzipping corpora/dolch.zip.\n",
            "       | Downloading package europarl_raw to /root/nltk_data...\n",
            "       |   Unzipping corpora/europarl_raw.zip.\n",
            "       | Downloading package floresta to /root/nltk_data...\n",
            "       |   Unzipping corpora/floresta.zip.\n",
            "       | Downloading package framenet_v15 to /root/nltk_data...\n",
            "       |   Unzipping corpora/framenet_v15.zip.\n",
            "       | Downloading package framenet_v17 to /root/nltk_data...\n",
            "       |   Unzipping corpora/framenet_v17.zip.\n",
            "       | Downloading package gazetteers to /root/nltk_data...\n",
            "       |   Unzipping corpora/gazetteers.zip.\n",
            "       | Downloading package genesis to /root/nltk_data...\n",
            "       |   Unzipping corpora/genesis.zip.\n",
            "       | Downloading package gutenberg to /root/nltk_data...\n",
            "       |   Unzipping corpora/gutenberg.zip.\n",
            "       | Downloading package ieer to /root/nltk_data...\n",
            "       |   Unzipping corpora/ieer.zip.\n",
            "       | Downloading package inaugural to /root/nltk_data...\n",
            "       |   Unzipping corpora/inaugural.zip.\n",
            "       | Downloading package indian to /root/nltk_data...\n",
            "       |   Unzipping corpora/indian.zip.\n",
            "       | Downloading package jeita to /root/nltk_data...\n",
            "       | Downloading package kimmo to /root/nltk_data...\n",
            "       |   Unzipping corpora/kimmo.zip.\n",
            "       | Downloading package knbc to /root/nltk_data...\n",
            "       | Downloading package lin_thesaurus to /root/nltk_data...\n",
            "       |   Unzipping corpora/lin_thesaurus.zip.\n",
            "       | Downloading package mac_morpho to /root/nltk_data...\n",
            "       |   Unzipping corpora/mac_morpho.zip.\n",
            "       | Downloading package machado to /root/nltk_data...\n",
            "       | Downloading package masc_tagged to /root/nltk_data...\n",
            "       | Downloading package moses_sample to /root/nltk_data...\n",
            "       |   Unzipping models/moses_sample.zip.\n",
            "       | Downloading package movie_reviews to /root/nltk_data...\n",
            "       |   Unzipping corpora/movie_reviews.zip.\n",
            "       | Downloading package names to /root/nltk_data...\n",
            "       |   Unzipping corpora/names.zip.\n",
            "       | Downloading package nombank.1.0 to /root/nltk_data...\n",
            "       | Downloading package nps_chat to /root/nltk_data...\n",
            "       |   Unzipping corpora/nps_chat.zip.\n",
            "       | Downloading package omw to /root/nltk_data...\n",
            "       |   Unzipping corpora/omw.zip.\n",
            "       | Downloading package opinion_lexicon to /root/nltk_data...\n",
            "       |   Unzipping corpora/opinion_lexicon.zip.\n",
            "       | Downloading package paradigms to /root/nltk_data...\n",
            "       |   Unzipping corpora/paradigms.zip.\n",
            "       | Downloading package pil to /root/nltk_data...\n",
            "       |   Unzipping corpora/pil.zip.\n",
            "       | Downloading package pl196x to /root/nltk_data...\n",
            "       |   Unzipping corpora/pl196x.zip.\n",
            "       | Downloading package ppattach to /root/nltk_data...\n",
            "       |   Unzipping corpora/ppattach.zip.\n",
            "       | Downloading package problem_reports to /root/nltk_data...\n",
            "       |   Unzipping corpora/problem_reports.zip.\n",
            "       | Downloading package propbank to /root/nltk_data...\n",
            "       | Downloading package ptb to /root/nltk_data...\n",
            "       |   Unzipping corpora/ptb.zip.\n",
            "       | Downloading package product_reviews_1 to /root/nltk_data...\n",
            "       |   Unzipping corpora/product_reviews_1.zip.\n",
            "       | Downloading package product_reviews_2 to /root/nltk_data...\n",
            "       |   Unzipping corpora/product_reviews_2.zip.\n",
            "       | Downloading package pros_cons to /root/nltk_data...\n",
            "       |   Unzipping corpora/pros_cons.zip.\n",
            "       | Downloading package qc to /root/nltk_data...\n",
            "       |   Unzipping corpora/qc.zip.\n",
            "       | Downloading package reuters to /root/nltk_data...\n",
            "       | Downloading package rte to /root/nltk_data...\n",
            "       |   Unzipping corpora/rte.zip.\n",
            "       | Downloading package semcor to /root/nltk_data...\n",
            "       | Downloading package senseval to /root/nltk_data...\n",
            "       |   Unzipping corpora/senseval.zip.\n",
            "       | Downloading package sentiwordnet to /root/nltk_data...\n",
            "       |   Unzipping corpora/sentiwordnet.zip.\n",
            "       | Downloading package sentence_polarity to /root/nltk_data...\n",
            "       |   Unzipping corpora/sentence_polarity.zip.\n",
            "       | Downloading package shakespeare to /root/nltk_data...\n",
            "       |   Unzipping corpora/shakespeare.zip.\n",
            "       | Downloading package sinica_treebank to /root/nltk_data...\n",
            "       |   Unzipping corpora/sinica_treebank.zip.\n",
            "       | Downloading package smultron to /root/nltk_data...\n",
            "       |   Unzipping corpora/smultron.zip.\n",
            "       | Downloading package state_union to /root/nltk_data...\n",
            "       |   Unzipping corpora/state_union.zip.\n",
            "       | Downloading package stopwords to /root/nltk_data...\n",
            "       |   Unzipping corpora/stopwords.zip.\n",
            "       | Downloading package subjectivity to /root/nltk_data...\n",
            "       |   Unzipping corpora/subjectivity.zip.\n",
            "       | Downloading package swadesh to /root/nltk_data...\n",
            "       |   Unzipping corpora/swadesh.zip.\n",
            "       | Downloading package switchboard to /root/nltk_data...\n",
            "       |   Unzipping corpora/switchboard.zip.\n",
            "       | Downloading package timit to /root/nltk_data...\n",
            "       |   Unzipping corpora/timit.zip.\n",
            "       | Downloading package toolbox to /root/nltk_data...\n",
            "       |   Unzipping corpora/toolbox.zip.\n",
            "       | Downloading package treebank to /root/nltk_data...\n",
            "       |   Unzipping corpora/treebank.zip.\n",
            "       | Downloading package twitter_samples to /root/nltk_data...\n",
            "       |   Unzipping corpora/twitter_samples.zip.\n",
            "       | Downloading package udhr to /root/nltk_data...\n",
            "       |   Unzipping corpora/udhr.zip.\n",
            "       | Downloading package udhr2 to /root/nltk_data...\n",
            "       |   Unzipping corpora/udhr2.zip.\n",
            "       | Downloading package unicode_samples to /root/nltk_data...\n",
            "       |   Unzipping corpora/unicode_samples.zip.\n",
            "       | Downloading package universal_treebanks_v20 to\n",
            "       |     /root/nltk_data...\n",
            "       | Downloading package verbnet to /root/nltk_data...\n",
            "       |   Unzipping corpora/verbnet.zip.\n",
            "       | Downloading package verbnet3 to /root/nltk_data...\n",
            "       |   Unzipping corpora/verbnet3.zip.\n",
            "       | Downloading package webtext to /root/nltk_data...\n",
            "       |   Unzipping corpora/webtext.zip.\n",
            "       | Downloading package wordnet to /root/nltk_data...\n",
            "       |   Unzipping corpora/wordnet.zip.\n",
            "       | Downloading package wordnet_ic to /root/nltk_data...\n",
            "       |   Unzipping corpora/wordnet_ic.zip.\n",
            "       | Downloading package words to /root/nltk_data...\n",
            "       |   Unzipping corpora/words.zip.\n",
            "       | Downloading package ycoe to /root/nltk_data...\n",
            "       |   Unzipping corpora/ycoe.zip.\n",
            "       | Downloading package rslp to /root/nltk_data...\n",
            "       |   Unzipping stemmers/rslp.zip.\n",
            "       | Downloading package maxent_treebank_pos_tagger to\n",
            "       |     /root/nltk_data...\n",
            "       |   Unzipping taggers/maxent_treebank_pos_tagger.zip.\n",
            "       | Downloading package universal_tagset to /root/nltk_data...\n",
            "       |   Unzipping taggers/universal_tagset.zip.\n",
            "       | Downloading package maxent_ne_chunker to /root/nltk_data...\n",
            "       |   Unzipping chunkers/maxent_ne_chunker.zip.\n",
            "       | Downloading package punkt to /root/nltk_data...\n",
            "       |   Unzipping tokenizers/punkt.zip.\n",
            "       | Downloading package book_grammars to /root/nltk_data...\n",
            "       |   Unzipping grammars/book_grammars.zip.\n",
            "       | Downloading package sample_grammars to /root/nltk_data...\n",
            "       |   Unzipping grammars/sample_grammars.zip.\n",
            "       | Downloading package spanish_grammars to /root/nltk_data...\n",
            "       |   Unzipping grammars/spanish_grammars.zip.\n",
            "       | Downloading package basque_grammars to /root/nltk_data...\n",
            "       |   Unzipping grammars/basque_grammars.zip.\n",
            "       | Downloading package large_grammars to /root/nltk_data...\n",
            "       |   Unzipping grammars/large_grammars.zip.\n",
            "       | Downloading package tagsets to /root/nltk_data...\n",
            "       |   Unzipping help/tagsets.zip.\n",
            "       | Downloading package snowball_data to /root/nltk_data...\n",
            "       | Downloading package bllip_wsj_no_aux to /root/nltk_data...\n",
            "       |   Unzipping models/bllip_wsj_no_aux.zip.\n",
            "       | Downloading package word2vec_sample to /root/nltk_data...\n",
            "       |   Unzipping models/word2vec_sample.zip.\n",
            "       | Downloading package panlex_swadesh to /root/nltk_data...\n",
            "       | Downloading package mte_teip5 to /root/nltk_data...\n",
            "       |   Unzipping corpora/mte_teip5.zip.\n",
            "       | Downloading package averaged_perceptron_tagger to\n",
            "       |     /root/nltk_data...\n",
            "       |   Unzipping taggers/averaged_perceptron_tagger.zip.\n",
            "       | Downloading package averaged_perceptron_tagger_ru to\n",
            "       |     /root/nltk_data...\n",
            "       |   Unzipping taggers/averaged_perceptron_tagger_ru.zip.\n",
            "       | Downloading package perluniprops to /root/nltk_data...\n",
            "       |   Unzipping misc/perluniprops.zip.\n",
            "       | Downloading package nonbreaking_prefixes to\n",
            "       |     /root/nltk_data...\n",
            "       |   Unzipping corpora/nonbreaking_prefixes.zip.\n",
            "       | Downloading package vader_lexicon to /root/nltk_data...\n",
            "       | Downloading package porter_test to /root/nltk_data...\n",
            "       |   Unzipping stemmers/porter_test.zip.\n",
            "       | Downloading package wmt15_eval to /root/nltk_data...\n",
            "       |   Unzipping models/wmt15_eval.zip.\n",
            "       | Downloading package mwa_ppdb to /root/nltk_data...\n",
            "       |   Unzipping misc/mwa_ppdb.zip.\n",
            "       | \n",
            "     Done downloading collection all\n",
            "\n",
            "---------------------------------------------------------------------------\n",
            "    d) Download   l) List    u) Update   c) Config   h) Help   q) Quit\n",
            "---------------------------------------------------------------------------\n",
            "Downloader> q\n"
          ],
          "name": "stdout"
        },
        {
          "output_type": "execute_result",
          "data": {
            "text/plain": [
              "True"
            ]
          },
          "metadata": {
            "tags": []
          },
          "execution_count": 40
        }
      ]
    },
    {
      "cell_type": "code",
      "metadata": {
        "id": "U0AH8t4W0ln6",
        "colab_type": "code",
        "colab": {
          "base_uri": "https://localhost:8080/",
          "height": 34
        },
        "outputId": "58c17919-c457-4d62-e4f1-4aaf942a4f01"
      },
      "source": [
        "from nltk.tokenize import word_tokenize\n",
        "text = \"Happy World!!!!\"\n",
        "print(word_tokenize(text))"
      ],
      "execution_count": 41,
      "outputs": [
        {
          "output_type": "stream",
          "text": [
            "['Happy', 'World', '!', '!', '!', '!']\n"
          ],
          "name": "stdout"
        }
      ]
    },
    {
      "cell_type": "code",
      "metadata": {
        "id": "ZuNyRV4r2YGo",
        "colab_type": "code",
        "colab": {
          "base_uri": "https://localhost:8080/",
          "height": 34
        },
        "outputId": "292836d6-0846-4d1d-9034-19d6a897a5b4"
      },
      "source": [
        "pip install numpy"
      ],
      "execution_count": 48,
      "outputs": [
        {
          "output_type": "stream",
          "text": [
            "Requirement already satisfied: numpy in /usr/local/lib/python3.6/dist-packages (1.18.5)\n"
          ],
          "name": "stdout"
        }
      ]
    },
    {
      "cell_type": "code",
      "metadata": {
        "id": "FSgCS_FR1SfQ",
        "colab_type": "code",
        "colab": {
          "base_uri": "https://localhost:8080/",
          "height": 34
        },
        "outputId": "00342dce-64f5-4ab6-a0b8-861d6cc8646f"
      },
      "source": [
        "import numpy as np\n",
        "arr = np.array([1, 2, 3, 4, 5])\n",
        "print(\"Array is {0} and it's type {1}\".format(arr, type(arr)))"
      ],
      "execution_count": 42,
      "outputs": [
        {
          "output_type": "stream",
          "text": [
            "Array is [1 2 3 4 5] and it's type <class 'numpy.ndarray'>\n"
          ],
          "name": "stdout"
        }
      ]
    },
    {
      "cell_type": "code",
      "metadata": {
        "id": "9WyKqCLJ2PPU",
        "colab_type": "code",
        "colab": {
          "base_uri": "https://localhost:8080/",
          "height": 50
        },
        "outputId": "b499f963-9253-491f-8240-7d88773172bf"
      },
      "source": [
        "pip install scipy"
      ],
      "execution_count": 44,
      "outputs": [
        {
          "output_type": "stream",
          "text": [
            "Requirement already satisfied: scipy in /usr/local/lib/python3.6/dist-packages (1.4.1)\n",
            "Requirement already satisfied: numpy>=1.13.3 in /usr/local/lib/python3.6/dist-packages (from scipy) (1.18.5)\n"
          ],
          "name": "stdout"
        }
      ]
    },
    {
      "cell_type": "code",
      "metadata": {
        "id": "FOr3ilvq1rlw",
        "colab_type": "code",
        "colab": {
          "base_uri": "https://localhost:8080/",
          "height": 34
        },
        "outputId": "15f9fd4d-5062-45be-f753-f8f7f9fe6a46"
      },
      "source": [
        "import scipy\n",
        "print(\"sciPy - pi = {0}\".format(scipy.constants.pi))"
      ],
      "execution_count": 47,
      "outputs": [
        {
          "output_type": "stream",
          "text": [
            "sciPy - pi = 3.141592653589793\n"
          ],
          "name": "stdout"
        }
      ]
    },
    {
      "cell_type": "code",
      "metadata": {
        "id": "sSnqXj6v3sMJ",
        "colab_type": "code",
        "colab": {
          "base_uri": "https://localhost:8080/",
          "height": 101
        },
        "outputId": "a0b22b2e-91b6-43bb-e8f4-98bdce696778"
      },
      "source": [
        "pip install pandas"
      ],
      "execution_count": 54,
      "outputs": [
        {
          "output_type": "stream",
          "text": [
            "Requirement already satisfied: pandas in /usr/local/lib/python3.6/dist-packages (1.0.5)\n",
            "Requirement already satisfied: python-dateutil>=2.6.1 in /usr/local/lib/python3.6/dist-packages (from pandas) (2.8.1)\n",
            "Requirement already satisfied: pytz>=2017.2 in /usr/local/lib/python3.6/dist-packages (from pandas) (2018.9)\n",
            "Requirement already satisfied: numpy>=1.13.3 in /usr/local/lib/python3.6/dist-packages (from pandas) (1.18.5)\n",
            "Requirement already satisfied: six>=1.5 in /usr/local/lib/python3.6/dist-packages (from python-dateutil>=2.6.1->pandas) (1.15.0)\n"
          ],
          "name": "stdout"
        }
      ]
    },
    {
      "cell_type": "code",
      "metadata": {
        "id": "HApNO6-g2K4H",
        "colab_type": "code",
        "colab": {
          "base_uri": "https://localhost:8080/",
          "height": 101
        },
        "outputId": "7f6618bb-8d95-4f53-8adb-41d51c137f2d"
      },
      "source": [
        "import pandas as pd\n",
        "series_example = pd.Series(np.array(['a','b','c','d']))\n",
        "print(series_example)"
      ],
      "execution_count": 49,
      "outputs": [
        {
          "output_type": "stream",
          "text": [
            "0    a\n",
            "1    b\n",
            "2    c\n",
            "3    d\n",
            "dtype: object\n"
          ],
          "name": "stdout"
        }
      ]
    },
    {
      "cell_type": "code",
      "metadata": {
        "id": "fUgkblmW2wNz",
        "colab_type": "code",
        "colab": {
          "base_uri": "https://localhost:8080/",
          "height": 101
        },
        "outputId": "7c743505-dd72-4d0f-cba4-fb3d62e9e9d1"
      },
      "source": [
        "pip install sklearn"
      ],
      "execution_count": 50,
      "outputs": [
        {
          "output_type": "stream",
          "text": [
            "Requirement already satisfied: sklearn in /usr/local/lib/python3.6/dist-packages (0.0)\n",
            "Requirement already satisfied: scikit-learn in /usr/local/lib/python3.6/dist-packages (from sklearn) (0.22.2.post1)\n",
            "Requirement already satisfied: joblib>=0.11 in /usr/local/lib/python3.6/dist-packages (from scikit-learn->sklearn) (0.16.0)\n",
            "Requirement already satisfied: numpy>=1.11.0 in /usr/local/lib/python3.6/dist-packages (from scikit-learn->sklearn) (1.18.5)\n",
            "Requirement already satisfied: scipy>=0.17.0 in /usr/local/lib/python3.6/dist-packages (from scikit-learn->sklearn) (1.4.1)\n"
          ],
          "name": "stdout"
        }
      ]
    },
    {
      "cell_type": "code",
      "metadata": {
        "id": "5ocz1fQE241f",
        "colab_type": "code",
        "colab": {
          "base_uri": "https://localhost:8080/",
          "height": 34
        },
        "outputId": "a39c7014-5f84-463e-a33e-7190de51e97b"
      },
      "source": [
        "from sklearn import datasets\n",
        "digits = datasets.load_digits()\n",
        "digits.target"
      ],
      "execution_count": 53,
      "outputs": [
        {
          "output_type": "execute_result",
          "data": {
            "text/plain": [
              "array([0, 1, 2, ..., 8, 9, 8])"
            ]
          },
          "metadata": {
            "tags": []
          },
          "execution_count": 53
        }
      ]
    },
    {
      "cell_type": "code",
      "metadata": {
        "id": "ZCWvzmcz3UlY",
        "colab_type": "code",
        "colab": {}
      },
      "source": [
        ""
      ],
      "execution_count": null,
      "outputs": []
    }
  ]
}